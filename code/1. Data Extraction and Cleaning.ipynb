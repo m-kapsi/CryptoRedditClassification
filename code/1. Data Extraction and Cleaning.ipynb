{
 "cells": [
  {
   "cell_type": "markdown",
   "metadata": {},
   "source": [
    "# Classification of 'CryptoCurrency' and 'Stocks' Subreddits"
   ]
  },
  {
   "cell_type": "markdown",
   "metadata": {},
   "source": [
    "# Part 1: Data Extraction and Data Cleaning"
   ]
  },
  {
   "cell_type": "markdown",
   "metadata": {},
   "source": [
    "## Problem Statement"
   ]
  },
  {
   "cell_type": "markdown",
   "metadata": {},
   "source": [
    "The goal of this project is to build a binary classification model to predict if a post on reddit belongs to the \"CryptoCurrency\" or \"Stocks\" subreddit. The model will be considered successful if both the F1 score and sensitivity are above 90%.\n",
    "\n",
    "Additionally, the project aims to provide insights on the key words and phrases that people use when discussing cryptocurrency on reddit, which could be used to develop a more effective marketing campaign for cryptocurrency. "
   ]
  },
  {
   "cell_type": "markdown",
   "metadata": {},
   "source": [
    "### Contents\n",
    "1. [Background](#1.-Background)\n",
    "2. [Data Extraction](#2.-Data-Extraction)\n",
    "3. [Data Cleaning](#3.-Data-Cleaning)\n",
    "4. [NLP Pre-Processing](#4.-NLP-Pre-Processing)"
   ]
  },
  {
   "cell_type": "markdown",
   "metadata": {},
   "source": [
    "## 1. Background"
   ]
  },
  {
   "cell_type": "markdown",
   "metadata": {},
   "source": [
    "CryptoGo is a FinTech startup that sells cryptocurrency products. They are looking to expand their customer base by running an online marketing campaign on the social media platform, Reddit. With a limited budget, CryptoGo wants to target their advertisements to all users on Reddit who have already expressed some interest in cryptocurrency and would therefore be more likely to invest in cryptocurrency products.\n",
    "\n",
    "CryptoGo would like to leverage on Reddit's subreddit targeting model to ensure they are getting the relevant ads to the communities most interested in cryptocurrency. CryptoGo has already identified the \"CryptoCurrency\" subreddit as one of the subreddits they are looking to target. The \"CryptoCurrency\" subreddit is an active subreddit with over 3 million members posting news and discussions on cryptocurrency.\n",
    "\n",
    "In order to identify similar posts across Reddit, CryptoGo has tasked its Data Science team to build a classification model that can predict whether or not a post belongs to the CryptoCurrency subreddit with at least a 90% sensitivity and F1 score. The team will build a binary classification model to identify whether a post belongs to the \"CryptoCurrency\" or \"Stocks\" subreddit. The \"Stocks\" subreddit is another active subreddit with over 2.8 million members. As the \"Stocks\" subreddit is also related to a popular financial product, training the model to predict whether a post belongs to \"CryptoCurrency\" or \"Stocks\" will allow CryptoGo to identify more relevant, cryptocurrency affiliated posts across Reddit than if the model was trained using a non-financial subreddit. This model can then be used to identify other posts on Reddit with a similar interest in cryptocurrency so CryptoGo can expand their marketing to other subreddits. \n",
    "\n",
    "Additionally, CryptoGo is looking to identify key words and phrases that people use when discussing cryptocurrency on social media, which will help them understand the market sentiment and develop their marketing campaign more effectively. \n",
    "\n"
   ]
  },
  {
   "cell_type": "markdown",
   "metadata": {},
   "source": [
    "## 2. Data Extraction"
   ]
  },
  {
   "cell_type": "code",
   "execution_count": 2,
   "metadata": {},
   "outputs": [],
   "source": [
    "# import libraries\n",
    "import requests\n",
    "import pandas as pd\n",
    "import numpy as np\n",
    "import pickle\n",
    "\n",
    "from datetime import datetime\n",
    "from nltk.stem import WordNetLemmatizer\n",
    "from nltk.tokenize import RegexpTokenizer\n",
    "from nltk.corpus import stopwords\n",
    "import re\n",
    "import contractions"
   ]
  },
  {
   "cell_type": "code",
   "execution_count": 4,
   "metadata": {},
   "outputs": [],
   "source": [
    "# function to pull n posts from a specific subreddit\n",
    "def get_reddit(subreddit, n_samples, verbose = False): \n",
    "    url = 'https://api.pushshift.io/reddit/search/submission'\n",
    "    params = {\n",
    "    'subreddit': subreddit,\n",
    "    'size':(n_samples if n_samples <= 100 else 100)}\n",
    "    \n",
    "    res = requests.get(url,params)\n",
    "    data = res.json()\n",
    "    df_final = pd.DataFrame(data['data'])\n",
    "    \n",
    "    count = n_samples if n_samples <= 100 else 100\n",
    "    n = n_samples - 100\n",
    "    \n",
    "    while n > 0:\n",
    "        if (verbose == True) & (count%100 == 0):\n",
    "            print(f'{count} rows generated')\n",
    "                \n",
    "        params = {\n",
    "        'subreddit': subreddit,\n",
    "        'size':(n if n <= 100 else 100),\n",
    "        'before':data['data'][99]['created_utc'] - 700000 # 100 posts every 8 days\n",
    "        }\n",
    "        res = requests.get(url, params)\n",
    "        data = res.json()\n",
    "        df = pd.DataFrame(data['data'])\n",
    "        df_final = df_final.append(df)\n",
    "        n -= 100\n",
    "        count += 100\n",
    "    df_final = df_final.reset_index(drop=True)\n",
    "    return df_final"
   ]
  },
  {
   "cell_type": "markdown",
   "metadata": {},
   "source": [
    "- The function will pull 100 posts from a given subreddit every 8 days from the current data\n",
    "- Therefore pulling 5000 extracts from each subreddit should give roughly a year's worth of data\n",
    "- By pulling data from different weeks and different days of the week, the data will be less skewed towards current events/hot topics or repetitive weekly posts, so the model will be better at identifying future cryptocurrency posts (when the news cycle is different)"
   ]
  },
  {
   "cell_type": "code",
   "execution_count": 17,
   "metadata": {},
   "outputs": [],
   "source": [
    "# create dataframe for 5000 extracts from Cryptocurrency sub\n",
    "df_crypto = get_reddit('CryptoCurrency', 5000)\n",
    "\n",
    "# create dataframe for 5000 extracts from Stocks sub\n",
    "df_stocks = get_reddit('stocks', 5000)"
   ]
  },
  {
   "cell_type": "code",
   "execution_count": 18,
   "metadata": {},
   "outputs": [
    {
     "data": {
      "text/plain": [
       "(5000, 86)"
      ]
     },
     "execution_count": 18,
     "metadata": {},
     "output_type": "execute_result"
    }
   ],
   "source": [
    "# check shape of crypto extract\n",
    "df_crypto.shape"
   ]
  },
  {
   "cell_type": "code",
   "execution_count": 57,
   "metadata": {},
   "outputs": [
    {
     "name": "stdout",
     "output_type": "stream",
     "text": [
      "start date:2020-05-01 12:32:32\n",
      "end date:2021-06-23 16:57:53\n"
     ]
    }
   ],
   "source": [
    "# check extract dates\n",
    "start = int(df_crypto['created_utc'][4999])\n",
    "end = int(df_crypto['created_utc'][0])\n",
    "print(f'start date:{datetime.fromtimestamp(start)}')\n",
    "print(f'end date:{datetime.fromtimestamp(end)}')"
   ]
  },
  {
   "cell_type": "markdown",
   "metadata": {},
   "source": [
    "- Posts are from 1 May 2020 to 23 June 2021"
   ]
  },
  {
   "cell_type": "code",
   "execution_count": 58,
   "metadata": {},
   "outputs": [
    {
     "data": {
      "text/html": [
       "<div>\n",
       "<style scoped>\n",
       "    .dataframe tbody tr th:only-of-type {\n",
       "        vertical-align: middle;\n",
       "    }\n",
       "\n",
       "    .dataframe tbody tr th {\n",
       "        vertical-align: top;\n",
       "    }\n",
       "\n",
       "    .dataframe thead th {\n",
       "        text-align: right;\n",
       "    }\n",
       "</style>\n",
       "<table border=\"1\" class=\"dataframe\">\n",
       "  <thead>\n",
       "    <tr style=\"text-align: right;\">\n",
       "      <th></th>\n",
       "      <th>all_awardings</th>\n",
       "      <th>allow_live_comments</th>\n",
       "      <th>author</th>\n",
       "      <th>author_flair_background_color</th>\n",
       "      <th>author_flair_css_class</th>\n",
       "      <th>author_flair_richtext</th>\n",
       "      <th>author_flair_text</th>\n",
       "      <th>author_flair_text_color</th>\n",
       "      <th>author_flair_type</th>\n",
       "      <th>author_fullname</th>\n",
       "      <th>...</th>\n",
       "      <th>discussion_type</th>\n",
       "      <th>suggested_sort</th>\n",
       "      <th>crosspost_parent</th>\n",
       "      <th>crosspost_parent_list</th>\n",
       "      <th>banned_by</th>\n",
       "      <th>edited</th>\n",
       "      <th>gallery_data</th>\n",
       "      <th>is_gallery</th>\n",
       "      <th>poll_data</th>\n",
       "      <th>gilded</th>\n",
       "    </tr>\n",
       "  </thead>\n",
       "  <tbody>\n",
       "    <tr>\n",
       "      <th>0</th>\n",
       "      <td>[]</td>\n",
       "      <td>False</td>\n",
       "      <td>PoojaaPriyaa</td>\n",
       "      <td></td>\n",
       "      <td>Transitioning</td>\n",
       "      <td>[{'e': 'text', 't': ' '}]</td>\n",
       "      <td></td>\n",
       "      <td>dark</td>\n",
       "      <td>richtext</td>\n",
       "      <td>t2_ac4s8rai</td>\n",
       "      <td>...</td>\n",
       "      <td>NaN</td>\n",
       "      <td>NaN</td>\n",
       "      <td>NaN</td>\n",
       "      <td>NaN</td>\n",
       "      <td>NaN</td>\n",
       "      <td>NaN</td>\n",
       "      <td>NaN</td>\n",
       "      <td>NaN</td>\n",
       "      <td>NaN</td>\n",
       "      <td>NaN</td>\n",
       "    </tr>\n",
       "    <tr>\n",
       "      <th>1</th>\n",
       "      <td>[]</td>\n",
       "      <td>False</td>\n",
       "      <td>nbloglinks</td>\n",
       "      <td></td>\n",
       "      <td>Warning-level3</td>\n",
       "      <td>[{'e': 'text', 't': '1 - 2 years account age. ...</td>\n",
       "      <td>1 - 2 years account age. -15 - 35 comment karma.</td>\n",
       "      <td>dark</td>\n",
       "      <td>richtext</td>\n",
       "      <td>t2_7zsy6ax8</td>\n",
       "      <td>...</td>\n",
       "      <td>NaN</td>\n",
       "      <td>NaN</td>\n",
       "      <td>NaN</td>\n",
       "      <td>NaN</td>\n",
       "      <td>NaN</td>\n",
       "      <td>NaN</td>\n",
       "      <td>NaN</td>\n",
       "      <td>NaN</td>\n",
       "      <td>NaN</td>\n",
       "      <td>NaN</td>\n",
       "    </tr>\n",
       "    <tr>\n",
       "      <th>2</th>\n",
       "      <td>[]</td>\n",
       "      <td>False</td>\n",
       "      <td>Dwez1337</td>\n",
       "      <td></td>\n",
       "      <td>Warning-level2</td>\n",
       "      <td>[{'e': 'text', 't': 'Tin'}]</td>\n",
       "      <td>Tin</td>\n",
       "      <td>dark</td>\n",
       "      <td>richtext</td>\n",
       "      <td>t2_1agc3zqz</td>\n",
       "      <td>...</td>\n",
       "      <td>NaN</td>\n",
       "      <td>NaN</td>\n",
       "      <td>NaN</td>\n",
       "      <td>NaN</td>\n",
       "      <td>NaN</td>\n",
       "      <td>NaN</td>\n",
       "      <td>NaN</td>\n",
       "      <td>NaN</td>\n",
       "      <td>NaN</td>\n",
       "      <td>NaN</td>\n",
       "    </tr>\n",
       "    <tr>\n",
       "      <th>3</th>\n",
       "      <td>[]</td>\n",
       "      <td>False</td>\n",
       "      <td>Ok_Alternative6359</td>\n",
       "      <td></td>\n",
       "      <td>Warning-level3</td>\n",
       "      <td>[{'e': 'text', 't': '1 - 2 years account age. ...</td>\n",
       "      <td>1 - 2 years account age. -15 - 35 comment karma.</td>\n",
       "      <td>dark</td>\n",
       "      <td>richtext</td>\n",
       "      <td>t2_4qpi40yg</td>\n",
       "      <td>...</td>\n",
       "      <td>NaN</td>\n",
       "      <td>NaN</td>\n",
       "      <td>NaN</td>\n",
       "      <td>NaN</td>\n",
       "      <td>NaN</td>\n",
       "      <td>NaN</td>\n",
       "      <td>NaN</td>\n",
       "      <td>NaN</td>\n",
       "      <td>NaN</td>\n",
       "      <td>NaN</td>\n",
       "    </tr>\n",
       "    <tr>\n",
       "      <th>4</th>\n",
       "      <td>[]</td>\n",
       "      <td>False</td>\n",
       "      <td>ShillCoinMafia</td>\n",
       "      <td>NaN</td>\n",
       "      <td>None</td>\n",
       "      <td>[]</td>\n",
       "      <td>None</td>\n",
       "      <td>NaN</td>\n",
       "      <td>text</td>\n",
       "      <td>t2_cvzi3ust</td>\n",
       "      <td>...</td>\n",
       "      <td>NaN</td>\n",
       "      <td>NaN</td>\n",
       "      <td>NaN</td>\n",
       "      <td>NaN</td>\n",
       "      <td>NaN</td>\n",
       "      <td>NaN</td>\n",
       "      <td>NaN</td>\n",
       "      <td>NaN</td>\n",
       "      <td>NaN</td>\n",
       "      <td>NaN</td>\n",
       "    </tr>\n",
       "  </tbody>\n",
       "</table>\n",
       "<p>5 rows × 86 columns</p>\n",
       "</div>"
      ],
      "text/plain": [
       "  all_awardings  allow_live_comments              author  \\\n",
       "0            []                False        PoojaaPriyaa   \n",
       "1            []                False          nbloglinks   \n",
       "2            []                False            Dwez1337   \n",
       "3            []                False  Ok_Alternative6359   \n",
       "4            []                False      ShillCoinMafia   \n",
       "\n",
       "  author_flair_background_color author_flair_css_class  \\\n",
       "0                                        Transitioning   \n",
       "1                                       Warning-level3   \n",
       "2                                       Warning-level2   \n",
       "3                                       Warning-level3   \n",
       "4                           NaN                   None   \n",
       "\n",
       "                               author_flair_richtext  \\\n",
       "0                          [{'e': 'text', 't': ' '}]   \n",
       "1  [{'e': 'text', 't': '1 - 2 years account age. ...   \n",
       "2                        [{'e': 'text', 't': 'Tin'}]   \n",
       "3  [{'e': 'text', 't': '1 - 2 years account age. ...   \n",
       "4                                                 []   \n",
       "\n",
       "                                  author_flair_text author_flair_text_color  \\\n",
       "0                                                                      dark   \n",
       "1  1 - 2 years account age. -15 - 35 comment karma.                    dark   \n",
       "2                                               Tin                    dark   \n",
       "3  1 - 2 years account age. -15 - 35 comment karma.                    dark   \n",
       "4                                              None                     NaN   \n",
       "\n",
       "  author_flair_type author_fullname  ... discussion_type suggested_sort  \\\n",
       "0          richtext     t2_ac4s8rai  ...             NaN            NaN   \n",
       "1          richtext     t2_7zsy6ax8  ...             NaN            NaN   \n",
       "2          richtext     t2_1agc3zqz  ...             NaN            NaN   \n",
       "3          richtext     t2_4qpi40yg  ...             NaN            NaN   \n",
       "4              text     t2_cvzi3ust  ...             NaN            NaN   \n",
       "\n",
       "  crosspost_parent  crosspost_parent_list  banned_by  edited gallery_data  \\\n",
       "0              NaN                    NaN        NaN     NaN          NaN   \n",
       "1              NaN                    NaN        NaN     NaN          NaN   \n",
       "2              NaN                    NaN        NaN     NaN          NaN   \n",
       "3              NaN                    NaN        NaN     NaN          NaN   \n",
       "4              NaN                    NaN        NaN     NaN          NaN   \n",
       "\n",
       "  is_gallery poll_data gilded  \n",
       "0        NaN       NaN    NaN  \n",
       "1        NaN       NaN    NaN  \n",
       "2        NaN       NaN    NaN  \n",
       "3        NaN       NaN    NaN  \n",
       "4        NaN       NaN    NaN  \n",
       "\n",
       "[5 rows x 86 columns]"
      ]
     },
     "execution_count": 58,
     "metadata": {},
     "output_type": "execute_result"
    }
   ],
   "source": [
    "# check first 5 rows for crypto extract\n",
    "df_crypto.head()"
   ]
  },
  {
   "cell_type": "code",
   "execution_count": 59,
   "metadata": {},
   "outputs": [
    {
     "data": {
      "text/plain": [
       "(5000, 78)"
      ]
     },
     "execution_count": 59,
     "metadata": {},
     "output_type": "execute_result"
    }
   ],
   "source": [
    "# check shape of stocks extract\n",
    "df_stocks.shape"
   ]
  },
  {
   "cell_type": "code",
   "execution_count": 61,
   "metadata": {},
   "outputs": [
    {
     "name": "stdout",
     "output_type": "stream",
     "text": [
      "start date:2020-04-26 06:37:25\n",
      "end date:2021-06-23 16:43:22\n"
     ]
    }
   ],
   "source": [
    "# check extract dates\n",
    "start = int(df_stocks['created_utc'][4999])\n",
    "end = int(df_stocks['created_utc'][0])\n",
    "print(f'start date:{datetime.fromtimestamp(start)}')\n",
    "print(f'end date:{datetime.fromtimestamp(end)}')"
   ]
  },
  {
   "cell_type": "markdown",
   "metadata": {},
   "source": [
    "- Posts are from 26 April 2020 to 23 June 2021"
   ]
  },
  {
   "cell_type": "code",
   "execution_count": 62,
   "metadata": {},
   "outputs": [
    {
     "data": {
      "text/plain": [
       "(5000, 78)"
      ]
     },
     "execution_count": 62,
     "metadata": {},
     "output_type": "execute_result"
    }
   ],
   "source": [
    "# check first 5 rows for stocks extract\n",
    "df_stocks.shape"
   ]
  },
  {
   "cell_type": "code",
   "execution_count": 63,
   "metadata": {},
   "outputs": [],
   "source": [
    "# export to csv\n",
    "\n",
    "df_crypto.to_csv('../datasets/crypto.csv', index= False)\n",
    "df_stocks.to_csv('../datasets/stocks.csv', index = False)"
   ]
  },
  {
   "cell_type": "markdown",
   "metadata": {},
   "source": [
    "## 3. Data Cleaning"
   ]
  },
  {
   "cell_type": "code",
   "execution_count": 134,
   "metadata": {},
   "outputs": [],
   "source": [
    "# import raw files\n",
    "\n",
    "df_crypto = pd.read_csv('../datasets/crypto.csv')\n",
    "df_stocks = pd.read_csv('../datasets/stocks.csv')\n",
    "\n",
    "# drop all columns except 'title', 'selftext' and 'subreddit'\n",
    "\n",
    "col = ['title', 'selftext','subreddit', 'upvote_ratio']\n",
    "df_crypto = df_crypto[col]\n",
    "df_stocks = df_stocks[col]"
   ]
  },
  {
   "cell_type": "markdown",
   "metadata": {},
   "source": [
    "### 3.1 CryptoCurrency Subreddit"
   ]
  },
  {
   "cell_type": "code",
   "execution_count": 135,
   "metadata": {},
   "outputs": [
    {
     "data": {
      "text/html": [
       "<div>\n",
       "<style scoped>\n",
       "    .dataframe tbody tr th:only-of-type {\n",
       "        vertical-align: middle;\n",
       "    }\n",
       "\n",
       "    .dataframe tbody tr th {\n",
       "        vertical-align: top;\n",
       "    }\n",
       "\n",
       "    .dataframe thead th {\n",
       "        text-align: right;\n",
       "    }\n",
       "</style>\n",
       "<table border=\"1\" class=\"dataframe\">\n",
       "  <thead>\n",
       "    <tr style=\"text-align: right;\">\n",
       "      <th></th>\n",
       "      <th>title</th>\n",
       "      <th>selftext</th>\n",
       "      <th>subreddit</th>\n",
       "      <th>upvote_ratio</th>\n",
       "    </tr>\n",
       "  </thead>\n",
       "  <tbody>\n",
       "    <tr>\n",
       "      <th>0</th>\n",
       "      <td>Bank of Israel to Use Ethereum Tech for Digita...</td>\n",
       "      <td>NaN</td>\n",
       "      <td>CryptoCurrency</td>\n",
       "      <td>1.0</td>\n",
       "    </tr>\n",
       "    <tr>\n",
       "      <th>1</th>\n",
       "      <td>Crypto Swap Profits Mastermind | How To Earn $...</td>\n",
       "      <td>NaN</td>\n",
       "      <td>CryptoCurrency</td>\n",
       "      <td>1.0</td>\n",
       "    </tr>\n",
       "    <tr>\n",
       "      <th>2</th>\n",
       "      <td>Cardano Founder: Tether is Faith based, Violat...</td>\n",
       "      <td>NaN</td>\n",
       "      <td>CryptoCurrency</td>\n",
       "      <td>1.0</td>\n",
       "    </tr>\n",
       "    <tr>\n",
       "      <th>3</th>\n",
       "      <td>Experienced Miners</td>\n",
       "      <td>Hi everyone I need advice regarding the crypto...</td>\n",
       "      <td>CryptoCurrency</td>\n",
       "      <td>1.0</td>\n",
       "    </tr>\n",
       "    <tr>\n",
       "      <th>4</th>\n",
       "      <td>Diamond hands, baby.</td>\n",
       "      <td>NaN</td>\n",
       "      <td>CryptoCurrency</td>\n",
       "      <td>1.0</td>\n",
       "    </tr>\n",
       "  </tbody>\n",
       "</table>\n",
       "</div>"
      ],
      "text/plain": [
       "                                               title  \\\n",
       "0  Bank of Israel to Use Ethereum Tech for Digita...   \n",
       "1  Crypto Swap Profits Mastermind | How To Earn $...   \n",
       "2  Cardano Founder: Tether is Faith based, Violat...   \n",
       "3                                 Experienced Miners   \n",
       "4                               Diamond hands, baby.   \n",
       "\n",
       "                                            selftext       subreddit  \\\n",
       "0                                                NaN  CryptoCurrency   \n",
       "1                                                NaN  CryptoCurrency   \n",
       "2                                                NaN  CryptoCurrency   \n",
       "3  Hi everyone I need advice regarding the crypto...  CryptoCurrency   \n",
       "4                                                NaN  CryptoCurrency   \n",
       "\n",
       "   upvote_ratio  \n",
       "0           1.0  \n",
       "1           1.0  \n",
       "2           1.0  \n",
       "3           1.0  \n",
       "4           1.0  "
      ]
     },
     "execution_count": 135,
     "metadata": {},
     "output_type": "execute_result"
    }
   ],
   "source": [
    "#check first 5 rows\n",
    "df_crypto.head()"
   ]
  },
  {
   "cell_type": "code",
   "execution_count": 136,
   "metadata": {},
   "outputs": [
    {
     "data": {
      "text/plain": [
       "title              0\n",
       "selftext        2496\n",
       "subreddit          0\n",
       "upvote_ratio       0\n",
       "dtype: int64"
      ]
     },
     "execution_count": 136,
     "metadata": {},
     "output_type": "execute_result"
    }
   ],
   "source": [
    "# check null values\n",
    "df_crypto.isnull().sum()"
   ]
  },
  {
   "cell_type": "markdown",
   "metadata": {},
   "source": [
    "- Out of 5000 rows, 2496 are null values for selftext (i.e. the post has a title but no text) => let's investigate these rows "
   ]
  },
  {
   "cell_type": "code",
   "execution_count": 137,
   "metadata": {},
   "outputs": [
    {
     "data": {
      "text/html": [
       "<div>\n",
       "<style scoped>\n",
       "    .dataframe tbody tr th:only-of-type {\n",
       "        vertical-align: middle;\n",
       "    }\n",
       "\n",
       "    .dataframe tbody tr th {\n",
       "        vertical-align: top;\n",
       "    }\n",
       "\n",
       "    .dataframe thead th {\n",
       "        text-align: right;\n",
       "    }\n",
       "</style>\n",
       "<table border=\"1\" class=\"dataframe\">\n",
       "  <thead>\n",
       "    <tr style=\"text-align: right;\">\n",
       "      <th></th>\n",
       "      <th>title</th>\n",
       "      <th>selftext</th>\n",
       "      <th>subreddit</th>\n",
       "      <th>upvote_ratio</th>\n",
       "    </tr>\n",
       "  </thead>\n",
       "  <tbody>\n",
       "    <tr>\n",
       "      <th>0</th>\n",
       "      <td>Bank of Israel to Use Ethereum Tech for Digita...</td>\n",
       "      <td>NaN</td>\n",
       "      <td>CryptoCurrency</td>\n",
       "      <td>1.0</td>\n",
       "    </tr>\n",
       "    <tr>\n",
       "      <th>1</th>\n",
       "      <td>Crypto Swap Profits Mastermind | How To Earn $...</td>\n",
       "      <td>NaN</td>\n",
       "      <td>CryptoCurrency</td>\n",
       "      <td>1.0</td>\n",
       "    </tr>\n",
       "    <tr>\n",
       "      <th>2</th>\n",
       "      <td>Cardano Founder: Tether is Faith based, Violat...</td>\n",
       "      <td>NaN</td>\n",
       "      <td>CryptoCurrency</td>\n",
       "      <td>1.0</td>\n",
       "    </tr>\n",
       "    <tr>\n",
       "      <th>4</th>\n",
       "      <td>Diamond hands, baby.</td>\n",
       "      <td>NaN</td>\n",
       "      <td>CryptoCurrency</td>\n",
       "      <td>1.0</td>\n",
       "    </tr>\n",
       "    <tr>\n",
       "      <th>5</th>\n",
       "      <td>Bitcoin Price Decline 😂</td>\n",
       "      <td>NaN</td>\n",
       "      <td>CryptoCurrency</td>\n",
       "      <td>1.0</td>\n",
       "    </tr>\n",
       "  </tbody>\n",
       "</table>\n",
       "</div>"
      ],
      "text/plain": [
       "                                               title selftext       subreddit  \\\n",
       "0  Bank of Israel to Use Ethereum Tech for Digita...      NaN  CryptoCurrency   \n",
       "1  Crypto Swap Profits Mastermind | How To Earn $...      NaN  CryptoCurrency   \n",
       "2  Cardano Founder: Tether is Faith based, Violat...      NaN  CryptoCurrency   \n",
       "4                               Diamond hands, baby.      NaN  CryptoCurrency   \n",
       "5                            Bitcoin Price Decline 😂      NaN  CryptoCurrency   \n",
       "\n",
       "   upvote_ratio  \n",
       "0           1.0  \n",
       "1           1.0  \n",
       "2           1.0  \n",
       "4           1.0  \n",
       "5           1.0  "
      ]
     },
     "execution_count": 137,
     "metadata": {},
     "output_type": "execute_result"
    }
   ],
   "source": [
    "df_crypto[df_crypto['selftext'].isnull()].head(5)"
   ]
  },
  {
   "cell_type": "markdown",
   "metadata": {},
   "source": [
    "- text posts on reddit require titles but the text is optional.\n",
    "- I will replace the null values with blank strings to indicate the text is blank"
   ]
  },
  {
   "cell_type": "code",
   "execution_count": 138,
   "metadata": {},
   "outputs": [],
   "source": [
    "df_crypto['selftext'] = df_crypto['selftext'].fillna('')"
   ]
  },
  {
   "cell_type": "code",
   "execution_count": 139,
   "metadata": {},
   "outputs": [
    {
     "data": {
      "text/plain": [
       "title           0\n",
       "selftext        0\n",
       "subreddit       0\n",
       "upvote_ratio    0\n",
       "dtype: int64"
      ]
     },
     "execution_count": 139,
     "metadata": {},
     "output_type": "execute_result"
    }
   ],
   "source": [
    "# check for null values again\n",
    "df_crypto.isnull().sum()"
   ]
  },
  {
   "cell_type": "code",
   "execution_count": 140,
   "metadata": {},
   "outputs": [
    {
     "data": {
      "text/html": [
       "<div>\n",
       "<style scoped>\n",
       "    .dataframe tbody tr th:only-of-type {\n",
       "        vertical-align: middle;\n",
       "    }\n",
       "\n",
       "    .dataframe tbody tr th {\n",
       "        vertical-align: top;\n",
       "    }\n",
       "\n",
       "    .dataframe thead th {\n",
       "        text-align: right;\n",
       "    }\n",
       "</style>\n",
       "<table border=\"1\" class=\"dataframe\">\n",
       "  <thead>\n",
       "    <tr style=\"text-align: right;\">\n",
       "      <th></th>\n",
       "      <th>title</th>\n",
       "      <th>selftext</th>\n",
       "      <th>subreddit</th>\n",
       "      <th>upvote_ratio</th>\n",
       "    </tr>\n",
       "  </thead>\n",
       "  <tbody>\n",
       "    <tr>\n",
       "      <th>4984</th>\n",
       "      <td>I am writing a research paper on “how will cry...</td>\n",
       "      <td>any research publications or anything that I c...</td>\n",
       "      <td>CryptoCurrency</td>\n",
       "      <td>1.0</td>\n",
       "    </tr>\n",
       "    <tr>\n",
       "      <th>4985</th>\n",
       "      <td>NWC the heart of Newscrypto</td>\n",
       "      <td>Check out this amazing post and why you should...</td>\n",
       "      <td>CryptoCurrency</td>\n",
       "      <td>1.0</td>\n",
       "    </tr>\n",
       "    <tr>\n",
       "      <th>4990</th>\n",
       "      <td>Can someone explain the point of cryptocurrenc...</td>\n",
       "      <td>[removed]</td>\n",
       "      <td>CryptoCurrency</td>\n",
       "      <td>1.0</td>\n",
       "    </tr>\n",
       "    <tr>\n",
       "      <th>4997</th>\n",
       "      <td>Is there any 'app' or platform that allows for...</td>\n",
       "      <td>[removed]</td>\n",
       "      <td>CryptoCurrency</td>\n",
       "      <td>1.0</td>\n",
       "    </tr>\n",
       "    <tr>\n",
       "      <th>4999</th>\n",
       "      <td>I am sending you 1π! Pi is a new digital curre...</td>\n",
       "      <td>[removed]</td>\n",
       "      <td>CryptoCurrency</td>\n",
       "      <td>1.0</td>\n",
       "    </tr>\n",
       "  </tbody>\n",
       "</table>\n",
       "</div>"
      ],
      "text/plain": [
       "                                                  title  \\\n",
       "4984  I am writing a research paper on “how will cry...   \n",
       "4985                        NWC the heart of Newscrypto   \n",
       "4990  Can someone explain the point of cryptocurrenc...   \n",
       "4997  Is there any 'app' or platform that allows for...   \n",
       "4999  I am sending you 1π! Pi is a new digital curre...   \n",
       "\n",
       "                                               selftext       subreddit  \\\n",
       "4984  any research publications or anything that I c...  CryptoCurrency   \n",
       "4985  Check out this amazing post and why you should...  CryptoCurrency   \n",
       "4990                                          [removed]  CryptoCurrency   \n",
       "4997                                          [removed]  CryptoCurrency   \n",
       "4999                                          [removed]  CryptoCurrency   \n",
       "\n",
       "      upvote_ratio  \n",
       "4984           1.0  \n",
       "4985           1.0  \n",
       "4990           1.0  \n",
       "4997           1.0  \n",
       "4999           1.0  "
      ]
     },
     "execution_count": 140,
     "metadata": {},
     "output_type": "execute_result"
    }
   ],
   "source": [
    "df_crypto[df_crypto['selftext'] != ''].tail()"
   ]
  },
  {
   "cell_type": "markdown",
   "metadata": {},
   "source": [
    "- removed are posts that have been removed by a moderator/admin/spam filter\n",
    "- deleted are posts that users have deleted themselves"
   ]
  },
  {
   "cell_type": "code",
   "execution_count": 141,
   "metadata": {},
   "outputs": [
    {
     "data": {
      "text/plain": [
       "(1580, 4)"
      ]
     },
     "execution_count": 141,
     "metadata": {},
     "output_type": "execute_result"
    }
   ],
   "source": [
    "df_crypto[df_crypto['selftext']=='[removed]'].shape"
   ]
  },
  {
   "cell_type": "code",
   "execution_count": 142,
   "metadata": {},
   "outputs": [
    {
     "data": {
      "text/plain": [
       "(62, 4)"
      ]
     },
     "execution_count": 142,
     "metadata": {},
     "output_type": "execute_result"
    }
   ],
   "source": [
    "df_crypto[df_crypto['selftext']=='[deleted]'].shape"
   ]
  },
  {
   "cell_type": "markdown",
   "metadata": {},
   "source": [
    "- Out of 5000 posts, 1580 were removed by the moderators, and 62 were deleted by the users themselves\n",
    "- I will delete these columns for the purpose of this project because the goal is to identify posts that are similar to what users post in the CryptoCurrency subreddit, so I do not want to train my model on posts that moderators have alredy identified as irrelevant to this subreddit"
   ]
  },
  {
   "cell_type": "code",
   "execution_count": 143,
   "metadata": {},
   "outputs": [],
   "source": [
    "# function to remove \"removed\" and \"deleted\" posts\n",
    "def remove_del(df):\n",
    "    mask = np.logical_not(df['selftext'].isin(['[removed]','[deleted]']))\n",
    "    return df[mask]"
   ]
  },
  {
   "cell_type": "code",
   "execution_count": 144,
   "metadata": {},
   "outputs": [],
   "source": [
    "df_crypto = remove_del(df_crypto)"
   ]
  },
  {
   "cell_type": "code",
   "execution_count": 145,
   "metadata": {},
   "outputs": [],
   "source": [
    "# remove filler text posts\n",
    "df_crypto = df_crypto[~df_crypto['selftext'].str.contains('filler')]"
   ]
  },
  {
   "cell_type": "code",
   "execution_count": 146,
   "metadata": {},
   "outputs": [
    {
     "data": {
      "text/plain": [
       "(3357, 4)"
      ]
     },
     "execution_count": 146,
     "metadata": {},
     "output_type": "execute_result"
    }
   ],
   "source": [
    "#check shape\n",
    "df_crypto.shape"
   ]
  },
  {
   "cell_type": "markdown",
   "metadata": {},
   "source": [
    "- For analysis, I want to combine the title and self text columns\n",
    "- My classifications will be based on the words in both the title and text of the reddit posts"
   ]
  },
  {
   "cell_type": "code",
   "execution_count": 147,
   "metadata": {},
   "outputs": [],
   "source": [
    "df_crypto['text'] = df_crypto['title'] + df_crypto['selftext']"
   ]
  },
  {
   "cell_type": "code",
   "execution_count": 148,
   "metadata": {},
   "outputs": [
    {
     "data": {
      "text/plain": [
       "(57, 5)"
      ]
     },
     "execution_count": 148,
     "metadata": {},
     "output_type": "execute_result"
    }
   ],
   "source": [
    "# check for duplicates\n",
    "df_crypto[df_crypto['text'].duplicated()].shape"
   ]
  },
  {
   "cell_type": "code",
   "execution_count": 149,
   "metadata": {},
   "outputs": [],
   "source": [
    "# drop duplicate rows\n",
    "df_crypto.drop_duplicates(inplace = True)"
   ]
  },
  {
   "cell_type": "markdown",
   "metadata": {},
   "source": [
    "### 3.2 Stocks Subreddit"
   ]
  },
  {
   "cell_type": "code",
   "execution_count": 150,
   "metadata": {},
   "outputs": [
    {
     "data": {
      "text/html": [
       "<div>\n",
       "<style scoped>\n",
       "    .dataframe tbody tr th:only-of-type {\n",
       "        vertical-align: middle;\n",
       "    }\n",
       "\n",
       "    .dataframe tbody tr th {\n",
       "        vertical-align: top;\n",
       "    }\n",
       "\n",
       "    .dataframe thead th {\n",
       "        text-align: right;\n",
       "    }\n",
       "</style>\n",
       "<table border=\"1\" class=\"dataframe\">\n",
       "  <thead>\n",
       "    <tr style=\"text-align: right;\">\n",
       "      <th></th>\n",
       "      <th>title</th>\n",
       "      <th>selftext</th>\n",
       "      <th>subreddit</th>\n",
       "      <th>upvote_ratio</th>\n",
       "    </tr>\n",
       "  </thead>\n",
       "  <tbody>\n",
       "    <tr>\n",
       "      <th>0</th>\n",
       "      <td>With net profit compound growth of 145% from 2...</td>\n",
       "      <td>[removed]</td>\n",
       "      <td>stocks</td>\n",
       "      <td>1.0</td>\n",
       "    </tr>\n",
       "    <tr>\n",
       "      <th>1</th>\n",
       "      <td>Interested in investing 10k into an index fund...</td>\n",
       "      <td>Looking to invest in an index fund but I’m som...</td>\n",
       "      <td>stocks</td>\n",
       "      <td>1.0</td>\n",
       "    </tr>\n",
       "    <tr>\n",
       "      <th>2</th>\n",
       "      <td>Looking for a Semi-Professional Trader</td>\n",
       "      <td>[removed]</td>\n",
       "      <td>stocks</td>\n",
       "      <td>1.0</td>\n",
       "    </tr>\n",
       "    <tr>\n",
       "      <th>3</th>\n",
       "      <td>Korn Ferry fee revenue of $555.2 million in Q4...</td>\n",
       "      <td>[removed]</td>\n",
       "      <td>stocks</td>\n",
       "      <td>1.0</td>\n",
       "    </tr>\n",
       "    <tr>\n",
       "      <th>4</th>\n",
       "      <td>Terranet will mabe be the new leader of ADAS m...</td>\n",
       "      <td>[removed]</td>\n",
       "      <td>stocks</td>\n",
       "      <td>1.0</td>\n",
       "    </tr>\n",
       "  </tbody>\n",
       "</table>\n",
       "</div>"
      ],
      "text/plain": [
       "                                               title  \\\n",
       "0  With net profit compound growth of 145% from 2...   \n",
       "1  Interested in investing 10k into an index fund...   \n",
       "2             Looking for a Semi-Professional Trader   \n",
       "3  Korn Ferry fee revenue of $555.2 million in Q4...   \n",
       "4  Terranet will mabe be the new leader of ADAS m...   \n",
       "\n",
       "                                            selftext subreddit  upvote_ratio  \n",
       "0                                          [removed]    stocks           1.0  \n",
       "1  Looking to invest in an index fund but I’m som...    stocks           1.0  \n",
       "2                                          [removed]    stocks           1.0  \n",
       "3                                          [removed]    stocks           1.0  \n",
       "4                                          [removed]    stocks           1.0  "
      ]
     },
     "execution_count": 150,
     "metadata": {},
     "output_type": "execute_result"
    }
   ],
   "source": [
    "#check first 5 rows\n",
    "df_stocks.head()"
   ]
  },
  {
   "cell_type": "code",
   "execution_count": 151,
   "metadata": {},
   "outputs": [
    {
     "data": {
      "text/plain": [
       "title             0\n",
       "selftext         81\n",
       "subreddit         0\n",
       "upvote_ratio    100\n",
       "dtype: int64"
      ]
     },
     "execution_count": 151,
     "metadata": {},
     "output_type": "execute_result"
    }
   ],
   "source": [
    "# check null values\n",
    "df_stocks.isnull().sum()"
   ]
  },
  {
   "cell_type": "markdown",
   "metadata": {},
   "source": [
    "- Out of 5000 posts, 81 have null values for text\n",
    "- Interesting, compared to CryptoCurrency which had 2496 null values -> more people post titles without further text in the CryptoCurrency subreddit"
   ]
  },
  {
   "cell_type": "code",
   "execution_count": 152,
   "metadata": {},
   "outputs": [
    {
     "data": {
      "text/html": [
       "<div>\n",
       "<style scoped>\n",
       "    .dataframe tbody tr th:only-of-type {\n",
       "        vertical-align: middle;\n",
       "    }\n",
       "\n",
       "    .dataframe tbody tr th {\n",
       "        vertical-align: top;\n",
       "    }\n",
       "\n",
       "    .dataframe thead th {\n",
       "        text-align: right;\n",
       "    }\n",
       "</style>\n",
       "<table border=\"1\" class=\"dataframe\">\n",
       "  <thead>\n",
       "    <tr style=\"text-align: right;\">\n",
       "      <th></th>\n",
       "      <th>title</th>\n",
       "      <th>selftext</th>\n",
       "      <th>subreddit</th>\n",
       "      <th>upvote_ratio</th>\n",
       "    </tr>\n",
       "  </thead>\n",
       "  <tbody>\n",
       "    <tr>\n",
       "      <th>72</th>\n",
       "      <td>Recommend me some good books to read on invest...</td>\n",
       "      <td>NaN</td>\n",
       "      <td>stocks</td>\n",
       "      <td>1.0</td>\n",
       "    </tr>\n",
       "    <tr>\n",
       "      <th>105</th>\n",
       "      <td>Any opinions on amc?</td>\n",
       "      <td>NaN</td>\n",
       "      <td>stocks</td>\n",
       "      <td>1.0</td>\n",
       "    </tr>\n",
       "    <tr>\n",
       "      <th>107</th>\n",
       "      <td>Canadian Bitcoin miners massively undevalued? ...</td>\n",
       "      <td>NaN</td>\n",
       "      <td>stocks</td>\n",
       "      <td>1.0</td>\n",
       "    </tr>\n",
       "    <tr>\n",
       "      <th>108</th>\n",
       "      <td>RLLCF is in the middle of a pump and dump....</td>\n",
       "      <td>NaN</td>\n",
       "      <td>stocks</td>\n",
       "      <td>1.0</td>\n",
       "    </tr>\n",
       "    <tr>\n",
       "      <th>113</th>\n",
       "      <td>RLLCF is in the middle of a pump and dump....</td>\n",
       "      <td>NaN</td>\n",
       "      <td>stocks</td>\n",
       "      <td>1.0</td>\n",
       "    </tr>\n",
       "  </tbody>\n",
       "</table>\n",
       "</div>"
      ],
      "text/plain": [
       "                                                 title selftext subreddit  \\\n",
       "72   Recommend me some good books to read on invest...      NaN    stocks   \n",
       "105                               Any opinions on amc?      NaN    stocks   \n",
       "107  Canadian Bitcoin miners massively undevalued? ...      NaN    stocks   \n",
       "108      RLLCF is in the middle of a pump and dump....      NaN    stocks   \n",
       "113      RLLCF is in the middle of a pump and dump....      NaN    stocks   \n",
       "\n",
       "     upvote_ratio  \n",
       "72            1.0  \n",
       "105           1.0  \n",
       "107           1.0  \n",
       "108           1.0  \n",
       "113           1.0  "
      ]
     },
     "execution_count": 152,
     "metadata": {},
     "output_type": "execute_result"
    }
   ],
   "source": [
    "df_stocks[df_stocks['selftext'].isnull()].head(5)"
   ]
  },
  {
   "cell_type": "markdown",
   "metadata": {},
   "source": [
    "- I will replace the selftext with blank (same as I did for CryptoCurrency)"
   ]
  },
  {
   "cell_type": "code",
   "execution_count": 153,
   "metadata": {},
   "outputs": [],
   "source": [
    "df_stocks['selftext'] = df_stocks['selftext'].fillna('')"
   ]
  },
  {
   "cell_type": "code",
   "execution_count": 154,
   "metadata": {},
   "outputs": [
    {
     "data": {
      "text/html": [
       "<div>\n",
       "<style scoped>\n",
       "    .dataframe tbody tr th:only-of-type {\n",
       "        vertical-align: middle;\n",
       "    }\n",
       "\n",
       "    .dataframe tbody tr th {\n",
       "        vertical-align: top;\n",
       "    }\n",
       "\n",
       "    .dataframe thead th {\n",
       "        text-align: right;\n",
       "    }\n",
       "</style>\n",
       "<table border=\"1\" class=\"dataframe\">\n",
       "  <thead>\n",
       "    <tr style=\"text-align: right;\">\n",
       "      <th></th>\n",
       "      <th>title</th>\n",
       "      <th>selftext</th>\n",
       "      <th>subreddit</th>\n",
       "      <th>upvote_ratio</th>\n",
       "    </tr>\n",
       "  </thead>\n",
       "  <tbody>\n",
       "    <tr>\n",
       "      <th>0</th>\n",
       "      <td>With net profit compound growth of 145% from 2...</td>\n",
       "      <td>[removed]</td>\n",
       "      <td>stocks</td>\n",
       "      <td>1.0</td>\n",
       "    </tr>\n",
       "    <tr>\n",
       "      <th>1</th>\n",
       "      <td>Interested in investing 10k into an index fund...</td>\n",
       "      <td>Looking to invest in an index fund but I’m som...</td>\n",
       "      <td>stocks</td>\n",
       "      <td>1.0</td>\n",
       "    </tr>\n",
       "    <tr>\n",
       "      <th>2</th>\n",
       "      <td>Looking for a Semi-Professional Trader</td>\n",
       "      <td>[removed]</td>\n",
       "      <td>stocks</td>\n",
       "      <td>1.0</td>\n",
       "    </tr>\n",
       "    <tr>\n",
       "      <th>3</th>\n",
       "      <td>Korn Ferry fee revenue of $555.2 million in Q4...</td>\n",
       "      <td>[removed]</td>\n",
       "      <td>stocks</td>\n",
       "      <td>1.0</td>\n",
       "    </tr>\n",
       "    <tr>\n",
       "      <th>4</th>\n",
       "      <td>Terranet will mabe be the new leader of ADAS m...</td>\n",
       "      <td>[removed]</td>\n",
       "      <td>stocks</td>\n",
       "      <td>1.0</td>\n",
       "    </tr>\n",
       "  </tbody>\n",
       "</table>\n",
       "</div>"
      ],
      "text/plain": [
       "                                               title  \\\n",
       "0  With net profit compound growth of 145% from 2...   \n",
       "1  Interested in investing 10k into an index fund...   \n",
       "2             Looking for a Semi-Professional Trader   \n",
       "3  Korn Ferry fee revenue of $555.2 million in Q4...   \n",
       "4  Terranet will mabe be the new leader of ADAS m...   \n",
       "\n",
       "                                            selftext subreddit  upvote_ratio  \n",
       "0                                          [removed]    stocks           1.0  \n",
       "1  Looking to invest in an index fund but I’m som...    stocks           1.0  \n",
       "2                                          [removed]    stocks           1.0  \n",
       "3                                          [removed]    stocks           1.0  \n",
       "4                                          [removed]    stocks           1.0  "
      ]
     },
     "execution_count": 154,
     "metadata": {},
     "output_type": "execute_result"
    }
   ],
   "source": [
    "df_stocks[df_stocks['selftext'] != ''].head()"
   ]
  },
  {
   "cell_type": "code",
   "execution_count": 155,
   "metadata": {},
   "outputs": [
    {
     "data": {
      "text/plain": [
       "(2383, 4)"
      ]
     },
     "execution_count": 155,
     "metadata": {},
     "output_type": "execute_result"
    }
   ],
   "source": [
    "df_stocks[df_stocks['selftext']=='[removed]'].shape"
   ]
  },
  {
   "cell_type": "code",
   "execution_count": 156,
   "metadata": {},
   "outputs": [
    {
     "data": {
      "text/plain": [
       "(33, 4)"
      ]
     },
     "execution_count": 156,
     "metadata": {},
     "output_type": "execute_result"
    }
   ],
   "source": [
    "df_stocks[df_stocks['selftext']=='[deleted]'].shape"
   ]
  },
  {
   "cell_type": "markdown",
   "metadata": {},
   "source": [
    "- Out of 5000 posts, 2383 were removed by moderators, and 33 were deleted by users themselves\n",
    "- This is significantly more posts removed than the CryptoCurrency subreddit => lets look at a few of these posts"
   ]
  },
  {
   "cell_type": "code",
   "execution_count": 157,
   "metadata": {},
   "outputs": [
    {
     "data": {
      "text/html": [
       "<div>\n",
       "<style scoped>\n",
       "    .dataframe tbody tr th:only-of-type {\n",
       "        vertical-align: middle;\n",
       "    }\n",
       "\n",
       "    .dataframe tbody tr th {\n",
       "        vertical-align: top;\n",
       "    }\n",
       "\n",
       "    .dataframe thead th {\n",
       "        text-align: right;\n",
       "    }\n",
       "</style>\n",
       "<table border=\"1\" class=\"dataframe\">\n",
       "  <thead>\n",
       "    <tr style=\"text-align: right;\">\n",
       "      <th></th>\n",
       "      <th>title</th>\n",
       "      <th>selftext</th>\n",
       "      <th>subreddit</th>\n",
       "      <th>upvote_ratio</th>\n",
       "    </tr>\n",
       "  </thead>\n",
       "  <tbody>\n",
       "    <tr>\n",
       "      <th>0</th>\n",
       "      <td>With net profit compound growth of 145% from 2018 to 2020, Medlive passes HK Exchanges’ hearing for listing</td>\n",
       "      <td>[removed]</td>\n",
       "      <td>stocks</td>\n",
       "      <td>1.0</td>\n",
       "    </tr>\n",
       "    <tr>\n",
       "      <th>2</th>\n",
       "      <td>Looking for a Semi-Professional Trader</td>\n",
       "      <td>[removed]</td>\n",
       "      <td>stocks</td>\n",
       "      <td>1.0</td>\n",
       "    </tr>\n",
       "    <tr>\n",
       "      <th>3</th>\n",
       "      <td>Korn Ferry fee revenue of $555.2 million in Q4 FY’21, an increase of 26%</td>\n",
       "      <td>[removed]</td>\n",
       "      <td>stocks</td>\n",
       "      <td>1.0</td>\n",
       "    </tr>\n",
       "    <tr>\n",
       "      <th>4</th>\n",
       "      <td>Terranet will mabe be the new leader of ADAS market</td>\n",
       "      <td>[removed]</td>\n",
       "      <td>stocks</td>\n",
       "      <td>1.0</td>\n",
       "    </tr>\n",
       "    <tr>\n",
       "      <th>5</th>\n",
       "      <td>Terranet will take over the ADAS market</td>\n",
       "      <td>[removed]</td>\n",
       "      <td>stocks</td>\n",
       "      <td>1.0</td>\n",
       "    </tr>\n",
       "  </tbody>\n",
       "</table>\n",
       "</div>"
      ],
      "text/plain": [
       "                                                                                                         title  \\\n",
       "0  With net profit compound growth of 145% from 2018 to 2020, Medlive passes HK Exchanges’ hearing for listing   \n",
       "2                                                                       Looking for a Semi-Professional Trader   \n",
       "3                                     Korn Ferry fee revenue of $555.2 million in Q4 FY’21, an increase of 26%   \n",
       "4                                                          Terranet will mabe be the new leader of ADAS market   \n",
       "5                                                                      Terranet will take over the ADAS market   \n",
       "\n",
       "    selftext subreddit  upvote_ratio  \n",
       "0  [removed]    stocks           1.0  \n",
       "2  [removed]    stocks           1.0  \n",
       "3  [removed]    stocks           1.0  \n",
       "4  [removed]    stocks           1.0  \n",
       "5  [removed]    stocks           1.0  "
      ]
     },
     "metadata": {},
     "output_type": "display_data"
    }
   ],
   "source": [
    "with pd.option_context('display.max_colwidth', None):\n",
    "  display(df_stocks[df_stocks['selftext'] == '[removed]'].head(5))"
   ]
  },
  {
   "cell_type": "markdown",
   "metadata": {},
   "source": [
    "- It seems the stocks subreddit has more posts that moderators may consider spam or inappropriate than the cryptocurrency subreddit, or the stocks subreddit has stricter community guidelines \n",
    "- Similar to the cryptocurrency subreddit, I will delete all rows where the self text has been removed by mods or deleted by the users"
   ]
  },
  {
   "cell_type": "code",
   "execution_count": 158,
   "metadata": {},
   "outputs": [],
   "source": [
    "df_stocks = remove_del(df_stocks)"
   ]
  },
  {
   "cell_type": "code",
   "execution_count": 159,
   "metadata": {},
   "outputs": [
    {
     "data": {
      "text/plain": [
       "(2584, 4)"
      ]
     },
     "execution_count": 159,
     "metadata": {},
     "output_type": "execute_result"
    }
   ],
   "source": [
    "# check shape\n",
    "df_stocks.shape"
   ]
  },
  {
   "cell_type": "code",
   "execution_count": 160,
   "metadata": {},
   "outputs": [],
   "source": [
    "df_stocks['text'] = df_stocks['title'] + df_stocks['selftext']"
   ]
  },
  {
   "cell_type": "code",
   "execution_count": 161,
   "metadata": {},
   "outputs": [
    {
     "data": {
      "text/html": [
       "<div>\n",
       "<style scoped>\n",
       "    .dataframe tbody tr th:only-of-type {\n",
       "        vertical-align: middle;\n",
       "    }\n",
       "\n",
       "    .dataframe tbody tr th {\n",
       "        vertical-align: top;\n",
       "    }\n",
       "\n",
       "    .dataframe thead th {\n",
       "        text-align: right;\n",
       "    }\n",
       "</style>\n",
       "<table border=\"1\" class=\"dataframe\">\n",
       "  <thead>\n",
       "    <tr style=\"text-align: right;\">\n",
       "      <th></th>\n",
       "      <th>title</th>\n",
       "      <th>selftext</th>\n",
       "      <th>subreddit</th>\n",
       "      <th>upvote_ratio</th>\n",
       "      <th>text</th>\n",
       "    </tr>\n",
       "  </thead>\n",
       "  <tbody>\n",
       "    <tr>\n",
       "      <th>113</th>\n",
       "      <td>RLLCF is in the middle of a pump and dump....</td>\n",
       "      <td></td>\n",
       "      <td>stocks</td>\n",
       "      <td>1.0</td>\n",
       "      <td>RLLCF is in the middle of a pump and dump....</td>\n",
       "    </tr>\n",
       "    <tr>\n",
       "      <th>1326</th>\n",
       "      <td>SEC Stops Trading on 15 Stocks Including GME</td>\n",
       "      <td></td>\n",
       "      <td>stocks</td>\n",
       "      <td>1.0</td>\n",
       "      <td>SEC Stops Trading on 15 Stocks Including GME</td>\n",
       "    </tr>\n",
       "    <tr>\n",
       "      <th>1343</th>\n",
       "      <td>Due Diligence &amp;amp; Analysis on Stocks. 16 thi...</td>\n",
       "      <td></td>\n",
       "      <td>stocks</td>\n",
       "      <td>1.0</td>\n",
       "      <td>Due Diligence &amp;amp; Analysis on Stocks. 16 thi...</td>\n",
       "    </tr>\n",
       "    <tr>\n",
       "      <th>2162</th>\n",
       "      <td>Shift technologies ($sft)</td>\n",
       "      <td>If you like carvana, you’ll love shift. It pla...</td>\n",
       "      <td>stocks</td>\n",
       "      <td>1.0</td>\n",
       "      <td>Shift technologies ($sft)If you like carvana, ...</td>\n",
       "    </tr>\n",
       "    <tr>\n",
       "      <th>2196</th>\n",
       "      <td>Thinking about putting 1/2 of my portfolio int...</td>\n",
       "      <td>Is this a good idea? I mainly invest in tech a...</td>\n",
       "      <td>stocks</td>\n",
       "      <td>1.0</td>\n",
       "      <td>Thinking about putting 1/2 of my portfolio int...</td>\n",
       "    </tr>\n",
       "    <tr>\n",
       "      <th>2734</th>\n",
       "      <td>How can I invest in forex as an Indian and are...</td>\n",
       "      <td>I am 22 and just started working in one of the...</td>\n",
       "      <td>stocks</td>\n",
       "      <td>1.0</td>\n",
       "      <td>How can I invest in forex as an Indian and are...</td>\n",
       "    </tr>\n",
       "  </tbody>\n",
       "</table>\n",
       "</div>"
      ],
      "text/plain": [
       "                                                  title  \\\n",
       "113       RLLCF is in the middle of a pump and dump....   \n",
       "1326       SEC Stops Trading on 15 Stocks Including GME   \n",
       "1343  Due Diligence &amp; Analysis on Stocks. 16 thi...   \n",
       "2162                          Shift technologies ($sft)   \n",
       "2196  Thinking about putting 1/2 of my portfolio int...   \n",
       "2734  How can I invest in forex as an Indian and are...   \n",
       "\n",
       "                                               selftext subreddit  \\\n",
       "113                                                        stocks   \n",
       "1326                                                       stocks   \n",
       "1343                                                       stocks   \n",
       "2162  If you like carvana, you’ll love shift. It pla...    stocks   \n",
       "2196  Is this a good idea? I mainly invest in tech a...    stocks   \n",
       "2734  I am 22 and just started working in one of the...    stocks   \n",
       "\n",
       "      upvote_ratio                                               text  \n",
       "113            1.0      RLLCF is in the middle of a pump and dump....  \n",
       "1326           1.0       SEC Stops Trading on 15 Stocks Including GME  \n",
       "1343           1.0  Due Diligence &amp; Analysis on Stocks. 16 thi...  \n",
       "2162           1.0  Shift technologies ($sft)If you like carvana, ...  \n",
       "2196           1.0  Thinking about putting 1/2 of my portfolio int...  \n",
       "2734           1.0  How can I invest in forex as an Indian and are...  "
      ]
     },
     "execution_count": 161,
     "metadata": {},
     "output_type": "execute_result"
    }
   ],
   "source": [
    "# check for duplicates\n",
    "df_stocks[df_stocks['text'].duplicated()]"
   ]
  },
  {
   "cell_type": "code",
   "execution_count": 162,
   "metadata": {},
   "outputs": [],
   "source": [
    "# drop duplicates\n",
    "df_stocks.drop_duplicates(inplace = True)"
   ]
  },
  {
   "cell_type": "markdown",
   "metadata": {},
   "source": [
    "### 3.3 Combine dataframes "
   ]
  },
  {
   "cell_type": "code",
   "execution_count": 163,
   "metadata": {},
   "outputs": [
    {
     "data": {
      "text/plain": [
       "(3303, 5)"
      ]
     },
     "execution_count": 163,
     "metadata": {},
     "output_type": "execute_result"
    }
   ],
   "source": [
    "df_crypto.shape"
   ]
  },
  {
   "cell_type": "code",
   "execution_count": 164,
   "metadata": {},
   "outputs": [
    {
     "data": {
      "text/plain": [
       "(2578, 5)"
      ]
     },
     "execution_count": 164,
     "metadata": {},
     "output_type": "execute_result"
    }
   ],
   "source": [
    "df_stocks.shape"
   ]
  },
  {
   "cell_type": "markdown",
   "metadata": {},
   "source": [
    "- I have around 800 more posts from crypto than stocks, since many of the posts in stocks were removed by moderators\n",
    "- I want balanced classes when I perform my EDA and train my models, so I will take 2500 posts from both datasets"
   ]
  },
  {
   "cell_type": "code",
   "execution_count": 165,
   "metadata": {},
   "outputs": [],
   "source": [
    "df_crypto = df_crypto.sample(n=2500, replace = False, random_state = 23).reset_index(drop=True)\n",
    "df_stocks = df_stocks.sample(n=2500, replace = False, random_state = 23).reset_index(drop=True)"
   ]
  },
  {
   "cell_type": "code",
   "execution_count": 171,
   "metadata": {},
   "outputs": [
    {
     "data": {
      "text/plain": [
       "(5000, 5)"
      ]
     },
     "execution_count": 171,
     "metadata": {},
     "output_type": "execute_result"
    }
   ],
   "source": [
    "# create combined dataframe\n",
    "df = pd.concat([df_crypto,df_stocks]).reset_index(drop = True)\n",
    "df.shape"
   ]
  },
  {
   "cell_type": "code",
   "execution_count": 172,
   "metadata": {},
   "outputs": [],
   "source": [
    "# drop the title and self text columns\n",
    "df.drop(['title','selftext'],axis = 1, inplace = True)"
   ]
  },
  {
   "cell_type": "markdown",
   "metadata": {},
   "source": [
    "## 4. NLP Pre-Processing"
   ]
  },
  {
   "cell_type": "markdown",
   "metadata": {},
   "source": [
    "- Before I move to my EDA there are some pre-processing steps for text that may be useful\n",
    "- This will help me to find insights from the text data more easily during my EDA\n",
    "- These steps are:\n",
    "> 1. Remove special characters\n",
    "> 2. Tokenize\n",
    "> 3. Remove stop words\n",
    "> 4. Lemmatize"
   ]
  },
  {
   "cell_type": "markdown",
   "metadata": {},
   "source": [
    "### 4.1 Remove special characters"
   ]
  },
  {
   "cell_type": "code",
   "execution_count": 173,
   "metadata": {},
   "outputs": [],
   "source": [
    "# convert everything to lower string first\n",
    "df['text_adj'] = df['text'].str.lower()"
   ]
  },
  {
   "cell_type": "code",
   "execution_count": 187,
   "metadata": {},
   "outputs": [
    {
     "data": {
      "text/plain": [
       "'which app will allow me to trade without any glitches and bullshit of i need to sell or buy at any given time?just got into crypto because doge. looking to put some money in btc and what not as i may as well i best into something that isn’t s meme coin. so far the apps i’ve used are pretty fucking janky. coinbase pro will not for the life of me upload my damn ids. i had to open the normal coinbase app and upload from there. didn’t catch. then it took me to the web sight and showed my id files there after i had uploaded but the app still says i need to upload id.\\n\\nthen i went to voyager. transferred some funds that still say “pending” after a few days. i made some trades but can’t sell or anything because rrh trade is still pending. it’s been 5 business days. \\ni’m not confident that when i need to sell the app is going to just magically work with no issues and i don’t want to be in that position. i started on robinhood and am trying to go away from that because of its history of fucking people over . \\n\\nis there a professional app that allows you to fluently do what the app was designed for? \\n\\nany tips would be very helpful. \\n\\nps. i’m currently waiting for crypto.com to verify me.'"
      ]
     },
     "execution_count": 187,
     "metadata": {},
     "output_type": "execute_result"
    }
   ],
   "source": [
    "# Lets view a long post\n",
    "df[df['text_adj'].str.len()>500]['text_adj'][9]"
   ]
  },
  {
   "cell_type": "code",
   "execution_count": 188,
   "metadata": {},
   "outputs": [],
   "source": [
    "# use regex to remove line breaks\n",
    "df['text_adj'] = df['text_adj'].map(lambda x: re.sub('\\n', ' ', x)) "
   ]
  },
  {
   "cell_type": "code",
   "execution_count": 189,
   "metadata": {},
   "outputs": [
    {
     "data": {
      "text/plain": [
       "'which app will allow me to trade without any glitches and bullshit of i need to sell or buy at any given time?just got into crypto because doge. looking to put some money in btc and what not as i may as well i best into something that isn’t s meme coin. so far the apps i’ve used are pretty fucking janky. coinbase pro will not for the life of me upload my damn ids. i had to open the normal coinbase app and upload from there. didn’t catch. then it took me to the web sight and showed my id files there after i had uploaded but the app still says i need to upload id.  then i went to voyager. transferred some funds that still say “pending” after a few days. i made some trades but can’t sell or anything because rrh trade is still pending. it’s been 5 business days.  i’m not confident that when i need to sell the app is going to just magically work with no issues and i don’t want to be in that position. i started on robinhood and am trying to go away from that because of its history of fucking people over .   is there a professional app that allows you to fluently do what the app was designed for?   any tips would be very helpful.   ps. i’m currently waiting for crypto.com to verify me.'"
      ]
     },
     "execution_count": 189,
     "metadata": {},
     "output_type": "execute_result"
    }
   ],
   "source": [
    "# confirm line breaks removed\n",
    "df['text_adj'][9]"
   ]
  },
  {
   "cell_type": "code",
   "execution_count": 190,
   "metadata": {},
   "outputs": [],
   "source": [
    "# create function to remove contractions\n",
    " \n",
    "def expand_text(text):\n",
    "    expanded_words = []\n",
    "    for word in text.split():\n",
    "        expanded_words.append(contractions.fix(word))\n",
    "    return ' '.join(expanded_words)"
   ]
  },
  {
   "cell_type": "code",
   "execution_count": 191,
   "metadata": {},
   "outputs": [],
   "source": [
    "df['text_adj'] = df['text_adj'].apply(lambda x: expand_text(x))"
   ]
  },
  {
   "cell_type": "code",
   "execution_count": 192,
   "metadata": {},
   "outputs": [
    {
     "data": {
      "text/plain": [
       "'which app will allow me to trade without any glitches and bullshit of i need to sell or buy at any given time?just got into crypto because doge. looking to put some money in btc and what not as i may as well i best into something that is not s meme coin. so far the apps I have used are pretty fucking janky. coinbase pro will not for the life of me upload my damn ids. i had to open the normal coinbase app and upload from there. did not catch. then it took me to the web sight and showed my id files there after i had uploaded but the app still says i need to upload id. then i went to voyager. transferred some funds that still say “pending” after a few days. i made some trades but cannot sell or anything because rrh trade is still pending. it is been 5 business days. I am not confident that when i need to sell the app is going to just magically work with no issues and i do not want to be in that position. i started on robinhood and am trying to go away from that because of its history of fucking people over . is there a professional app that allows you to fluently do what the app was designed for? any tips would be very helpful. ps. I am currently waiting for crypto.com to verify me.'"
      ]
     },
     "execution_count": 192,
     "metadata": {},
     "output_type": "execute_result"
    }
   ],
   "source": [
    "# confirm contractions have been removed\n",
    "df['text_adj'][9]"
   ]
  },
  {
   "cell_type": "code",
   "execution_count": 194,
   "metadata": {},
   "outputs": [
    {
     "data": {
      "text/plain": [
       "'phoenix token presalephoenix token presale is now live! check it out on [https://dxsale.app/app/pages/defipresale?saleid=1320&amp;chain=bsc](https://dxsale.app/app/pages/defipresale?saleid=1320&amp;chain=bsc). devs are based! all liquidity+tokens=locked!'"
      ]
     },
     "execution_count": 194,
     "metadata": {},
     "output_type": "execute_result"
    }
   ],
   "source": [
    "# check for URLs\n",
    "df[df['text_adj'].str.contains('http')]['text_adj'][16]"
   ]
  },
  {
   "cell_type": "code",
   "execution_count": 195,
   "metadata": {},
   "outputs": [],
   "source": [
    "# use regex to remove URLs\n",
    "df['text_adj'] = df['text_adj'].map(lambda x: re.sub('(http|ftp|https):\\/\\/([\\w_-]+(?:(?:\\.[\\w_-]+)+))([\\w.,@?^=%&:\\/~+#-;]*[\\w@?^=%&\\/~+#-])?', ' ', x)) \n",
    "\n",
    "#use regex to remove HTML coding (&amp, &gt, etc)\n",
    "df['text_adj'] = df['text_adj'].map(lambda x: re.sub('-?&\\w+', ' ', x)) "
   ]
  },
  {
   "cell_type": "code",
   "execution_count": 196,
   "metadata": {
    "scrolled": true
   },
   "outputs": [
    {
     "data": {
      "text/plain": [
       "'phoenix token presalephoenix token presale is now live! check it out on [ ]( ). devs are based! all liquidity+tokens=locked!'"
      ]
     },
     "execution_count": 196,
     "metadata": {},
     "output_type": "execute_result"
    }
   ],
   "source": [
    "df['text_adj'][16]"
   ]
  },
  {
   "cell_type": "markdown",
   "metadata": {},
   "source": [
    "### 4.2 Tokenize"
   ]
  },
  {
   "cell_type": "code",
   "execution_count": 197,
   "metadata": {},
   "outputs": [],
   "source": [
    "# tokenize for words, currencies, or percentages\n",
    "tokenizer = RegexpTokenizer('((?:[A-Za-z]\\.)+|[$¥£€%]{0,1}(?:\\d{1,10}[,. ])*\\d{1,10}[$¥£€%]{0,1}|\\w+)')"
   ]
  },
  {
   "cell_type": "code",
   "execution_count": 198,
   "metadata": {},
   "outputs": [],
   "source": [
    "df['token'] = df['text_adj'].map(lambda x: tokenizer.tokenize(x.lower()))"
   ]
  },
  {
   "cell_type": "code",
   "execution_count": 199,
   "metadata": {},
   "outputs": [
    {
     "data": {
      "text/html": [
       "<div>\n",
       "<style scoped>\n",
       "    .dataframe tbody tr th:only-of-type {\n",
       "        vertical-align: middle;\n",
       "    }\n",
       "\n",
       "    .dataframe tbody tr th {\n",
       "        vertical-align: top;\n",
       "    }\n",
       "\n",
       "    .dataframe thead th {\n",
       "        text-align: right;\n",
       "    }\n",
       "</style>\n",
       "<table border=\"1\" class=\"dataframe\">\n",
       "  <thead>\n",
       "    <tr style=\"text-align: right;\">\n",
       "      <th></th>\n",
       "      <th>subreddit</th>\n",
       "      <th>upvote_ratio</th>\n",
       "      <th>text</th>\n",
       "      <th>text_adj</th>\n",
       "      <th>token</th>\n",
       "    </tr>\n",
       "  </thead>\n",
       "  <tbody>\n",
       "    <tr>\n",
       "      <th>0</th>\n",
       "      <td>CryptoCurrency</td>\n",
       "      <td>1.0</td>\n",
       "      <td>Media is bullish again</td>\n",
       "      <td>media is bullish again</td>\n",
       "      <td>[media, is, bullish, again]</td>\n",
       "    </tr>\n",
       "    <tr>\n",
       "      <th>1</th>\n",
       "      <td>CryptoCurrency</td>\n",
       "      <td>1.0</td>\n",
       "      <td>Half of All Bitcoin Open Interest on CME Set t...</td>\n",
       "      <td>half of all bitcoin open interest on cme set t...</td>\n",
       "      <td>[half, of, all, bitcoin, open, interest, on, c...</td>\n",
       "    </tr>\n",
       "    <tr>\n",
       "      <th>2</th>\n",
       "      <td>CryptoCurrency</td>\n",
       "      <td>1.0</td>\n",
       "      <td>BBC release Doctor Who trading cards using NFT...</td>\n",
       "      <td>bbc release doctor who trading cards using nft...</td>\n",
       "      <td>[bbc, release, doctor, who, trading, cards, us...</td>\n",
       "    </tr>\n",
       "    <tr>\n",
       "      <th>3</th>\n",
       "      <td>CryptoCurrency</td>\n",
       "      <td>1.0</td>\n",
       "      <td>What's going on with bitcoin prehalving????</td>\n",
       "      <td>what is going on with bitcoin prehalving????</td>\n",
       "      <td>[what, is, going, on, with, bitcoin, prehalving]</td>\n",
       "    </tr>\n",
       "    <tr>\n",
       "      <th>4</th>\n",
       "      <td>CryptoCurrency</td>\n",
       "      <td>1.0</td>\n",
       "      <td>Quantum Financial Reset To A 3D/5D Hybrid Stat...</td>\n",
       "      <td>quantum financial reset to a 3d/5d hybrid stat...</td>\n",
       "      <td>[quantum, financial, reset, to, a, 3, d, 5, d,...</td>\n",
       "    </tr>\n",
       "  </tbody>\n",
       "</table>\n",
       "</div>"
      ],
      "text/plain": [
       "        subreddit  upvote_ratio  \\\n",
       "0  CryptoCurrency           1.0   \n",
       "1  CryptoCurrency           1.0   \n",
       "2  CryptoCurrency           1.0   \n",
       "3  CryptoCurrency           1.0   \n",
       "4  CryptoCurrency           1.0   \n",
       "\n",
       "                                                text  \\\n",
       "0                             Media is bullish again   \n",
       "1  Half of All Bitcoin Open Interest on CME Set t...   \n",
       "2  BBC release Doctor Who trading cards using NFT...   \n",
       "3        What's going on with bitcoin prehalving????   \n",
       "4  Quantum Financial Reset To A 3D/5D Hybrid Stat...   \n",
       "\n",
       "                                            text_adj  \\\n",
       "0                             media is bullish again   \n",
       "1  half of all bitcoin open interest on cme set t...   \n",
       "2  bbc release doctor who trading cards using nft...   \n",
       "3       what is going on with bitcoin prehalving????   \n",
       "4  quantum financial reset to a 3d/5d hybrid stat...   \n",
       "\n",
       "                                               token  \n",
       "0                        [media, is, bullish, again]  \n",
       "1  [half, of, all, bitcoin, open, interest, on, c...  \n",
       "2  [bbc, release, doctor, who, trading, cards, us...  \n",
       "3   [what, is, going, on, with, bitcoin, prehalving]  \n",
       "4  [quantum, financial, reset, to, a, 3, d, 5, d,...  "
      ]
     },
     "execution_count": 199,
     "metadata": {},
     "output_type": "execute_result"
    }
   ],
   "source": [
    "df.head()"
   ]
  },
  {
   "cell_type": "code",
   "execution_count": 201,
   "metadata": {},
   "outputs": [
    {
     "data": {
      "text/plain": [
       "['media', 'is', 'bullish', 'again']"
      ]
     },
     "execution_count": 201,
     "metadata": {},
     "output_type": "execute_result"
    }
   ],
   "source": [
    "# check tokens for first row are correct\n",
    "df['token'][0]"
   ]
  },
  {
   "cell_type": "markdown",
   "metadata": {},
   "source": [
    "### 4.3 Stop word removal"
   ]
  },
  {
   "cell_type": "code",
   "execution_count": 202,
   "metadata": {},
   "outputs": [
    {
     "name": "stdout",
     "output_type": "stream",
     "text": [
      "['i', 'me', 'my', 'myself', 'we', 'our', 'ours', 'ourselves', 'you', \"you're\", \"you've\", \"you'll\", \"you'd\", 'your', 'yours', 'yourself', 'yourselves', 'he', 'him', 'his', 'himself', 'she', \"she's\", 'her', 'hers', 'herself', 'it', \"it's\", 'its', 'itself', 'they', 'them', 'their', 'theirs', 'themselves', 'what', 'which', 'who', 'whom', 'this', 'that', \"that'll\", 'these', 'those', 'am', 'is', 'are', 'was', 'were', 'be', 'been', 'being', 'have', 'has', 'had', 'having', 'do', 'does', 'did', 'doing', 'a', 'an', 'the', 'and', 'but', 'if', 'or', 'because', 'as', 'until', 'while', 'of', 'at', 'by', 'for', 'with', 'about', 'against', 'between', 'into', 'through', 'during', 'before', 'after', 'above', 'below', 'to', 'from', 'up', 'down', 'in', 'out', 'on', 'off', 'over', 'under', 'again', 'further', 'then', 'once', 'here', 'there', 'when', 'where', 'why', 'how', 'all', 'any', 'both', 'each', 'few', 'more', 'most', 'other', 'some', 'such', 'no', 'nor', 'not', 'only', 'own', 'same', 'so', 'than', 'too', 'very', 's', 't', 'can', 'will', 'just', 'don', \"don't\", 'should', \"should've\", 'now', 'd', 'll', 'm', 'o', 're', 've', 'y', 'ain', 'aren', \"aren't\", 'couldn', \"couldn't\", 'didn', \"didn't\", 'doesn', \"doesn't\", 'hadn', \"hadn't\", 'hasn', \"hasn't\", 'haven', \"haven't\", 'isn', \"isn't\", 'ma', 'mightn', \"mightn't\", 'mustn', \"mustn't\", 'needn', \"needn't\", 'shan', \"shan't\", 'shouldn', \"shouldn't\", 'wasn', \"wasn't\", 'weren', \"weren't\", 'won', \"won't\", 'wouldn', \"wouldn't\"]\n"
     ]
    }
   ],
   "source": [
    "print(stopwords.words('english'))"
   ]
  },
  {
   "cell_type": "code",
   "execution_count": 203,
   "metadata": {},
   "outputs": [],
   "source": [
    "stop = stopwords.words('english')"
   ]
  },
  {
   "cell_type": "code",
   "execution_count": 204,
   "metadata": {},
   "outputs": [],
   "source": [
    "df['token'] = df['token'].apply(lambda x: [item for item in x if item not in stop])"
   ]
  },
  {
   "cell_type": "markdown",
   "metadata": {},
   "source": [
    "### 4.4 Lemmatize"
   ]
  },
  {
   "cell_type": "markdown",
   "metadata": {},
   "source": [
    "- I will lemmatize my tokens to return the base forms (i.e. plural and singular words can be combined for my EDA)"
   ]
  },
  {
   "cell_type": "code",
   "execution_count": 205,
   "metadata": {},
   "outputs": [],
   "source": [
    "lem = WordNetLemmatizer()"
   ]
  },
  {
   "cell_type": "code",
   "execution_count": 206,
   "metadata": {},
   "outputs": [],
   "source": [
    "df['token'] = df['token'].apply(lambda x: [lem.lemmatize(i) for i in x] )"
   ]
  },
  {
   "cell_type": "code",
   "execution_count": 207,
   "metadata": {},
   "outputs": [
    {
     "data": {
      "text/html": [
       "<div>\n",
       "<style scoped>\n",
       "    .dataframe tbody tr th:only-of-type {\n",
       "        vertical-align: middle;\n",
       "    }\n",
       "\n",
       "    .dataframe tbody tr th {\n",
       "        vertical-align: top;\n",
       "    }\n",
       "\n",
       "    .dataframe thead th {\n",
       "        text-align: right;\n",
       "    }\n",
       "</style>\n",
       "<table border=\"1\" class=\"dataframe\">\n",
       "  <thead>\n",
       "    <tr style=\"text-align: right;\">\n",
       "      <th></th>\n",
       "      <th>subreddit</th>\n",
       "      <th>upvote_ratio</th>\n",
       "      <th>text</th>\n",
       "      <th>text_adj</th>\n",
       "      <th>token</th>\n",
       "    </tr>\n",
       "  </thead>\n",
       "  <tbody>\n",
       "    <tr>\n",
       "      <th>0</th>\n",
       "      <td>CryptoCurrency</td>\n",
       "      <td>1.0</td>\n",
       "      <td>Media is bullish again</td>\n",
       "      <td>media is bullish again</td>\n",
       "      <td>[medium, bullish]</td>\n",
       "    </tr>\n",
       "    <tr>\n",
       "      <th>1</th>\n",
       "      <td>CryptoCurrency</td>\n",
       "      <td>1.0</td>\n",
       "      <td>Half of All Bitcoin Open Interest on CME Set t...</td>\n",
       "      <td>half of all bitcoin open interest on cme set t...</td>\n",
       "      <td>[half, bitcoin, open, interest, cme, set, expi...</td>\n",
       "    </tr>\n",
       "    <tr>\n",
       "      <th>2</th>\n",
       "      <td>CryptoCurrency</td>\n",
       "      <td>1.0</td>\n",
       "      <td>BBC release Doctor Who trading cards using NFT...</td>\n",
       "      <td>bbc release doctor who trading cards using nft...</td>\n",
       "      <td>[bbc, release, doctor, trading, card, using, n...</td>\n",
       "    </tr>\n",
       "    <tr>\n",
       "      <th>3</th>\n",
       "      <td>CryptoCurrency</td>\n",
       "      <td>1.0</td>\n",
       "      <td>What's going on with bitcoin prehalving????</td>\n",
       "      <td>what is going on with bitcoin prehalving????</td>\n",
       "      <td>[going, bitcoin, prehalving]</td>\n",
       "    </tr>\n",
       "    <tr>\n",
       "      <th>4</th>\n",
       "      <td>CryptoCurrency</td>\n",
       "      <td>1.0</td>\n",
       "      <td>Quantum Financial Reset To A 3D/5D Hybrid Stat...</td>\n",
       "      <td>quantum financial reset to a 3d/5d hybrid stat...</td>\n",
       "      <td>[quantum, financial, reset, 3, 5, hybrid, stat...</td>\n",
       "    </tr>\n",
       "  </tbody>\n",
       "</table>\n",
       "</div>"
      ],
      "text/plain": [
       "        subreddit  upvote_ratio  \\\n",
       "0  CryptoCurrency           1.0   \n",
       "1  CryptoCurrency           1.0   \n",
       "2  CryptoCurrency           1.0   \n",
       "3  CryptoCurrency           1.0   \n",
       "4  CryptoCurrency           1.0   \n",
       "\n",
       "                                                text  \\\n",
       "0                             Media is bullish again   \n",
       "1  Half of All Bitcoin Open Interest on CME Set t...   \n",
       "2  BBC release Doctor Who trading cards using NFT...   \n",
       "3        What's going on with bitcoin prehalving????   \n",
       "4  Quantum Financial Reset To A 3D/5D Hybrid Stat...   \n",
       "\n",
       "                                            text_adj  \\\n",
       "0                             media is bullish again   \n",
       "1  half of all bitcoin open interest on cme set t...   \n",
       "2  bbc release doctor who trading cards using nft...   \n",
       "3       what is going on with bitcoin prehalving????   \n",
       "4  quantum financial reset to a 3d/5d hybrid stat...   \n",
       "\n",
       "                                               token  \n",
       "0                                  [medium, bullish]  \n",
       "1  [half, bitcoin, open, interest, cme, set, expi...  \n",
       "2  [bbc, release, doctor, trading, card, using, n...  \n",
       "3                       [going, bitcoin, prehalving]  \n",
       "4  [quantum, financial, reset, 3, 5, hybrid, stat...  "
      ]
     },
     "execution_count": 207,
     "metadata": {},
     "output_type": "execute_result"
    }
   ],
   "source": [
    "df.head()"
   ]
  },
  {
   "cell_type": "code",
   "execution_count": 208,
   "metadata": {},
   "outputs": [],
   "source": [
    "# pickle final dataframe\n",
    "df.to_pickle('../datasets/final')"
   ]
  },
  {
   "cell_type": "markdown",
   "metadata": {},
   "source": [
    "# Proceed to Notebook 2. Exploratory Data Analysis "
   ]
  }
 ],
 "metadata": {
  "kernelspec": {
   "display_name": "Python 3",
   "language": "python",
   "name": "python3"
  },
  "language_info": {
   "codemirror_mode": {
    "name": "ipython",
    "version": 3
   },
   "file_extension": ".py",
   "mimetype": "text/x-python",
   "name": "python",
   "nbconvert_exporter": "python",
   "pygments_lexer": "ipython3",
   "version": "3.8.5"
  }
 },
 "nbformat": 4,
 "nbformat_minor": 4
}
