{
 "cells": [
  {
   "cell_type": "markdown",
   "metadata": {},
   "source": [
    "<img src=\"http://imgur.com/1ZcRyrc.png\" style=\"float: left; margin: 20px; height: 55px\">\n",
    "\n",
    "# Project 3: Classification of 'CryptoCurrency' and 'Stocks' Subreddits"
   ]
  },
  {
   "cell_type": "markdown",
   "metadata": {},
   "source": [
    "# Exploratory Data Analysis"
   ]
  },
  {
   "cell_type": "markdown",
   "metadata": {},
   "source": [
    "### Contents\n",
    "1. [Post Length Distribution](#1.-Post-Length-Distribution)\n",
    "2. [Frequency of Key Words](#2.-Frequency-of-Key-Words)\n",
    "3. [Context for Frequent Words](#3.-Context-for-Frequent-Words)\n",
    "4. [Sentiment Analysis](#4.-Sentiment-Analysis)"
   ]
  },
  {
   "cell_type": "code",
   "execution_count": 377,
   "metadata": {},
   "outputs": [],
   "source": [
    "# import libraries\n",
    "\n",
    "import pandas as pd\n",
    "import numpy as np\n",
    "import matplotlib.pyplot as plt\n",
    "import seaborn as sns\n",
    "from nltk.sentiment.vader import SentimentIntensityAnalyzer\n",
    "import pickle\n",
    "\n",
    "from sklearn.feature_extraction.text import CountVectorizer\n",
    "\n",
    "%matplotlib inline"
   ]
  },
  {
   "cell_type": "code",
   "execution_count": 378,
   "metadata": {},
   "outputs": [],
   "source": [
    "# import dataframe\n",
    "df = pd.read_pickle('../datasets/final')"
   ]
  },
  {
   "cell_type": "code",
   "execution_count": 379,
   "metadata": {},
   "outputs": [
    {
     "data": {
      "text/html": [
       "<div>\n",
       "<style scoped>\n",
       "    .dataframe tbody tr th:only-of-type {\n",
       "        vertical-align: middle;\n",
       "    }\n",
       "\n",
       "    .dataframe tbody tr th {\n",
       "        vertical-align: top;\n",
       "    }\n",
       "\n",
       "    .dataframe thead th {\n",
       "        text-align: right;\n",
       "    }\n",
       "</style>\n",
       "<table border=\"1\" class=\"dataframe\">\n",
       "  <thead>\n",
       "    <tr style=\"text-align: right;\">\n",
       "      <th></th>\n",
       "      <th>subreddit</th>\n",
       "      <th>upvote_ratio</th>\n",
       "      <th>text</th>\n",
       "      <th>text_adj</th>\n",
       "      <th>token</th>\n",
       "    </tr>\n",
       "  </thead>\n",
       "  <tbody>\n",
       "    <tr>\n",
       "      <th>0</th>\n",
       "      <td>CryptoCurrency</td>\n",
       "      <td>1.0</td>\n",
       "      <td>Media is bullish again</td>\n",
       "      <td>media is bullish again</td>\n",
       "      <td>[medium, bullish]</td>\n",
       "    </tr>\n",
       "    <tr>\n",
       "      <th>1</th>\n",
       "      <td>CryptoCurrency</td>\n",
       "      <td>1.0</td>\n",
       "      <td>Half of All Bitcoin Open Interest on CME Set to Expire Friday</td>\n",
       "      <td>half of all bitcoin open interest on cme set to expire friday</td>\n",
       "      <td>[half, bitcoin, open, interest, cme, set, expire, friday]</td>\n",
       "    </tr>\n",
       "    <tr>\n",
       "      <th>2</th>\n",
       "      <td>CryptoCurrency</td>\n",
       "      <td>1.0</td>\n",
       "      <td>BBC release Doctor Who trading cards using NFTs on blockchain</td>\n",
       "      <td>bbc release doctor who trading cards using nfts on blockchain</td>\n",
       "      <td>[bbc, release, doctor, trading, card, using, nfts, blockchain]</td>\n",
       "    </tr>\n",
       "    <tr>\n",
       "      <th>3</th>\n",
       "      <td>CryptoCurrency</td>\n",
       "      <td>1.0</td>\n",
       "      <td>What's going on with bitcoin prehalving????</td>\n",
       "      <td>what is going on with bitcoin prehalving????</td>\n",
       "      <td>[going, bitcoin, prehalving]</td>\n",
       "    </tr>\n",
       "    <tr>\n",
       "      <th>4</th>\n",
       "      <td>CryptoCurrency</td>\n",
       "      <td>1.0</td>\n",
       "      <td>Quantum Financial Reset To A 3D/5D Hybrid State Ahead</td>\n",
       "      <td>quantum financial reset to a 3d/5d hybrid state ahead</td>\n",
       "      <td>[quantum, financial, reset, 3, 5, hybrid, state, ahead]</td>\n",
       "    </tr>\n",
       "  </tbody>\n",
       "</table>\n",
       "</div>"
      ],
      "text/plain": [
       "        subreddit  upvote_ratio  \\\n",
       "0  CryptoCurrency           1.0   \n",
       "1  CryptoCurrency           1.0   \n",
       "2  CryptoCurrency           1.0   \n",
       "3  CryptoCurrency           1.0   \n",
       "4  CryptoCurrency           1.0   \n",
       "\n",
       "                                                            text  \\\n",
       "0                                         Media is bullish again   \n",
       "1  Half of All Bitcoin Open Interest on CME Set to Expire Friday   \n",
       "2  BBC release Doctor Who trading cards using NFTs on blockchain   \n",
       "3                    What's going on with bitcoin prehalving????   \n",
       "4          Quantum Financial Reset To A 3D/5D Hybrid State Ahead   \n",
       "\n",
       "                                                        text_adj  \\\n",
       "0                                         media is bullish again   \n",
       "1  half of all bitcoin open interest on cme set to expire friday   \n",
       "2  bbc release doctor who trading cards using nfts on blockchain   \n",
       "3                   what is going on with bitcoin prehalving????   \n",
       "4          quantum financial reset to a 3d/5d hybrid state ahead   \n",
       "\n",
       "                                                            token  \n",
       "0                                               [medium, bullish]  \n",
       "1       [half, bitcoin, open, interest, cme, set, expire, friday]  \n",
       "2  [bbc, release, doctor, trading, card, using, nfts, blockchain]  \n",
       "3                                    [going, bitcoin, prehalving]  \n",
       "4         [quantum, financial, reset, 3, 5, hybrid, state, ahead]  "
      ]
     },
     "execution_count": 379,
     "metadata": {},
     "output_type": "execute_result"
    }
   ],
   "source": [
    "df.head()"
   ]
  },
  {
   "cell_type": "code",
   "execution_count": 380,
   "metadata": {},
   "outputs": [
    {
     "data": {
      "text/plain": [
       "(5000, 5)"
      ]
     },
     "execution_count": 380,
     "metadata": {},
     "output_type": "execute_result"
    }
   ],
   "source": [
    "# check shape\n",
    "df.shape"
   ]
  },
  {
   "cell_type": "markdown",
   "metadata": {},
   "source": [
    "## 1. Post Length Distribution"
   ]
  },
  {
   "cell_type": "code",
   "execution_count": 381,
   "metadata": {},
   "outputs": [],
   "source": [
    "# create length and word count features\n",
    "df['text_length'] = df['text'].map(len)\n",
    "df['word_count'] = df['text'].map(lambda x: len(x.split()))"
   ]
  },
  {
   "cell_type": "markdown",
   "metadata": {},
   "source": [
    "### 1.1 Longest and Shortest posts"
   ]
  },
  {
   "cell_type": "code",
   "execution_count": 382,
   "metadata": {},
   "outputs": [
    {
     "data": {
      "text/html": [
       "<div>\n",
       "<style scoped>\n",
       "    .dataframe tbody tr th:only-of-type {\n",
       "        vertical-align: middle;\n",
       "    }\n",
       "\n",
       "    .dataframe tbody tr th {\n",
       "        vertical-align: top;\n",
       "    }\n",
       "\n",
       "    .dataframe thead th {\n",
       "        text-align: right;\n",
       "    }\n",
       "</style>\n",
       "<table border=\"1\" class=\"dataframe\">\n",
       "  <thead>\n",
       "    <tr style=\"text-align: right;\">\n",
       "      <th></th>\n",
       "      <th>text</th>\n",
       "    </tr>\n",
       "  </thead>\n",
       "  <tbody>\n",
       "    <tr>\n",
       "      <th>1322</th>\n",
       "      <td>Stonks</td>\n",
       "    </tr>\n",
       "    <tr>\n",
       "      <th>102</th>\n",
       "      <td>Bitcoin</td>\n",
       "    </tr>\n",
       "    <tr>\n",
       "      <th>1314</th>\n",
       "      <td>XRP</td>\n",
       "    </tr>\n",
       "    <tr>\n",
       "      <th>731</th>\n",
       "      <td>Happiness</td>\n",
       "    </tr>\n",
       "    <tr>\n",
       "      <th>1320</th>\n",
       "      <td>Ha!</td>\n",
       "    </tr>\n",
       "  </tbody>\n",
       "</table>\n",
       "</div>"
      ],
      "text/plain": [
       "           text\n",
       "1322     Stonks\n",
       "102     Bitcoin\n",
       "1314        XRP\n",
       "731   Happiness\n",
       "1320        Ha!"
      ]
     },
     "execution_count": 382,
     "metadata": {},
     "output_type": "execute_result"
    }
   ],
   "source": [
    "# 5 shortest posts in crypto\n",
    "df[df['subreddit']=='CryptoCurrency'].sort_values(by='word_count')[['text']].head()"
   ]
  },
  {
   "cell_type": "code",
   "execution_count": 383,
   "metadata": {},
   "outputs": [
    {
     "data": {
      "text/html": [
       "<div>\n",
       "<style scoped>\n",
       "    .dataframe tbody tr th:only-of-type {\n",
       "        vertical-align: middle;\n",
       "    }\n",
       "\n",
       "    .dataframe tbody tr th {\n",
       "        vertical-align: top;\n",
       "    }\n",
       "\n",
       "    .dataframe thead th {\n",
       "        text-align: right;\n",
       "    }\n",
       "</style>\n",
       "<table border=\"1\" class=\"dataframe\">\n",
       "  <thead>\n",
       "    <tr style=\"text-align: right;\">\n",
       "      <th></th>\n",
       "      <th>text</th>\n",
       "    </tr>\n",
       "  </thead>\n",
       "  <tbody>\n",
       "    <tr>\n",
       "      <th>1180</th>\n",
       "      <td>Why Dogecoin Isn’t Going Away (Even When It Dumps) And This Community Needs To Accept ThatThis is a revised version of my previous article. \\n\\nMaybe this community won’t down vote me to crap now that everything I’m about to tell you have been proven correct based on empirical evidence. \\n\\nMaybe you guys will actually read my entire post instead of saying it’s “too long” - \\n\\nif after you re...</td>\n",
       "    </tr>\n",
       "    <tr>\n",
       "      <th>1738</th>\n",
       "      <td>As awareness is increasing for Quant after recent announcements, here is an overview and links to find more info about this fantastic project 1/ As awareness is increasing for [@quant\\_network](https://twitter.com/quant_network) after recent announcements I encourage everyone to see the thread below providing more details around the project. Excellent Team, Tech, Use cases, Tokenomics, Partner...</td>\n",
       "    </tr>\n",
       "    <tr>\n",
       "      <th>1323</th>\n",
       "      <td>How I plan to identify and sell the top of the next market cycle.In this post I will share with you some of the strategies I will use to identify the next market cycle top so I can sell for maximum profits (and of course buy back in later in the subsequent bear market!) In the first part of this post I will discuss the resources I will use and in the second part I will discuss tactics in selli...</td>\n",
       "    </tr>\n",
       "    <tr>\n",
       "      <th>2397</th>\n",
       "      <td>Crypto Rocket Fuel: Corrections, Crashes, and Capitulations  \\n\\nDisclaimer: This is not financial advice. I am not a financial advisor and do not proclaim to have such insight. I have a background in data science and machine learning. Crypto is risky…risky business. Invest only what you can afford to lose and DO NOT LEVERAGE yourself. Please.\\n\\nFirst, I want to say that I’m sorry. I’m sorry ...</td>\n",
       "    </tr>\n",
       "    <tr>\n",
       "      <th>2240</th>\n",
       "      <td>TON Explained: What Was TON And Is It Really Over?One of the most striking phenomena of the crypto industry is the struggle of the SEC with the GRAM cryptocurrency and the TON blockchain network. There were tons of theories and forecasts built, and a great future was predicted for the project. But something went wrong, and the US authorities declared war on Durov's system.\\n\\nIn this review, w...</td>\n",
       "    </tr>\n",
       "  </tbody>\n",
       "</table>\n",
       "</div>"
      ],
      "text/plain": [
       "                                                                                                                                                                                                                                                                                                                                                                                                                 text\n",
       "1180  Why Dogecoin Isn’t Going Away (Even When It Dumps) And This Community Needs To Accept ThatThis is a revised version of my previous article. \\n\\nMaybe this community won’t down vote me to crap now that everything I’m about to tell you have been proven correct based on empirical evidence. \\n\\nMaybe you guys will actually read my entire post instead of saying it’s “too long” - \\n\\nif after you re...\n",
       "1738  As awareness is increasing for Quant after recent announcements, here is an overview and links to find more info about this fantastic project 1/ As awareness is increasing for [@quant\\_network](https://twitter.com/quant_network) after recent announcements I encourage everyone to see the thread below providing more details around the project. Excellent Team, Tech, Use cases, Tokenomics, Partner...\n",
       "1323  How I plan to identify and sell the top of the next market cycle.In this post I will share with you some of the strategies I will use to identify the next market cycle top so I can sell for maximum profits (and of course buy back in later in the subsequent bear market!) In the first part of this post I will discuss the resources I will use and in the second part I will discuss tactics in selli...\n",
       "2397  Crypto Rocket Fuel: Corrections, Crashes, and Capitulations  \\n\\nDisclaimer: This is not financial advice. I am not a financial advisor and do not proclaim to have such insight. I have a background in data science and machine learning. Crypto is risky…risky business. Invest only what you can afford to lose and DO NOT LEVERAGE yourself. Please.\\n\\nFirst, I want to say that I’m sorry. I’m sorry ...\n",
       "2240  TON Explained: What Was TON And Is It Really Over?One of the most striking phenomena of the crypto industry is the struggle of the SEC with the GRAM cryptocurrency and the TON blockchain network. There were tons of theories and forecasts built, and a great future was predicted for the project. But something went wrong, and the US authorities declared war on Durov's system.\\n\\nIn this review, w..."
      ]
     },
     "metadata": {},
     "output_type": "display_data"
    }
   ],
   "source": [
    "# 5 longest posts in crypto\n",
    "\n",
    "with pd.option_context('display.max_colwidth', 400):\n",
    "  display(df[df['subreddit']=='CryptoCurrency'].sort_values(by='word_count', ascending=False)[['text']].head())"
   ]
  },
  {
   "cell_type": "code",
   "execution_count": 384,
   "metadata": {},
   "outputs": [
    {
     "data": {
      "text/html": [
       "<div>\n",
       "<style scoped>\n",
       "    .dataframe tbody tr th:only-of-type {\n",
       "        vertical-align: middle;\n",
       "    }\n",
       "\n",
       "    .dataframe tbody tr th {\n",
       "        vertical-align: top;\n",
       "    }\n",
       "\n",
       "    .dataframe thead th {\n",
       "        text-align: right;\n",
       "    }\n",
       "</style>\n",
       "<table border=\"1\" class=\"dataframe\">\n",
       "  <thead>\n",
       "    <tr style=\"text-align: right;\">\n",
       "      <th></th>\n",
       "      <th>text</th>\n",
       "    </tr>\n",
       "  </thead>\n",
       "  <tbody>\n",
       "    <tr>\n",
       "      <th>3367</th>\n",
       "      <td>Newby tips</td>\n",
       "    </tr>\n",
       "    <tr>\n",
       "      <th>2804</th>\n",
       "      <td>Rookie question</td>\n",
       "    </tr>\n",
       "    <tr>\n",
       "      <th>3417</th>\n",
       "      <td>Portfolio Feedback</td>\n",
       "    </tr>\n",
       "    <tr>\n",
       "      <th>3007</th>\n",
       "      <td>Rigel Pharmaceuticals</td>\n",
       "    </tr>\n",
       "    <tr>\n",
       "      <th>2745</th>\n",
       "      <td>TSLA 🚀🚀🚀🚀🚀🚀🚀</td>\n",
       "    </tr>\n",
       "  </tbody>\n",
       "</table>\n",
       "</div>"
      ],
      "text/plain": [
       "                       text\n",
       "3367             Newby tips\n",
       "2804        Rookie question\n",
       "3417     Portfolio Feedback\n",
       "3007  Rigel Pharmaceuticals\n",
       "2745           TSLA 🚀🚀🚀🚀🚀🚀🚀"
      ]
     },
     "execution_count": 384,
     "metadata": {},
     "output_type": "execute_result"
    }
   ],
   "source": [
    "# 5 shortest posts in stocks\n",
    "df[df['subreddit']=='stocks'].sort_values(by='word_count', ascending=True)[['text']].head()"
   ]
  },
  {
   "cell_type": "code",
   "execution_count": 385,
   "metadata": {},
   "outputs": [
    {
     "data": {
      "text/html": [
       "<div>\n",
       "<style scoped>\n",
       "    .dataframe tbody tr th:only-of-type {\n",
       "        vertical-align: middle;\n",
       "    }\n",
       "\n",
       "    .dataframe tbody tr th {\n",
       "        vertical-align: top;\n",
       "    }\n",
       "\n",
       "    .dataframe thead th {\n",
       "        text-align: right;\n",
       "    }\n",
       "</style>\n",
       "<table border=\"1\" class=\"dataframe\">\n",
       "  <thead>\n",
       "    <tr style=\"text-align: right;\">\n",
       "      <th></th>\n",
       "      <th>text</th>\n",
       "    </tr>\n",
       "  </thead>\n",
       "  <tbody>\n",
       "    <tr>\n",
       "      <th>3229</th>\n",
       "      <td>Wall Street Week Ahead for the trading week beginning May 3rd, 2021Goooooood Sunday morning to all of you here on r/stocks. I hope everyone on this sub made out pretty nicely in the market this past week, and is ready for the new trading week ahead.\\n\\nHere is everything you need to know to get you ready for the trading week beginning May 3rd, 2021.\\n\\n# **More earnings, April’s big jobs repor...</td>\n",
       "    </tr>\n",
       "    <tr>\n",
       "      <th>3443</th>\n",
       "      <td>Wall Street Week Ahead for the trading week beginning June 1st, 2020Good Saturday morning to all of you here on r/stocks. I hope everyone on this sub made out pretty nicely in the market this past week, and is ready for the new trading month ahead.\\n\\nHere is everything you need to know to get you ready for the trading week beginning June 1st, 2020.\\n\\n# **Expect more shocking economic data in...</td>\n",
       "    </tr>\n",
       "    <tr>\n",
       "      <th>4499</th>\n",
       "      <td>Stryker DD  \\n\\n**Stryker**\\n\\n  \\n\\nISIN\\n\\n&amp;amp;#x200B;\\n\\nUS8636671013\\n\\n \\n\\nWKN\\n\\n&amp;amp;#x200B;\\n\\n864952\\n\\n \\n\\nHeadquarters\\n\\n&amp;amp;#x200B;\\n\\nUSA\\n\\n \\n\\nPrice\\n\\n&amp;amp;#x200B;\\n\\n210 USD\\n\\n \\n\\nOutstanding   shares\\n\\n&amp;amp;#x200B;\\n\\n380 Mio.\\n\\n \\n\\nMarket capitalization\\n\\n&amp;amp;#x200B;\\n\\n79.800 Mio. USD\\n\\n \\n\\nNet   indebtedness\\n\\n&amp;amp;#x200B;\\n\\n6.200 Mio. USD\\n\\n \\n\\nenterpri...</td>\n",
       "    </tr>\n",
       "    <tr>\n",
       "      <th>3362</th>\n",
       "      <td>Lumber DD: Ignore the Misinformation/Clickbait. The actual price of lumber is still RISING and data shows future demand still very high.The amount bullshit or selective use of statistics by the clickbait headlines and the bears on social media is pissing me off so I’m doing another post to help those who follow me sift through the bullshit.  When evaluating your investment decisions (whether y...</td>\n",
       "    </tr>\n",
       "    <tr>\n",
       "      <th>3508</th>\n",
       "      <td>Due Diligence on Hyliion (HYLN)I’d like to preface this post by stating this is my first proper DD that I’ve publicly submitted. I’ve been a follower of r/stocks for nearly 4 years now, mostly lurking and absorbing information. This is my way of thanking this community for helping me begin my investment journey and helping me mature into financial adulthood. I also think it’s necessary for me ...</td>\n",
       "    </tr>\n",
       "  </tbody>\n",
       "</table>\n",
       "</div>"
      ],
      "text/plain": [
       "                                                                                                                                                                                                                                                                                                                                                                                                                 text\n",
       "3229  Wall Street Week Ahead for the trading week beginning May 3rd, 2021Goooooood Sunday morning to all of you here on r/stocks. I hope everyone on this sub made out pretty nicely in the market this past week, and is ready for the new trading week ahead.\\n\\nHere is everything you need to know to get you ready for the trading week beginning May 3rd, 2021.\\n\\n# **More earnings, April’s big jobs repor...\n",
       "3443  Wall Street Week Ahead for the trading week beginning June 1st, 2020Good Saturday morning to all of you here on r/stocks. I hope everyone on this sub made out pretty nicely in the market this past week, and is ready for the new trading month ahead.\\n\\nHere is everything you need to know to get you ready for the trading week beginning June 1st, 2020.\\n\\n# **Expect more shocking economic data in...\n",
       "4499  Stryker DD  \\n\\n**Stryker**\\n\\n  \\n\\nISIN\\n\\n&amp;#x200B;\\n\\nUS8636671013\\n\\n \\n\\nWKN\\n\\n&amp;#x200B;\\n\\n864952\\n\\n \\n\\nHeadquarters\\n\\n&amp;#x200B;\\n\\nUSA\\n\\n \\n\\nPrice\\n\\n&amp;#x200B;\\n\\n210 USD\\n\\n \\n\\nOutstanding   shares\\n\\n&amp;#x200B;\\n\\n380 Mio.\\n\\n \\n\\nMarket capitalization\\n\\n&amp;#x200B;\\n\\n79.800 Mio. USD\\n\\n \\n\\nNet   indebtedness\\n\\n&amp;#x200B;\\n\\n6.200 Mio. USD\\n\\n \\n\\nenterpri...\n",
       "3362  Lumber DD: Ignore the Misinformation/Clickbait. The actual price of lumber is still RISING and data shows future demand still very high.The amount bullshit or selective use of statistics by the clickbait headlines and the bears on social media is pissing me off so I’m doing another post to help those who follow me sift through the bullshit.  When evaluating your investment decisions (whether y...\n",
       "3508  Due Diligence on Hyliion (HYLN)I’d like to preface this post by stating this is my first proper DD that I’ve publicly submitted. I’ve been a follower of r/stocks for nearly 4 years now, mostly lurking and absorbing information. This is my way of thanking this community for helping me begin my investment journey and helping me mature into financial adulthood. I also think it’s necessary for me ..."
      ]
     },
     "metadata": {},
     "output_type": "display_data"
    }
   ],
   "source": [
    "# 5 longest posts in stocks\n",
    "\n",
    "with pd.option_context('display.max_colwidth', 400):\n",
    "  display(df[df['subreddit']=='stocks'].sort_values(by='word_count', ascending=False)[['text']].head())"
   ]
  },
  {
   "cell_type": "markdown",
   "metadata": {},
   "source": [
    "- From a first glance, the longest posts are similar between cryptocurrency and stocks - either people are sharing news related to crypto/stocks, or people want other users to comment on their financial strategy for investing in crypto/stocks\n",
    "- 2/5 of the shortest posts in crypto are links - it may be interesting to see if more posts in the cryptocurrency or the stocks subreddit actually share links"
   ]
  },
  {
   "cell_type": "markdown",
   "metadata": {},
   "source": [
    "### 1.2 Distribution of Post Length"
   ]
  },
  {
   "cell_type": "code",
   "execution_count": 386,
   "metadata": {
    "scrolled": false
   },
   "outputs": [
    {
     "data": {
      "image/png": "[encoded data removed]",
      "text/plain": [
       "<Figure size 1152x576 with 2 Axes>"
      ]
     },
     "metadata": {
      "needs_background": "light"
     },
     "output_type": "display_data"
    }
   ],
   "source": [
    "# Compare text length and word count\n",
    "\n",
    "title_fig = plt.figure(figsize=(16,8))\n",
    "sns.set_palette('bright')\n",
    "\n",
    "# text legnth\n",
    "ax1 = plt.subplot(1,2,1)\n",
    "ax1.set_xlabel('Text Length (Characters)', fontsize=12)\n",
    "sns.histplot(data=df[df['text_length']<2500], x=\"text_length\", hue=\"subreddit\", kde = True)\n",
    "\n",
    "# word count\n",
    "ax2 = plt.subplot(1,2,2)\n",
    "sns.histplot(data=df[df['word_count']<500], x=\"word_count\", hue=\"subreddit\", kde = True)\n",
    "ax2.set_xlabel('Word Count', fontsize=12)\n",
    "\n",
    "plt.suptitle('Distribution of Text Length and Word Count for r/CryptoCurrency and r/stocks', fontsize=15, fontweight = 'bold');\n",
    "\n"
   ]
  },
  {
   "cell_type": "markdown",
   "metadata": {},
   "source": [
    "- The text length and word count distributions are very similar\n",
    "- The text length and word count distributions for both cryptocurrency and stocks are skewed to the right, however, the skew is greater for cryptocurrency lengths\n",
    "- Posts in the cryptocurrency subreddit tend to be shorter and use fewer words than posts in the stocks subreddit"
   ]
  },
  {
   "cell_type": "code",
   "execution_count": 387,
   "metadata": {},
   "outputs": [
    {
     "data": {
      "image/png": "[encoded data removed]",
      "text/plain": [
       "<Figure size 1296x432 with 2 Axes>"
      ]
     },
     "metadata": {
      "needs_background": "light"
     },
     "output_type": "display_data"
    }
   ],
   "source": [
    "fig = plt.figure(figsize=(18,6))\n",
    "\n",
    "# text length\n",
    "ax1 = plt.subplot(1,2,1)\n",
    "sns.barplot(data = df, x = 'text_length', y = 'subreddit')\n",
    "ax1.set_ylabel('subreddit')\n",
    "ax1.set_xlabel('Text Length')\n",
    "\n",
    "# word count\n",
    "ax2 = plt.subplot(1,2,2)\n",
    "sns.barplot(data = df, x = 'word_count', y = 'subreddit')\n",
    "ax2.set_ylabel('')\n",
    "ax2.set_xlabel('Word Count')\n",
    "\n",
    "plt.suptitle('Mean Text Length and Word Count for r/CryptoCurrency and r/stocks', fontsize=15, fontweight = 'bold');"
   ]
  },
  {
   "cell_type": "markdown",
   "metadata": {},
   "source": [
    "- On average, posts in the stocks subreddit have nearly three times as many words as the cryptocurrency subreddit\n",
    "- This is in line with what I saw during data cleaning, where more posts in the cryptocurrency subreddit had titles only with no text (and therefore would have a smaller word count) than the posts in the stocks subreddit"
   ]
  },
  {
   "cell_type": "markdown",
   "metadata": {},
   "source": [
    "## 2. Frequency of Key Words"
   ]
  },
  {
   "cell_type": "markdown",
   "metadata": {},
   "source": [
    "### 2.1 Unigrams"
   ]
  },
  {
   "cell_type": "code",
   "execution_count": 388,
   "metadata": {},
   "outputs": [],
   "source": [
    "top_20_tokens = df['token'].explode().value_counts()[:20].index\n",
    "top_20_crypto = []\n",
    "top_20_stocks = []\n",
    "for token in top_20_tokens:\n",
    "    top_20_crypto.append(df[df['subreddit']=='CryptoCurrency']['token'].explode().value_counts()[token])\n",
    "    top_20_stocks.append(df[df['subreddit']=='stocks']['token'].explode().value_counts()[token])\n",
    "    \n",
    "top20 = pd.DataFrame({'CryptoCurrency': top_20_crypto, 'Stocks': top_20_stocks}, index = top_20_tokens)"
   ]
  },
  {
   "cell_type": "code",
   "execution_count": 389,
   "metadata": {},
   "outputs": [
    {
     "data": {
      "image/png": "[encoded data removed]",
      "text/plain": [
       "<Figure size 1152x576 with 1 Axes>"
      ]
     },
     "metadata": {
      "needs_background": "light"
     },
     "output_type": "display_data"
    }
   ],
   "source": [
    "top20.plot(kind = 'barh', figsize=(16,8))\n",
    "plt.title('Top 20 Frequent Words in Full Corpus', fontsize=15, fontweight = 'bold');"
   ]
  },
  {
   "cell_type": "markdown",
   "metadata": {},
   "source": [
    "- From the 20 most common words (excluding stop words) across both subreddits, it seems most of the words in the list are from the r/stocks\n",
    "- This makes sense because posts tend to be longer in the stocks subreddit, therefore there are simply more words from this subreddit\n",
    "- The exception is \"crypto\" which, from the top 20 words in the corpus, has the highest frequency in r/CryptoCurrency, but rarely appears in r/stocks\n",
    "- It is interesting the word \"stock\" appears more frequently in r/CryptoCurrency than \"crypto\" appears in r/stocks"
   ]
  },
  {
   "cell_type": "code",
   "execution_count": 390,
   "metadata": {},
   "outputs": [
    {
     "data": {
      "image/png": "[encoded data removed]",
      "text/plain": [
       "<Figure size 1584x864 with 2 Axes>"
      ]
     },
     "metadata": {
      "needs_background": "light"
     },
     "output_type": "display_data"
    }
   ],
   "source": [
    "fig = plt.figure(figsize=(22,12))\n",
    "\n",
    "ax1 = plt.subplot(1,2,1)\n",
    "crypto_tokens = df[df['subreddit']=='CryptoCurrency']['token'].explode()\n",
    "crypto_tokens.value_counts()[:20].plot(kind='barh', color = 'orange')\n",
    "ax1.set_title('r/CryptoCurrency')\n",
    "\n",
    "\n",
    "ax2 = plt.subplot(1,2,2)\n",
    "stocks_tokens = df[df['subreddit']=='stocks']['token'].explode()\n",
    "stocks_tokens.value_counts()[:20].plot(kind='barh')\n",
    "ax2.set_title('r/stocks')\n",
    "\n",
    "plt.suptitle('Top 20 Frequent Words in r/CryptoCurrency and r/stocks', fontsize=15, fontweight = 'bold');"
   ]
  },
  {
   "cell_type": "code",
   "execution_count": 391,
   "metadata": {},
   "outputs": [
    {
     "data": {
      "text/plain": [
       "{'bitcoin',\n",
       " 'btc',\n",
       " 'coin',\n",
       " 'crypto',\n",
       " 'cryptocurrency',\n",
       " 'money',\n",
       " 'people',\n",
       " 'post',\n",
       " 'project',\n",
       " 'wallet'}"
      ]
     },
     "execution_count": 391,
     "metadata": {},
     "output_type": "execute_result"
    }
   ],
   "source": [
    "# words unique in crypto\n",
    "set(crypto_tokens.value_counts()[:20].index) - set(stocks_tokens.value_counts()[:20].index)"
   ]
  },
  {
   "cell_type": "code",
   "execution_count": 392,
   "metadata": {},
   "outputs": [
    {
     "data": {
      "text/plain": [
       "{'also',\n",
       " 'buy',\n",
       " 'company',\n",
       " 'day',\n",
       " 'earnings',\n",
       " 'good',\n",
       " 'share',\n",
       " 'stock',\n",
       " 'think',\n",
       " 'week'}"
      ]
     },
     "execution_count": 392,
     "metadata": {},
     "output_type": "execute_result"
    }
   ],
   "source": [
    "# words unique in stocks\n",
    "set(stocks_tokens.value_counts()[:20].index) - set(crypto_tokens.value_counts()[:20].index) "
   ]
  },
  {
   "cell_type": "code",
   "execution_count": 393,
   "metadata": {},
   "outputs": [
    {
     "data": {
      "text/plain": [
       "{'get',\n",
       " 'know',\n",
       " 'like',\n",
       " 'market',\n",
       " 'new',\n",
       " 'one',\n",
       " 'price',\n",
       " 'time',\n",
       " 'would',\n",
       " 'year'}"
      ]
     },
     "execution_count": 393,
     "metadata": {},
     "output_type": "execute_result"
    }
   ],
   "source": [
    "# words in both stocks and crypto\n",
    "set(stocks_tokens.value_counts()[:20].index).intersection(set(crypto_tokens.value_counts()[:20].index))"
   ]
  },
  {
   "cell_type": "markdown",
   "metadata": {},
   "source": [
    "- As expected, 'crypto' is the most common word in r/CryptoCurrency and stocks is the most common word in r/stocks\n",
    "- I would expect the following words will be important in determining if a post is similar to the content posted in r/CryptoCurrency:\n",
    ">'bitcoin',\n",
    ">'btc',\n",
    ">'coin',\n",
    ">'crypto',\n",
    ">'cryptocurrency',\n",
    ">'money',\n",
    ">'people',\n",
    ">'post',\n",
    ">'project',\n",
    ">'wallet'\n",
    "- Although the following words are common in r/CryptoCurrency, they are also common in r/Stocks and therefore may not be very helpful when building my classification model. It is interesting to note there are some financial term overlaps such as \"market\" and \"price\" that may not be helpful when answering my problem statement.\n",
    ">'get',\n",
    ">'know',\n",
    ">'like',\n",
    ">'market',\n",
    ">'new',\n",
    ">'one',\n",
    ">'price',\n",
    ">'time',\n",
    ">'would',\n",
    ">'year'"
   ]
  },
  {
   "cell_type": "markdown",
   "metadata": {},
   "source": [
    "### 2.2 Bigrams"
   ]
  },
  {
   "cell_type": "markdown",
   "metadata": {},
   "source": [
    "- I will use countvectorizer to generate the most frequent bigrams in the full corpus, and both r/CryptoCurrency and r/stocks"
   ]
  },
  {
   "cell_type": "code",
   "execution_count": 394,
   "metadata": {},
   "outputs": [],
   "source": [
    "# All bigrams from full corpus\n",
    "bigrams_cv = CountVectorizer(ngram_range=(2, 2), stop_words='english')\n",
    "bigrams = bigrams_cv.fit_transform(df['text_adj'])\n",
    "bigrams = pd.DataFrame(bigrams.todense(), columns=bigrams_cv.get_feature_names()).sum()"
   ]
  },
  {
   "cell_type": "code",
   "execution_count": 395,
   "metadata": {},
   "outputs": [],
   "source": [
    "# Bigrams from r/CryptoCurrency\n",
    "cryptobigrams_cv = CountVectorizer(ngram_range=(2, 2), stop_words='english')\n",
    "cryptobigrams = cryptobigrams_cv.fit_transform(df[df['subreddit']=='CryptoCurrency']['text_adj'])\n",
    "cryptobigrams = pd.DataFrame(cryptobigrams.todense(), columns = cryptobigrams_cv.get_feature_names()).sum()\n",
    "top20cryptobigrams = cryptobigrams.sort_values(ascending = False)[:20]"
   ]
  },
  {
   "cell_type": "code",
   "execution_count": 396,
   "metadata": {},
   "outputs": [],
   "source": [
    "# Bigrams from r/stocks\n",
    "stocksbigrams_cv = CountVectorizer(ngram_range=(2, 2), stop_words='english')\n",
    "stocksbigrams = stocksbigrams_cv.fit_transform(df[df['subreddit']=='stocks']['text_adj'])\n",
    "stocksbigrams = pd.DataFrame(stocksbigrams.todense(), columns = stocksbigrams_cv.get_feature_names()).sum()\n",
    "top20stocksbigrams = stocksbigrams.sort_values(ascending = False)[:20]"
   ]
  },
  {
   "cell_type": "code",
   "execution_count": 397,
   "metadata": {
    "scrolled": false
   },
   "outputs": [
    {
     "data": {
      "image/png": "[encoded data removed]",
      "text/plain": [
       "<Figure size 1152x576 with 1 Axes>"
      ]
     },
     "metadata": {
      "needs_background": "light"
     },
     "output_type": "display_data"
    }
   ],
   "source": [
    "top20bigrams = bigrams.sort_values(ascending=False).head(20).index\n",
    "top20_crypto = []\n",
    "top20_stocks = []\n",
    "for bigram in top20bigrams:\n",
    "    try:\n",
    "        top20_crypto.append(cryptobigrams[bigram])\n",
    "    except:\n",
    "        top20_crypto.append(0)\n",
    "    try:\n",
    "        top20_stocks.append(stocksbigrams[bigram])\n",
    "    except:\n",
    "        top20_stocks.append(0)\n",
    "    \n",
    "df_top20bigrams = pd.DataFrame({'CryptoCurrency': top20_crypto, 'Stocks': top20_stocks}, index = top20bigrams)\n",
    "\n",
    "#plot top 20 bigrams\n",
    "df_top20bigrams.plot(kind = 'barh', figsize=(16,8))\n",
    "plt.title('Top 20 Frequent Bigrams in Full Corpus', fontsize=15, fontweight = 'bold');"
   ]
  },
  {
   "cell_type": "markdown",
   "metadata": {},
   "source": [
    "- Most of the top 20 most frequent bigrams (excluding stop words) across both subreddits are from r/stocks, which as explained above, makes sense because there are more words from the r/stocks subreddit\n",
    "- It is interesting how \"long term\" appears more frequently than \"short term\" in both r/stocks and r/CryptoCurrency\n",
    "- There are certain bigrams that rarely appear in r/CryptoCurrency such as \"individual stocks\", \"company earnings\", \"tech stocks\", \"share price\", \"earnings release\" and \"click chart\""
   ]
  },
  {
   "cell_type": "code",
   "execution_count": 398,
   "metadata": {},
   "outputs": [
    {
     "data": {
      "image/png": "[encoded data removed]",
      "text/plain": [
       "<Figure size 1584x864 with 2 Axes>"
      ]
     },
     "metadata": {
      "needs_background": "light"
     },
     "output_type": "display_data"
    }
   ],
   "source": [
    "fig = plt.figure(figsize=(22,12))\n",
    "\n",
    "ax1 = plt.subplot(1,2,1)\n",
    "top20cryptobigrams.plot(kind='barh', color = 'orange')\n",
    "ax1.set_title('r/CryptoCurrency')\n",
    "\n",
    "ax2 = plt.subplot(1,2,2)\n",
    "top20stocksbigrams.plot(kind='barh')\n",
    "ax2.set_title('r/stocks')\n",
    "\n",
    "plt.suptitle('Top 20 Frequent Bigrams in r/CryptoCurrency and r/stocks', fontsize=15, fontweight = 'bold');"
   ]
  },
  {
   "cell_type": "code",
   "execution_count": 399,
   "metadata": {},
   "outputs": [
    {
     "data": {
      "text/plain": [
       "{'bitcoin mining',\n",
       " 'bitcoin price',\n",
       " 'btc eth',\n",
       " 'crypto com',\n",
       " 'crypto exchange',\n",
       " 'current price',\n",
       " 'daily discussion',\n",
       " 'does mean',\n",
       " 'hardware wallet',\n",
       " 'information posted',\n",
       " 'national paralegal',\n",
       " 'new crypto',\n",
       " 'paralegal college',\n",
       " 'pros cons',\n",
       " 'rules apply',\n",
       " 'saylor academy',\n",
       " 'smart contracts'}"
      ]
     },
     "execution_count": 399,
     "metadata": {},
     "output_type": "execute_result"
    }
   ],
   "source": [
    "# bigrams unique in crypto\n",
    "set(top20cryptobigrams.index) - set(top20stocksbigrams.index)"
   ]
  },
  {
   "cell_type": "code",
   "execution_count": 400,
   "metadata": {},
   "outputs": [
    {
     "data": {
      "text/plain": [
       "{'cash flow',\n",
       " 'click chart',\n",
       " 'company earnings',\n",
       " 'covid 19',\n",
       " 'earnings release',\n",
       " 'guys think',\n",
       " 'individual stocks',\n",
       " 'looks like',\n",
       " 'pre market',\n",
       " 'price target',\n",
       " 'share price',\n",
       " 'short term',\n",
       " 'stock market',\n",
       " 'stock price',\n",
       " 'stocks like',\n",
       " 'tech stocks',\n",
       " 'year year'}"
      ]
     },
     "execution_count": 400,
     "metadata": {},
     "output_type": "execute_result"
    }
   ],
   "source": [
    "# bigrams unique in stocks\n",
    "set(top20stocksbigrams.index) - set(top20cryptobigrams.index)"
   ]
  },
  {
   "cell_type": "code",
   "execution_count": 401,
   "metadata": {},
   "outputs": [
    {
     "data": {
      "text/plain": [
       "{'feel like', 'long term', 'market cap'}"
      ]
     },
     "execution_count": 401,
     "metadata": {},
     "output_type": "execute_result"
    }
   ],
   "source": [
    "# bigrams in both r/stocks and r/Crypto\n",
    "set(top20cryptobigrams.index).intersection(set(top20stocksbigrams.index))"
   ]
  },
  {
   "cell_type": "markdown",
   "metadata": {},
   "source": [
    "- Bigrams may be more useful when building my classification model as there is less overlap. The only three bigrams that are in the top 20 most frequent bigrams for both r/CryptoCurrency and r/stocks are \"long term\", \"market cap\", and \"feel like\"\n",
    "- Many of the bigrams I would expect to be unique to one subreddit over the other (such as \"stock market\" or \"bitcoin mining\"), but it is interesting that \"covid 19\" appears far more frequently in r/stocks, and \"current price\" appears more frequently in r/CryptoCurrency (which I would think people interested in both stocks and cryptocurrency be interested in knowing)"
   ]
  },
  {
   "cell_type": "markdown",
   "metadata": {},
   "source": [
    "### 2.3 Other Features"
   ]
  },
  {
   "cell_type": "markdown",
   "metadata": {},
   "source": [
    "#### Question marks"
   ]
  },
  {
   "cell_type": "code",
   "execution_count": 402,
   "metadata": {},
   "outputs": [],
   "source": [
    "df['questions'] = df['text_adj'].str.count('\\\\?')"
   ]
  },
  {
   "cell_type": "code",
   "execution_count": 403,
   "metadata": {},
   "outputs": [
    {
     "data": {
      "text/plain": [
       "subreddit\n",
       "CryptoCurrency    1309\n",
       "stocks            4109\n",
       "Name: questions, dtype: int64"
      ]
     },
     "execution_count": 403,
     "metadata": {},
     "output_type": "execute_result"
    }
   ],
   "source": [
    "df.groupby('subreddit').sum()['questions']"
   ]
  },
  {
   "cell_type": "markdown",
   "metadata": {},
   "source": [
    "- More posts in r/stocks use question marks, which could indicate more people ask questions in r/stocks than in r/CryptoCurrency"
   ]
  },
  {
   "cell_type": "markdown",
   "metadata": {},
   "source": [
    "#### URL"
   ]
  },
  {
   "cell_type": "code",
   "execution_count": 404,
   "metadata": {},
   "outputs": [
    {
     "data": {
      "text/plain": [
       "subreddit\n",
       "CryptoCurrency     780\n",
       "stocks            1558\n",
       "Name: links, dtype: int64"
      ]
     },
     "execution_count": 404,
     "metadata": {},
     "output_type": "execute_result"
    }
   ],
   "source": [
    "df['links'] = df['text'].str.count('http')\n",
    "df.groupby('subreddit').sum()['links']"
   ]
  },
  {
   "cell_type": "markdown",
   "metadata": {},
   "source": [
    "- More posts in r/stocks contain \"http\", which could indicate more people in r/stocks share links than in r/CryptoCurrency"
   ]
  },
  {
   "cell_type": "markdown",
   "metadata": {},
   "source": [
    "## 3. Context for Frequent Words"
   ]
  },
  {
   "cell_type": "markdown",
   "metadata": {},
   "source": [
    "- I want to have some context for how posts in r/stocks and r/CryptoCurreny use the most frequent words\n",
    "- I will create a function that will take a given word and print a string containing the previous word and next 4 words in the post\n",
    "- The function will print 10 random rows from the subreddit"
   ]
  },
  {
   "cell_type": "code",
   "execution_count": 405,
   "metadata": {},
   "outputs": [],
   "source": [
    "def snippet_generator(word, subreddit , n_rows=10):\n",
    "    row = 0\n",
    "    if subreddit in ['stocks','CryptoCurrency']:\n",
    "        df_search = df[df['subreddit']==subreddit].sample(frac=1).reset_index(drop=True)\n",
    "        for i in range(len(df_search)):\n",
    "            if row < n_rows:\n",
    "                try:\n",
    "                    df_search.loc[i].token.index(word)\n",
    "                    word_list = df_search.loc[i].text_adj.split(' ')\n",
    "                    word_loc = df_search.loc[i].text_adj.split(' ').index(word)\n",
    "\n",
    "                    try:\n",
    "                        print(f'{word_list[word_loc-1]} {word_list[word_loc]} {word_list[word_loc+1]} {word_list[word_loc+2]} {word_list[word_loc+3]} {word_list[word_loc+4]}')\n",
    "                        row += 1\n",
    "                    except:\n",
    "                        pass\n",
    "                except:\n",
    "                    pass\n",
    "        if row == 0:\n",
    "            print ('Word not in corpus! Choose another word')\n",
    "    else:\n",
    "        print('Choose stocks or CryptoCurrency subreddits!')"
   ]
  },
  {
   "cell_type": "markdown",
   "metadata": {},
   "source": [
    "- Let's look at the context for words such as \"price\" and \"market\", which are common in both subreddits"
   ]
  },
  {
   "cell_type": "code",
   "execution_count": 410,
   "metadata": {},
   "outputs": [
    {
     "name": "stdout",
     "output_type": "stream",
     "text": [
      "gas price is always as much\n",
      "house' price oracles. tezos is launching\n",
      "the price with those out of\n",
      "chainlink price feeds for powering its\n",
      "as price now passes $500! but\n",
      "what price would you sell btc\n",
      "say price difference here...wtf. rh/coinbase. hhmm\n",
      "bitcoin price tanks 10%, wipes out\n",
      "businessweek: price of gold rises because\n",
      "the price as effectively as earlier.\n"
     ]
    }
   ],
   "source": [
    "# \"price\" in r/CryptoCurrency\n",
    "snippet_generator('price','CryptoCurrency')"
   ]
  },
  {
   "cell_type": "code",
   "execution_count": 408,
   "metadata": {},
   "outputs": [
    {
     "name": "stdout",
     "output_type": "stream",
     "text": [
      "current price - $12.00 target sell\n",
      "again? price predictions for msft?with the\n",
      "oil price gains stalled, while communication\n",
      "in price was not from melvin\n",
      "the price of the coin fell\n",
      "identical price - but a larger\n",
      "even price is at 20.25 and\n",
      "share price of a company by\n",
      "new price targets and reading about\n",
      "the price now is at $215.\n"
     ]
    }
   ],
   "source": [
    "# \"price\" in r/stocks\n",
    "snippet_generator('price','stocks')"
   ]
  },
  {
   "cell_type": "markdown",
   "metadata": {},
   "source": [
    "- posts in r/CryptoCurrency talk about bitcoin price, chainlink price, or ethereum price, while posts in r/Stocks talk about stock price or strike price\n",
    "- there are many instances where it is difficult to know what product the price is related to, in which case price is probably not a good key word in identifying posts from r/CryptoCurrency"
   ]
  },
  {
   "cell_type": "code",
   "execution_count": 411,
   "metadata": {},
   "outputs": [
    {
     "name": "stdout",
     "output_type": "stream",
     "text": [
      "500k market cap! less than 500\n",
      "crypto market in indonesia is huge\n",
      "whilst market manipulation is a factor\n",
      "$83million market cap. faster and cheaper\n",
      "the market caps will be low\n",
      "yesterday's market action, but it is\n",
      "60k market cap should almost defiantly\n",
      "the market would decide the fair\n",
      "the market is surging. you know,\n",
      "by market cap, that have interesting\n"
     ]
    }
   ],
   "source": [
    "# \"market\" in r/CryptoCurrency\n",
    "snippet_generator('market','CryptoCurrency')"
   ]
  },
  {
   "cell_type": "code",
   "execution_count": 412,
   "metadata": {},
   "outputs": [
    {
     "name": "stdout",
     "output_type": "stream",
     "text": [
      "on market stimulus, coronavirus response, etc.i\n",
      "the market cap were from like\n",
      "whole market is hoping/counting on a\n",
      "the market early 2021 when the\n",
      "to market by supporting startup costs\n",
      "stock market being open 24/7?so, I\n",
      "breaking market fundamentals/trading strategies? is this\n",
      "current market price is $30 per\n",
      "the market can see significant short-term\n",
      "the market with 1000$. how would\n"
     ]
    }
   ],
   "source": [
    "# \"market\" in r/stocks\n",
    "snippet_generator('market','stocks')"
   ]
  },
  {
   "cell_type": "markdown",
   "metadata": {},
   "source": [
    "- posts in r/CryptoCurrency talk about crypto market and bitcoin market, although there are mentions of stock market, or simply \"market\" which could be applicable to both subreddits\n",
    "- posts in r/stocks mention \"stock market\" although many posts also seem to use the generic term \"market\" which could apply to both subreddits"
   ]
  },
  {
   "cell_type": "code",
   "execution_count": 413,
   "metadata": {},
   "outputs": [
    {
     "name": "stdout",
     "output_type": "stream",
     "text": [
      "underestimating elon and dogecointoo much focus\n",
      "threatening elon musk is incredibly lame.\n",
      "will elon musk make or break\n",
      "all elon musk ‘does not feel\n",
      "moon elon musk vs dogecoin |\n",
      "by elon musk twitter, by china\n",
      "upon elon musk or mark cuban.\n",
      "that elon sold his bitcoin for\n",
      "day. elon stop!in the last few\n",
      "#1609 elon musk on the joe\n"
     ]
    }
   ],
   "source": [
    "# elon musk in r/CryptoCurrency\n",
    "snippet_generator('elon','CryptoCurrency')"
   ]
  },
  {
   "cell_type": "code",
   "execution_count": 414,
   "metadata": {},
   "outputs": [
    {
     "name": "stdout",
     "output_type": "stream",
     "text": [
      "making elon musk the first trillionaire:\n",
      "by elon musk at tesla's \"battery\n",
      "call, elon painstakingly laid out how\n",
      "knowing elon musk, but thing is\n",
      "is elon musk really worth $59\n",
      "the elon musk-led company is a\n",
      "that elon musk did that with\n",
      "time elon does anything: elon is\n",
      "amazing. elon musk is a visionary.\n",
      "of elon xd. sooo tesla stocks\n"
     ]
    }
   ],
   "source": [
    "# elon musk in r/stocks\n",
    "snippet_generator('elon','stocks')"
   ]
  },
  {
   "cell_type": "markdown",
   "metadata": {},
   "source": [
    "- both r/stocks and r/CryptoCurrency do seem interested in posting about Elon Musk\n",
    "- From the random 10 snippets, r/CryptoCurrency seem to be posting more about Elon's tweets or posting personal opinions on Elon Musk, while r/stocks seem to be posting about tesla stocks, or discussing Elon's net worth"
   ]
  },
  {
   "cell_type": "code",
   "execution_count": 415,
   "metadata": {},
   "outputs": [
    {
     "name": "stdout",
     "output_type": "stream",
     "text": [
      "to covid getting bad in indonesiajust\n",
      "for covid related grants with the\n",
      "the covid dumpbitcoin has been moving\n",
      "the covid crash in march 2020.\n"
     ]
    }
   ],
   "source": [
    "# covid 19 in r/cryptocurrency\n",
    "snippet_generator('covid','CryptoCurrency')"
   ]
  },
  {
   "cell_type": "code",
   "execution_count": 416,
   "metadata": {},
   "outputs": [
    {
     "name": "stdout",
     "output_type": "stream",
     "text": [
      "endless covid debate, and the rants\n",
      "the covid crisis and there are\n",
      "its covid vaccine mrna-1273 will be\n",
      "that covid 19 is a big\n",
      "the covid crash, i did not\n",
      "before covid hit, and that restructuring\n",
      "severe covid pneumonia and lung injury\n",
      "continued covid uncertainties; analysts cited underperformance\n",
      "low covid infections (compared to winter\n",
      "by covid 19 and have reaped\n"
     ]
    }
   ],
   "source": [
    "# covid 19 in r/cryptocurrency\n",
    "snippet_generator('covid','stocks')"
   ]
  },
  {
   "cell_type": "markdown",
   "metadata": {},
   "source": [
    "- r/CryptoCurrency does not have many posts about covid19. \n",
    "- It is interesting that this is a hot topic within the r/stocks subreddit, where it seems a lot of the posts are related to news about covid and its impact on the stock market"
   ]
  },
  {
   "cell_type": "markdown",
   "metadata": {},
   "source": [
    "## 4. Sentiment Analysis"
   ]
  },
  {
   "cell_type": "markdown",
   "metadata": {},
   "source": [
    "### 4.1 Sentiment Analysis with Vader"
   ]
  },
  {
   "cell_type": "code",
   "execution_count": 418,
   "metadata": {},
   "outputs": [],
   "source": [
    "sent = SentimentIntensityAnalyzer()"
   ]
  },
  {
   "cell_type": "code",
   "execution_count": 419,
   "metadata": {},
   "outputs": [],
   "source": [
    "df['polarity_scores_neg'] = df['text_adj'].apply(lambda x: sent.polarity_scores(x)['neg'])\n",
    "df['polarity_scores_pos'] = df['text_adj'].apply(lambda x: sent.polarity_scores(x)['pos'])\n",
    "df['polarity_scores_neu'] = df['text_adj'].apply(lambda x: sent.polarity_scores(x)['neu'])\n",
    "df['polarity_scores_comp'] = df['text_adj'].apply(lambda x: sent.polarity_scores(x)['compound'])"
   ]
  },
  {
   "cell_type": "code",
   "execution_count": 420,
   "metadata": {},
   "outputs": [
    {
     "data": {
      "text/html": [
       "<div>\n",
       "<style scoped>\n",
       "    .dataframe tbody tr th:only-of-type {\n",
       "        vertical-align: middle;\n",
       "    }\n",
       "\n",
       "    .dataframe tbody tr th {\n",
       "        vertical-align: top;\n",
       "    }\n",
       "\n",
       "    .dataframe thead th {\n",
       "        text-align: right;\n",
       "    }\n",
       "</style>\n",
       "<table border=\"1\" class=\"dataframe\">\n",
       "  <thead>\n",
       "    <tr style=\"text-align: right;\">\n",
       "      <th></th>\n",
       "      <th>polarity_scores_neg</th>\n",
       "      <th>polarity_scores_pos</th>\n",
       "      <th>polarity_scores_neu</th>\n",
       "      <th>polarity_scores_comp</th>\n",
       "    </tr>\n",
       "    <tr>\n",
       "      <th>subreddit</th>\n",
       "      <th></th>\n",
       "      <th></th>\n",
       "      <th></th>\n",
       "      <th></th>\n",
       "    </tr>\n",
       "  </thead>\n",
       "  <tbody>\n",
       "    <tr>\n",
       "      <th>CryptoCurrency</th>\n",
       "      <td>0.048360</td>\n",
       "      <td>0.095116</td>\n",
       "      <td>0.856128</td>\n",
       "      <td>0.171118</td>\n",
       "    </tr>\n",
       "    <tr>\n",
       "      <th>stocks</th>\n",
       "      <td>0.041675</td>\n",
       "      <td>0.113554</td>\n",
       "      <td>0.844772</td>\n",
       "      <td>0.452540</td>\n",
       "    </tr>\n",
       "  </tbody>\n",
       "</table>\n",
       "</div>"
      ],
      "text/plain": [
       "                polarity_scores_neg  polarity_scores_pos  polarity_scores_neu  \\\n",
       "subreddit                                                                       \n",
       "CryptoCurrency             0.048360             0.095116             0.856128   \n",
       "stocks                     0.041675             0.113554             0.844772   \n",
       "\n",
       "                polarity_scores_comp  \n",
       "subreddit                             \n",
       "CryptoCurrency              0.171118  \n",
       "stocks                      0.452540  "
      ]
     },
     "execution_count": 420,
     "metadata": {},
     "output_type": "execute_result"
    }
   ],
   "source": [
    "polarity_col = ['subreddit','polarity_scores_neg', 'polarity_scores_pos', 'polarity_scores_neu', 'polarity_scores_comp']\n",
    "df[polarity_col].groupby('subreddit').mean()"
   ]
  },
  {
   "cell_type": "code",
   "execution_count": 423,
   "metadata": {},
   "outputs": [
    {
     "data": {
      "image/png": "[encoded data removed]",
      "text/plain": [
       "<Figure size 1008x720 with 4 Axes>"
      ]
     },
     "metadata": {
      "needs_background": "light"
     },
     "output_type": "display_data"
    }
   ],
   "source": [
    "fig, axes = plt.subplots(2,2, figsize=(14,10))\n",
    "polar_col = ['polarity_scores_neg', 'polarity_scores_pos', 'polarity_scores_neu', 'polarity_scores_comp']\n",
    "\n",
    "for i,t in enumerate(polar_col):\n",
    "    sns.boxplot(y=t, x=\"subreddit\", data=df, ax=axes[i%2, int(i<2)])"
   ]
  },
  {
   "cell_type": "markdown",
   "metadata": {},
   "source": [
    "- The mean scores for neutral, negative, and positive are similar however the compounded polarity score for r/stocks is significantly higher\n",
    "- By looking at the boxplots this does make sense, because while the median scores are similar, the interquartile range for neutral and positive scores is much greater for r/CryptoCurrency than r/stocks\n",
    "- Additionally, there are a lot more outliers present in the positive polarity and negative polarity boxplots for r/CryptoCurrency, indicating the polarity scores are more extreme for r/CryptoCurrency\n",
    "- I will look at the 10 posts with the highest negative polarity and positive polarity scores"
   ]
  },
  {
   "cell_type": "code",
   "execution_count": 424,
   "metadata": {},
   "outputs": [
    {
     "data": {
      "text/html": [
       "<div>\n",
       "<style scoped>\n",
       "    .dataframe tbody tr th:only-of-type {\n",
       "        vertical-align: middle;\n",
       "    }\n",
       "\n",
       "    .dataframe tbody tr th {\n",
       "        vertical-align: top;\n",
       "    }\n",
       "\n",
       "    .dataframe thead th {\n",
       "        text-align: right;\n",
       "    }\n",
       "</style>\n",
       "<table border=\"1\" class=\"dataframe\">\n",
       "  <thead>\n",
       "    <tr style=\"text-align: right;\">\n",
       "      <th></th>\n",
       "      <th>subreddit</th>\n",
       "      <th>text_adj</th>\n",
       "      <th>polarity_scores_neg</th>\n",
       "    </tr>\n",
       "  </thead>\n",
       "  <tbody>\n",
       "    <tr>\n",
       "      <th>2373</th>\n",
       "      <td>CryptoCurrency</td>\n",
       "      <td>guilty</td>\n",
       "      <td>1.000</td>\n",
       "    </tr>\n",
       "    <tr>\n",
       "      <th>2078</th>\n",
       "      <td>CryptoCurrency</td>\n",
       "      <td>biden = dump</td>\n",
       "      <td>0.722</td>\n",
       "    </tr>\n",
       "    <tr>\n",
       "      <th>1134</th>\n",
       "      <td>CryptoCurrency</td>\n",
       "      <td>very nervous</td>\n",
       "      <td>0.705</td>\n",
       "    </tr>\n",
       "    <tr>\n",
       "      <th>2390</th>\n",
       "      <td>CryptoCurrency</td>\n",
       "      <td>and now I am broke as hell</td>\n",
       "      <td>0.649</td>\n",
       "    </tr>\n",
       "    <tr>\n",
       "      <th>331</th>\n",
       "      <td>CryptoCurrency</td>\n",
       "      <td>paypal phishing scam</td>\n",
       "      <td>0.649</td>\n",
       "    </tr>\n",
       "    <tr>\n",
       "      <th>865</th>\n",
       "      <td>CryptoCurrency</td>\n",
       "      <td>is this a scam?</td>\n",
       "      <td>0.649</td>\n",
       "    </tr>\n",
       "    <tr>\n",
       "      <th>243</th>\n",
       "      <td>CryptoCurrency</td>\n",
       "      <td>oh the irony! bad bot.</td>\n",
       "      <td>0.625</td>\n",
       "    </tr>\n",
       "    <tr>\n",
       "      <th>1689</th>\n",
       "      <td>CryptoCurrency</td>\n",
       "      <td>akon cryptocoin city, wtf!?!?</td>\n",
       "      <td>0.613</td>\n",
       "    </tr>\n",
       "    <tr>\n",
       "      <th>601</th>\n",
       "      <td>CryptoCurrency</td>\n",
       "      <td>bitconnect scam man lost life savings</td>\n",
       "      <td>0.600</td>\n",
       "    </tr>\n",
       "    <tr>\n",
       "      <th>743</th>\n",
       "      <td>CryptoCurrency</td>\n",
       "      <td>ethereum cheat sheet</td>\n",
       "      <td>0.600</td>\n",
       "    </tr>\n",
       "  </tbody>\n",
       "</table>\n",
       "</div>"
      ],
      "text/plain": [
       "           subreddit                               text_adj  \\\n",
       "2373  CryptoCurrency                                 guilty   \n",
       "2078  CryptoCurrency                           biden = dump   \n",
       "1134  CryptoCurrency                           very nervous   \n",
       "2390  CryptoCurrency             and now I am broke as hell   \n",
       "331   CryptoCurrency                   paypal phishing scam   \n",
       "865   CryptoCurrency                        is this a scam?   \n",
       "243   CryptoCurrency                 oh the irony! bad bot.   \n",
       "1689  CryptoCurrency          akon cryptocoin city, wtf!?!?   \n",
       "601   CryptoCurrency  bitconnect scam man lost life savings   \n",
       "743   CryptoCurrency                   ethereum cheat sheet   \n",
       "\n",
       "      polarity_scores_neg  \n",
       "2373                1.000  \n",
       "2078                0.722  \n",
       "1134                0.705  \n",
       "2390                0.649  \n",
       "331                 0.649  \n",
       "865                 0.649  \n",
       "243                 0.625  \n",
       "1689                0.613  \n",
       "601                 0.600  \n",
       "743                 0.600  "
      ]
     },
     "execution_count": 424,
     "metadata": {},
     "output_type": "execute_result"
    }
   ],
   "source": [
    "# top 10 negative posts\n",
    "df.sort_values(by='polarity_scores_neg', ascending = False)[['subreddit', 'text_adj', 'polarity_scores_neg']].head(10)"
   ]
  },
  {
   "cell_type": "markdown",
   "metadata": {},
   "source": [
    "- All 10 highest negative polarity scores are from r/CryptoCurrency\n",
    "- There seems to be a fear of being scammed or losing money in these posts, which does make sense because cryptocurrency is a riskier product"
   ]
  },
  {
   "cell_type": "code",
   "execution_count": 425,
   "metadata": {},
   "outputs": [
    {
     "data": {
      "text/html": [
       "<div>\n",
       "<style scoped>\n",
       "    .dataframe tbody tr th:only-of-type {\n",
       "        vertical-align: middle;\n",
       "    }\n",
       "\n",
       "    .dataframe tbody tr th {\n",
       "        vertical-align: top;\n",
       "    }\n",
       "\n",
       "    .dataframe thead th {\n",
       "        text-align: right;\n",
       "    }\n",
       "</style>\n",
       "<table border=\"1\" class=\"dataframe\">\n",
       "  <thead>\n",
       "    <tr style=\"text-align: right;\">\n",
       "      <th></th>\n",
       "      <th>subreddit</th>\n",
       "      <th>text_adj</th>\n",
       "      <th>polarity_scores_pos</th>\n",
       "    </tr>\n",
       "  </thead>\n",
       "  <tbody>\n",
       "    <tr>\n",
       "      <th>1320</th>\n",
       "      <td>CryptoCurrency</td>\n",
       "      <td>ha!</td>\n",
       "      <td>1.000</td>\n",
       "    </tr>\n",
       "    <tr>\n",
       "      <th>731</th>\n",
       "      <td>CryptoCurrency</td>\n",
       "      <td>happiness</td>\n",
       "      <td>1.000</td>\n",
       "    </tr>\n",
       "    <tr>\n",
       "      <th>2245</th>\n",
       "      <td>CryptoCurrency</td>\n",
       "      <td>great opportunity 30% launch bonus</td>\n",
       "      <td>0.839</td>\n",
       "    </tr>\n",
       "    <tr>\n",
       "      <th>1404</th>\n",
       "      <td>CryptoCurrency</td>\n",
       "      <td>my precious</td>\n",
       "      <td>0.787</td>\n",
       "    </tr>\n",
       "    <tr>\n",
       "      <th>251</th>\n",
       "      <td>CryptoCurrency</td>\n",
       "      <td>free money!</td>\n",
       "      <td>0.782</td>\n",
       "    </tr>\n",
       "    <tr>\n",
       "      <th>1188</th>\n",
       "      <td>CryptoCurrency</td>\n",
       "      <td>free rur</td>\n",
       "      <td>0.767</td>\n",
       "    </tr>\n",
       "    <tr>\n",
       "      <th>161</th>\n",
       "      <td>CryptoCurrency</td>\n",
       "      <td>so true</td>\n",
       "      <td>0.756</td>\n",
       "    </tr>\n",
       "    <tr>\n",
       "      <th>1319</th>\n",
       "      <td>CryptoCurrency</td>\n",
       "      <td>support - btc</td>\n",
       "      <td>0.730</td>\n",
       "    </tr>\n",
       "    <tr>\n",
       "      <th>976</th>\n",
       "      <td>CryptoCurrency</td>\n",
       "      <td>crypto god</td>\n",
       "      <td>0.677</td>\n",
       "    </tr>\n",
       "    <tr>\n",
       "      <th>571</th>\n",
       "      <td>CryptoCurrency</td>\n",
       "      <td>please adopt the lighting 💡 network—it is amazing!</td>\n",
       "      <td>0.669</td>\n",
       "    </tr>\n",
       "  </tbody>\n",
       "</table>\n",
       "</div>"
      ],
      "text/plain": [
       "           subreddit                                            text_adj  \\\n",
       "1320  CryptoCurrency                                                 ha!   \n",
       "731   CryptoCurrency                                           happiness   \n",
       "2245  CryptoCurrency                  great opportunity 30% launch bonus   \n",
       "1404  CryptoCurrency                                         my precious   \n",
       "251   CryptoCurrency                                         free money!   \n",
       "1188  CryptoCurrency                                            free rur   \n",
       "161   CryptoCurrency                                             so true   \n",
       "1319  CryptoCurrency                                       support - btc   \n",
       "976   CryptoCurrency                                          crypto god   \n",
       "571   CryptoCurrency  please adopt the lighting 💡 network—it is amazing!   \n",
       "\n",
       "      polarity_scores_pos  \n",
       "1320                1.000  \n",
       "731                 1.000  \n",
       "2245                0.839  \n",
       "1404                0.787  \n",
       "251                 0.782  \n",
       "1188                0.767  \n",
       "161                 0.756  \n",
       "1319                0.730  \n",
       "976                 0.677  \n",
       "571                 0.669  "
      ]
     },
     "execution_count": 425,
     "metadata": {},
     "output_type": "execute_result"
    }
   ],
   "source": [
    "df.sort_values(by='polarity_scores_pos', ascending = False)[['subreddit', 'text_adj', 'polarity_scores_pos']].head(10)"
   ]
  },
  {
   "cell_type": "markdown",
   "metadata": {},
   "source": [
    "- All 10 highest positive polarity scores are also from r/CryptoCurrency\n",
    "- There are many posts about free money, or happiness that have high polarity scores. This also makes sense with cryptocurrency, which is a riskier product but can also have high reward"
   ]
  },
  {
   "cell_type": "markdown",
   "metadata": {},
   "source": [
    "### 4.2 Reddit's Upvote Ratio"
   ]
  },
  {
   "cell_type": "markdown",
   "metadata": {},
   "source": [
    "- Another method to see how people react to posts in these subreddits is to look at the upvote ratio. \n",
    "- The upvote ratio is a float between 0 to 1 (where 1 would mean the post has mostly upvotes compared to downvotes, and 0 would mean the post has most downvotes)\n",
    "- The upvote ratio will show what posts other users in these subreddits agree or disagree with, which will allow me to understand what type of sentiments are popular in each subreddit"
   ]
  },
  {
   "cell_type": "code",
   "execution_count": 439,
   "metadata": {},
   "outputs": [
    {
     "data": {
      "image/png": "[encoded data removed]",
      "text/plain": [
       "<Figure size 834x360 with 1 Axes>"
      ]
     },
     "metadata": {
      "needs_background": "light"
     },
     "output_type": "display_data"
    }
   ],
   "source": [
    "sns.displot(data = df, x = 'upvote_ratio', hue = 'subreddit', bins = 25, height = 5, aspect = 2)\n",
    "plt.title('Upvote Ratio of Posts in r/CryptoCurrency and r/stocks');"
   ]
  },
  {
   "cell_type": "code",
   "execution_count": 442,
   "metadata": {},
   "outputs": [
    {
     "data": {
      "text/html": [
       "<div>\n",
       "<style scoped>\n",
       "    .dataframe tbody tr th:only-of-type {\n",
       "        vertical-align: middle;\n",
       "    }\n",
       "\n",
       "    .dataframe tbody tr th {\n",
       "        vertical-align: top;\n",
       "    }\n",
       "\n",
       "    .dataframe thead th {\n",
       "        text-align: right;\n",
       "    }\n",
       "</style>\n",
       "<table border=\"1\" class=\"dataframe\">\n",
       "  <thead>\n",
       "    <tr style=\"text-align: right;\">\n",
       "      <th></th>\n",
       "      <th>count</th>\n",
       "      <th>mean</th>\n",
       "      <th>std</th>\n",
       "      <th>min</th>\n",
       "      <th>25%</th>\n",
       "      <th>50%</th>\n",
       "      <th>75%</th>\n",
       "      <th>max</th>\n",
       "    </tr>\n",
       "    <tr>\n",
       "      <th>subreddit</th>\n",
       "      <th></th>\n",
       "      <th></th>\n",
       "      <th></th>\n",
       "      <th></th>\n",
       "      <th></th>\n",
       "      <th></th>\n",
       "      <th></th>\n",
       "      <th></th>\n",
       "    </tr>\n",
       "  </thead>\n",
       "  <tbody>\n",
       "    <tr>\n",
       "      <th>CryptoCurrency</th>\n",
       "      <td>2500.0</td>\n",
       "      <td>0.976004</td>\n",
       "      <td>0.102663</td>\n",
       "      <td>0.14</td>\n",
       "      <td>1.0</td>\n",
       "      <td>1.0</td>\n",
       "      <td>1.0</td>\n",
       "      <td>1.0</td>\n",
       "    </tr>\n",
       "    <tr>\n",
       "      <th>stocks</th>\n",
       "      <td>2424.0</td>\n",
       "      <td>0.955854</td>\n",
       "      <td>0.136278</td>\n",
       "      <td>0.09</td>\n",
       "      <td>1.0</td>\n",
       "      <td>1.0</td>\n",
       "      <td>1.0</td>\n",
       "      <td>1.0</td>\n",
       "    </tr>\n",
       "  </tbody>\n",
       "</table>\n",
       "</div>"
      ],
      "text/plain": [
       "                 count      mean       std   min  25%  50%  75%  max\n",
       "subreddit                                                           \n",
       "CryptoCurrency  2500.0  0.976004  0.102663  0.14  1.0  1.0  1.0  1.0\n",
       "stocks          2424.0  0.955854  0.136278  0.09  1.0  1.0  1.0  1.0"
      ]
     },
     "execution_count": 442,
     "metadata": {},
     "output_type": "execute_result"
    }
   ],
   "source": [
    "df.groupby('subreddit').describe()['upvote_ratio']"
   ]
  },
  {
   "cell_type": "markdown",
   "metadata": {},
   "source": [
    "- Most posts in r/stocks and r/CryptoCurrency have an upvote ratio of 1. \n",
    "- It makes sense that the upvote ratio is skewed towards 1 because I have already cleaned the dataset of posts that were removed by moderators/deleted by users themselves (which would be more likely to have a lower upvote ratio)\n",
    "- However, this feature may not be very useful anymore in understanding how certain posts have been received on reddit\n",
    "- I will only look at the posts with the lowest upvote ratio since most posts have an upvote ratio of 1"
   ]
  },
  {
   "cell_type": "code",
   "execution_count": 455,
   "metadata": {},
   "outputs": [
    {
     "data": {
      "text/html": [
       "<div>\n",
       "<style scoped>\n",
       "    .dataframe tbody tr th:only-of-type {\n",
       "        vertical-align: middle;\n",
       "    }\n",
       "\n",
       "    .dataframe tbody tr th {\n",
       "        vertical-align: top;\n",
       "    }\n",
       "\n",
       "    .dataframe thead th {\n",
       "        text-align: right;\n",
       "    }\n",
       "</style>\n",
       "<table border=\"1\" class=\"dataframe\">\n",
       "  <thead>\n",
       "    <tr style=\"text-align: right;\">\n",
       "      <th></th>\n",
       "      <th>text_adj</th>\n",
       "      <th>upvote_ratio</th>\n",
       "      <th>subreddit</th>\n",
       "    </tr>\n",
       "  </thead>\n",
       "  <tbody>\n",
       "    <tr>\n",
       "      <th>3441</th>\n",
       "      <td>best way to make money trading stock optionshey everyone, i have been trading stock options for a few years now and it has become my primary source of income. the pandemic has definitely made trading options a bit more exciting to say the least, lol. anyways, i focus on riding the hype stocks and selling for quick profits. this is a bit different than normal day trading because of the speed th...</td>\n",
       "      <td>0.09</td>\n",
       "      <td>stocks</td>\n",
       "    </tr>\n",
       "    <tr>\n",
       "      <th>4744</th>\n",
       "      <td>what is next? tslai deff think it might go up a bit but after q2 results, it will eventually go down and come back up within months. but as of now best to do is sell/wait/buy when comes down</td>\n",
       "      <td>0.10</td>\n",
       "      <td>stocks</td>\n",
       "    </tr>\n",
       "    <tr>\n",
       "      <th>747</th>\n",
       "      <td>does anybody still doubt me? hex  ; stablecoins all the wayhey you all, I have been trying to tell you for months that the crypto space (and reddit) have been under heavy manipulation  ; that things were going to get very unstable. you know what coin you can always count on?? hex. [use this link to get started]( ) listen to me carefully. if you buy hex do not attempt to do anything sneaky with...</td>\n",
       "      <td>0.14</td>\n",
       "      <td>CryptoCurrency</td>\n",
       "    </tr>\n",
       "    <tr>\n",
       "      <th>1278</th>\n",
       "      <td>i got fired on my bday over a typo....eth donations accepted 🥺🥺🙃</td>\n",
       "      <td>0.14</td>\n",
       "      <td>CryptoCurrency</td>\n",
       "    </tr>\n",
       "    <tr>\n",
       "      <th>744</th>\n",
       "      <td>those billionaires man ....</td>\n",
       "      <td>0.15</td>\n",
       "      <td>CryptoCurrency</td>\n",
       "    </tr>\n",
       "  </tbody>\n",
       "</table>\n",
       "</div>"
      ],
      "text/plain": [
       "                                                                                                                                                                                                                                                                                                                                                                                                             text_adj  \\\n",
       "3441  best way to make money trading stock optionshey everyone, i have been trading stock options for a few years now and it has become my primary source of income. the pandemic has definitely made trading options a bit more exciting to say the least, lol. anyways, i focus on riding the hype stocks and selling for quick profits. this is a bit different than normal day trading because of the speed th...   \n",
       "4744                                                                                                                                                                                                                   what is next? tslai deff think it might go up a bit but after q2 results, it will eventually go down and come back up within months. but as of now best to do is sell/wait/buy when comes down   \n",
       "747   does anybody still doubt me? hex  ; stablecoins all the wayhey you all, I have been trying to tell you for months that the crypto space (and reddit) have been under heavy manipulation  ; that things were going to get very unstable. you know what coin you can always count on?? hex. [use this link to get started]( ) listen to me carefully. if you buy hex do not attempt to do anything sneaky with...   \n",
       "1278                                                                                                                                                                                                                                                                                                                                                 i got fired on my bday over a typo....eth donations accepted 🥺🥺🙃   \n",
       "744                                                                                                                                                                                                                                                                                                                                                                                       those billionaires man ....   \n",
       "\n",
       "      upvote_ratio       subreddit  \n",
       "3441          0.09          stocks  \n",
       "4744          0.10          stocks  \n",
       "747           0.14  CryptoCurrency  \n",
       "1278          0.14  CryptoCurrency  \n",
       "744           0.15  CryptoCurrency  "
      ]
     },
     "metadata": {},
     "output_type": "display_data"
    }
   ],
   "source": [
    "# lowest upvote ratio\n",
    "with pd.option_context('display.max_colwidth', 400):\n",
    "  display(df.sort_values(by='upvote_ratio')[['text_adj', 'upvote_ratio', 'subreddit']].head(5))"
   ]
  },
  {
   "cell_type": "markdown",
   "metadata": {},
   "source": [
    "- The posts with the lowest upvote ratios come from both r/stocks and r/CryptoCurrency\n",
    "- It seems these posts are either giving poor advice, or asking for donations which other reddit users must have downvoted"
   ]
  },
  {
   "cell_type": "markdown",
   "metadata": {},
   "source": [
    "# Proceed to Notebook 3. Data Modeling"
   ]
  }
 ],
 "metadata": {
  "kernelspec": {
   "display_name": "Python 3",
   "language": "python",
   "name": "python3"
  },
  "language_info": {
   "codemirror_mode": {
    "name": "ipython",
    "version": 3
   },
   "file_extension": ".py",
   "mimetype": "text/x-python",
   "name": "python",
   "nbconvert_exporter": "python",
   "pygments_lexer": "ipython3",
   "version": "3.8.5"
  }
 },
 "nbformat": 4,
 "nbformat_minor": 4
}
