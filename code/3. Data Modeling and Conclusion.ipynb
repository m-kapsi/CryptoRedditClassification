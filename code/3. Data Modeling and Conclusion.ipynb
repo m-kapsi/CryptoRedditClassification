{
 "cells": [
  {
   "cell_type": "markdown",
   "metadata": {},
   "source": [
    "# Classification of 'CryptoCurrency' and 'Stocks' Subreddits"
   ]
  },
  {
   "cell_type": "markdown",
   "metadata": {},
   "source": [
    "# Part 3: Data Modeling and Conclusion"
   ]
  },
  {
   "cell_type": "markdown",
   "metadata": {},
   "source": [
    "### Contents\n",
    "1. [Data Modeling](#1.-Data-Modeling)\n",
    "2. [Conclusion and Recommendations](#2.-Conclusion-and-Recommendations)"
   ]
  },
  {
   "cell_type": "code",
   "execution_count": 2,
   "metadata": {},
   "outputs": [],
   "source": [
    "import requests\n",
    "import pandas as pd\n",
    "import numpy as np\n",
    "import matplotlib.pyplot as plt\n",
    "import seaborn as sns\n",
    "from sklearn.feature_extraction.text import CountVectorizer, TfidfVectorizer\n",
    "from nltk.corpus import stopwords\n",
    "import pickle\n",
    "\n",
    "from sklearn.metrics import confusion_matrix\n",
    "from sklearn.model_selection import train_test_split, GridSearchCV, cross_val_score\n",
    "from sklearn.metrics import f1_score, roc_auc_score, plot_roc_curve, recall_score\n",
    "\n",
    "from sklearn.ensemble import RandomForestClassifier, VotingClassifier\n",
    "from sklearn.naive_bayes import MultinomialNB\n",
    "from sklearn.svm import SVC\n",
    "from sklearn.pipeline import Pipeline"
   ]
  },
  {
   "cell_type": "code",
   "execution_count": 2,
   "metadata": {},
   "outputs": [],
   "source": [
    "# import dataframe\n",
    "df = pd.read_pickle('../datasets/final')"
   ]
  },
  {
   "cell_type": "code",
   "execution_count": 3,
   "metadata": {},
   "outputs": [
    {
     "data": {
      "text/html": [
       "<div>\n",
       "<style scoped>\n",
       "    .dataframe tbody tr th:only-of-type {\n",
       "        vertical-align: middle;\n",
       "    }\n",
       "\n",
       "    .dataframe tbody tr th {\n",
       "        vertical-align: top;\n",
       "    }\n",
       "\n",
       "    .dataframe thead th {\n",
       "        text-align: right;\n",
       "    }\n",
       "</style>\n",
       "<table border=\"1\" class=\"dataframe\">\n",
       "  <thead>\n",
       "    <tr style=\"text-align: right;\">\n",
       "      <th></th>\n",
       "      <th>subreddit</th>\n",
       "      <th>upvote_ratio</th>\n",
       "      <th>text</th>\n",
       "      <th>text_adj</th>\n",
       "      <th>token</th>\n",
       "    </tr>\n",
       "  </thead>\n",
       "  <tbody>\n",
       "    <tr>\n",
       "      <th>0</th>\n",
       "      <td>CryptoCurrency</td>\n",
       "      <td>1.0</td>\n",
       "      <td>Media is bullish again</td>\n",
       "      <td>media is bullish again</td>\n",
       "      <td>[medium, bullish]</td>\n",
       "    </tr>\n",
       "    <tr>\n",
       "      <th>1</th>\n",
       "      <td>CryptoCurrency</td>\n",
       "      <td>1.0</td>\n",
       "      <td>Half of All Bitcoin Open Interest on CME Set t...</td>\n",
       "      <td>half of all bitcoin open interest on cme set t...</td>\n",
       "      <td>[half, bitcoin, open, interest, cme, set, expi...</td>\n",
       "    </tr>\n",
       "    <tr>\n",
       "      <th>2</th>\n",
       "      <td>CryptoCurrency</td>\n",
       "      <td>1.0</td>\n",
       "      <td>BBC release Doctor Who trading cards using NFT...</td>\n",
       "      <td>bbc release doctor who trading cards using nft...</td>\n",
       "      <td>[bbc, release, doctor, trading, card, using, n...</td>\n",
       "    </tr>\n",
       "    <tr>\n",
       "      <th>3</th>\n",
       "      <td>CryptoCurrency</td>\n",
       "      <td>1.0</td>\n",
       "      <td>What's going on with bitcoin prehalving????</td>\n",
       "      <td>what is going on with bitcoin prehalving????</td>\n",
       "      <td>[going, bitcoin, prehalving]</td>\n",
       "    </tr>\n",
       "    <tr>\n",
       "      <th>4</th>\n",
       "      <td>CryptoCurrency</td>\n",
       "      <td>1.0</td>\n",
       "      <td>Quantum Financial Reset To A 3D/5D Hybrid Stat...</td>\n",
       "      <td>quantum financial reset to a 3d/5d hybrid stat...</td>\n",
       "      <td>[quantum, financial, reset, 3, 5, hybrid, stat...</td>\n",
       "    </tr>\n",
       "  </tbody>\n",
       "</table>\n",
       "</div>"
      ],
      "text/plain": [
       "        subreddit  upvote_ratio  \\\n",
       "0  CryptoCurrency           1.0   \n",
       "1  CryptoCurrency           1.0   \n",
       "2  CryptoCurrency           1.0   \n",
       "3  CryptoCurrency           1.0   \n",
       "4  CryptoCurrency           1.0   \n",
       "\n",
       "                                                text  \\\n",
       "0                             Media is bullish again   \n",
       "1  Half of All Bitcoin Open Interest on CME Set t...   \n",
       "2  BBC release Doctor Who trading cards using NFT...   \n",
       "3        What's going on with bitcoin prehalving????   \n",
       "4  Quantum Financial Reset To A 3D/5D Hybrid Stat...   \n",
       "\n",
       "                                            text_adj  \\\n",
       "0                             media is bullish again   \n",
       "1  half of all bitcoin open interest on cme set t...   \n",
       "2  bbc release doctor who trading cards using nft...   \n",
       "3       what is going on with bitcoin prehalving????   \n",
       "4  quantum financial reset to a 3d/5d hybrid stat...   \n",
       "\n",
       "                                               token  \n",
       "0                                  [medium, bullish]  \n",
       "1  [half, bitcoin, open, interest, cme, set, expi...  \n",
       "2  [bbc, release, doctor, trading, card, using, n...  \n",
       "3                       [going, bitcoin, prehalving]  \n",
       "4  [quantum, financial, reset, 3, 5, hybrid, stat...  "
      ]
     },
     "execution_count": 3,
     "metadata": {},
     "output_type": "execute_result"
    }
   ],
   "source": [
    "# display first 5 rows\n",
    "df.head()"
   ]
  },
  {
   "cell_type": "code",
   "execution_count": null,
   "metadata": {},
   "outputs": [],
   "source": [
    "# map CryptoCurrency = 1 and stocks = 0\n",
    "\n",
    "df['label'] = df['subreddit'].map({'CryptoCurrency': 1, 'stocks': 0})"
   ]
  },
  {
   "cell_type": "markdown",
   "metadata": {},
   "source": [
    "## 1. Data Modeling"
   ]
  },
  {
   "cell_type": "markdown",
   "metadata": {},
   "source": [
    "Because the goal of this project is to be able to predict whether a post belongs to r/CryptoCurrency or not, I will map r/CryptoCurrency as True and r/stocks as False\n",
    "\n",
    "This means that:\n",
    " * True Positives are posts that my model correctly predicts are from r/CryptoCurrency\n",
    " * True Negatives are posts that my model correctly predicts are from r/stocks\n",
    " * False Positves are posts that my model incorrectly predicts are from r/CryptoCurrency (but are actually from r/stocks)\n",
    " * False Negatives are posts that my model incorrectly predicts are from r/stocks (but are actually from r/CryptoCurrency)\n",
    "\n",
    "The purpose of this project is to be able to target CryptoGo's marketing campaign to more users on reddit that are interested in cryptocurrency. Therefore, I want to focus on minimizing my False Negative rate, because I want to ensure I target all posts that may be related to cryptocurrency, even if this means I accidentally market to some users who are not interested in cryptocurrency\n",
    "At the same time, I do not want to target every post across reddit regardless of interest in cryptocurrency because this would quickly become expensive. Hence, I will use the F1 score to ensure my true positives and true negatives are relatively low.\n",
    "\n",
    "I wil train multiple models including a baseline model, Random Forest Classifier, Multinomial Naive Bayes, and Support Vector Classifier to select my best performing model.\n",
    "\n",
    "I will use the following metrics to build and evaluate my models:\n",
    "- F1 score: I will compare the F1 scores of my train, test, and cross validation sets to see if my model is overfitting or underfitting\n",
    "- Recall: I will tune my hyperparameters using recall to minimize my False Negative Rate\n",
    "- ROC AUC, Recall, and F1 score: I will use these three metrics to compare the performance of my models on the test set so that I can select a model that performs well on all three criterias and deliver a final model with an F1 score and sensitivity above 90%\n",
    "\n"
   ]
  },
  {
   "cell_type": "code",
   "execution_count": 5,
   "metadata": {},
   "outputs": [],
   "source": [
    "# drop columns except text_adj and label\n",
    "df.drop(['subreddit', 'text', 'token', 'upvote_ratio'], axis = 1, inplace = True)"
   ]
  },
  {
   "cell_type": "code",
   "execution_count": 6,
   "metadata": {},
   "outputs": [],
   "source": [
    "# train test split\n",
    "X = df['text_adj']\n",
    "y = df['label']\n",
    "\n",
    "X_train, X_test, y_train, y_test = train_test_split(X, y, random_state=42, stratify = y)"
   ]
  },
  {
   "cell_type": "code",
   "execution_count": 31,
   "metadata": {},
   "outputs": [],
   "source": [
    "# define functions for modeling\n",
    "\n",
    "# compare F1 scores\n",
    "def display_f1(model, X_train, y_train, X_test, y_test):\n",
    "    print('Train F1 Score: ', round(f1_score(y_train, model.predict(X_train)),5))\n",
    "    print('Test F1 Score: ', round(f1_score(y_test, model.predict(X_test)),5))\n",
    "    print('Cross Val F1 Score:', round(cross_val_score(model, X_test,y_test, scoring = 'f1').mean(),5))\n",
    "    \n",
    "# plot ROC and Confusionn matrix\n",
    "def plot_model(model, X_test, y_test):\n",
    "    fig, (ax1, ax2) = plt.subplots(1, 2, figsize=(16,7))\n",
    "    \n",
    "    #Plot ROC curve\n",
    "    ax1.set_title('ROC Curve')\n",
    "    plot_roc_curve(model, X_test, y_test, ax = ax1)\n",
    "    ax1.plot([0, 1], [0, 1],label='baseline', linestyle='--')\n",
    "    ax1.legend()\n",
    "\n",
    "    #Plot confusion matrix\n",
    "    ax2.set_title('Confusion Matrix')\n",
    "    y_labeled = y_test.map({1:'CryptoCurrency', 0:'Stocks'})\n",
    "    y_pred = pd.Series(model.predict(X_test)).map({1:'CryptoCurrency', 0:'Stocks'})\n",
    "    cm = confusion_matrix(y_labeled, y_pred)\n",
    "    sns.heatmap(cm, annot=True, fmt='g', ax=ax2, cmap='Blues')\n",
    "    ax2.set_xlabel('Predicted labels')\n",
    "    ax2.set_ylabel('True labels')\n",
    "    ax2.xaxis.set_ticklabels(['CryptoCurrency', 'Stocks']) \n",
    "    ax2.yaxis.set_ticklabels(['CryptoCurrency', 'Stocks'])\n",
    "    plt.show();\n",
    "\n",
    "# model comparisons\n",
    "def add_model(name, model, X_test, y_test):\n",
    "    tn, fp, fn, tp = confusion_matrix(y_test, model.predict(X_test)).ravel()\n",
    "    \n",
    "    model_dictionary[name] = [round(f1_score(y_test, model.predict(X_test)),5), #F1 score\n",
    "                              round(recall_score(y_test, model.predict(X_test)),5), #Recall \n",
    "                              round(roc_auc_score(y_test, model.predict_proba(X_test)[:,1]),5), #ROC AUC \n",
    "                              tp, #True Positive\n",
    "                              fp, #False Positive\n",
    "                              tn, #True Negative\n",
    "                              fn #False Negative\n",
    "                             ]\n",
    "    return pd.DataFrame.from_dict(model_dictionary, orient = 'index', columns=['F1 Score', 'Recall', 'ROC AUC', 'True Positives', 'False Positives','True Negatives','False Negatives'])\n"
   ]
  },
  {
   "cell_type": "markdown",
   "metadata": {},
   "source": [
    "### 1.1. Baseline Model"
   ]
  },
  {
   "cell_type": "code",
   "execution_count": 32,
   "metadata": {},
   "outputs": [
    {
     "data": {
      "text/plain": [
       "1    0.5\n",
       "0    0.5\n",
       "Name: label, dtype: float64"
      ]
     },
     "execution_count": 32,
     "metadata": {},
     "output_type": "execute_result"
    }
   ],
   "source": [
    "df['label'].value_counts(normalize = True)"
   ]
  },
  {
   "cell_type": "markdown",
   "metadata": {},
   "source": [
    "- My baseline model accuracy is 50%. This means that if I were to predict all posts in my test dataset belong to r/CryptoCurrency, I would have a 50% chance of being correct. \n",
    "- In order to calculate the other metrics I will use to compare my models with my baseline, I will generate baseline predictions for my test dataset by predicting 1 for every instance."
   ]
  },
  {
   "cell_type": "code",
   "execution_count": 33,
   "metadata": {},
   "outputs": [
    {
     "data": {
      "text/html": [
       "<div>\n",
       "<style scoped>\n",
       "    .dataframe tbody tr th:only-of-type {\n",
       "        vertical-align: middle;\n",
       "    }\n",
       "\n",
       "    .dataframe tbody tr th {\n",
       "        vertical-align: top;\n",
       "    }\n",
       "\n",
       "    .dataframe thead th {\n",
       "        text-align: right;\n",
       "    }\n",
       "</style>\n",
       "<table border=\"1\" class=\"dataframe\">\n",
       "  <thead>\n",
       "    <tr style=\"text-align: right;\">\n",
       "      <th></th>\n",
       "      <th>y_true</th>\n",
       "      <th>y_pred</th>\n",
       "      <th>y_pred_prob</th>\n",
       "    </tr>\n",
       "  </thead>\n",
       "  <tbody>\n",
       "    <tr>\n",
       "      <th>0</th>\n",
       "      <td>1</td>\n",
       "      <td>1</td>\n",
       "      <td>0.5</td>\n",
       "    </tr>\n",
       "    <tr>\n",
       "      <th>1</th>\n",
       "      <td>0</td>\n",
       "      <td>1</td>\n",
       "      <td>0.5</td>\n",
       "    </tr>\n",
       "    <tr>\n",
       "      <th>2</th>\n",
       "      <td>1</td>\n",
       "      <td>1</td>\n",
       "      <td>0.5</td>\n",
       "    </tr>\n",
       "    <tr>\n",
       "      <th>3</th>\n",
       "      <td>0</td>\n",
       "      <td>1</td>\n",
       "      <td>0.5</td>\n",
       "    </tr>\n",
       "    <tr>\n",
       "      <th>4</th>\n",
       "      <td>1</td>\n",
       "      <td>1</td>\n",
       "      <td>0.5</td>\n",
       "    </tr>\n",
       "  </tbody>\n",
       "</table>\n",
       "</div>"
      ],
      "text/plain": [
       "   y_true  y_pred  y_pred_prob\n",
       "0       1       1          0.5\n",
       "1       0       1          0.5\n",
       "2       1       1          0.5\n",
       "3       0       1          0.5\n",
       "4       1       1          0.5"
      ]
     },
     "execution_count": 33,
     "metadata": {},
     "output_type": "execute_result"
    }
   ],
   "source": [
    "# create baseline dataframe\n",
    "df_baseline = pd.DataFrame(y_test.values, columns=['y_true'])\n",
    "df_baseline['y_pred'] = 1\n",
    "df_baseline['y_pred_prob'] = 0.5\n",
    "\n",
    "df_baseline.head()"
   ]
  },
  {
   "cell_type": "code",
   "execution_count": 34,
   "metadata": {},
   "outputs": [],
   "source": [
    "# create model dictionary to compare future models to baseline\n",
    "model_dictionary = {'Baseline':\n",
    "                    [round(f1_score(df_baseline['y_true'],df_baseline['y_pred']),5), #F1 score\n",
    "                     recall_score(df_baseline['y_true'],df_baseline['y_pred']), # recall score\n",
    "                     roc_auc_score(df_baseline['y_true'], df_baseline['y_pred_prob']), #ROC AUC score\n",
    "                     ((df_baseline['y_pred']==1) & (df_baseline['y_true']==1)).sum(), #True Positive\n",
    "                     ((df_baseline['y_pred']==1) & (df_baseline['y_true']==0)).sum(), #False Positive\n",
    "                     ((df_baseline['y_pred']==0) & (df_baseline['y_true']==0)).sum(), #True Negative\n",
    "                     ((df_baseline['y_pred']==0) & (df_baseline['y_true']==1)).sum() ]} #False Negative "
   ]
  },
  {
   "cell_type": "markdown",
   "metadata": {},
   "source": [
    "### 1.2. Random Forest (Default Parameters)"
   ]
  },
  {
   "cell_type": "code",
   "execution_count": 35,
   "metadata": {},
   "outputs": [],
   "source": [
    "# create pipe for cvec and random forest\n",
    "\n",
    "rf_default_pipe = Pipeline([\n",
    "                ('cvec', CountVectorizer()),\n",
    "                ('rf', RandomForestClassifier(random_state = 42))\n",
    "])"
   ]
  },
  {
   "cell_type": "code",
   "execution_count": 36,
   "metadata": {},
   "outputs": [
    {
     "data": {
      "text/plain": [
       "Pipeline(steps=[('cvec', CountVectorizer()),\n",
       "                ('rf', RandomForestClassifier(random_state=42))])"
      ]
     },
     "execution_count": 36,
     "metadata": {},
     "output_type": "execute_result"
    }
   ],
   "source": [
    "rf_default_pipe.fit(X_train, y_train)"
   ]
  },
  {
   "cell_type": "code",
   "execution_count": 37,
   "metadata": {},
   "outputs": [
    {
     "name": "stdout",
     "output_type": "stream",
     "text": [
      "Train F1 Score:  1.0\n",
      "Test F1 Score:  0.88192\n",
      "Cross Val F1 Score: 0.84877\n"
     ]
    }
   ],
   "source": [
    "display_f1(rf_default_pipe,X_train, y_train, X_test, y_test)"
   ]
  },
  {
   "cell_type": "markdown",
   "metadata": {},
   "source": [
    "- Random Forest with countvectorizer and no hyperparameter tuning performed well on the train set, but significantly worse on the test and cross validation set\n",
    "- Model is overfitted"
   ]
  },
  {
   "cell_type": "code",
   "execution_count": 38,
   "metadata": {},
   "outputs": [
    {
     "data": {
      "image/png": "[encoded data removed]",
      "text/plain": [
       "<Figure size 1152x504 with 3 Axes>"
      ]
     },
     "metadata": {
      "needs_background": "light"
     },
     "output_type": "display_data"
    }
   ],
   "source": [
    "plot_model(rf_default_pipe, X_test, y_test)"
   ]
  },
  {
   "cell_type": "code",
   "execution_count": 39,
   "metadata": {},
   "outputs": [
    {
     "data": {
      "text/html": [
       "<div>\n",
       "<style scoped>\n",
       "    .dataframe tbody tr th:only-of-type {\n",
       "        vertical-align: middle;\n",
       "    }\n",
       "\n",
       "    .dataframe tbody tr th {\n",
       "        vertical-align: top;\n",
       "    }\n",
       "\n",
       "    .dataframe thead th {\n",
       "        text-align: right;\n",
       "    }\n",
       "</style>\n",
       "<table border=\"1\" class=\"dataframe\">\n",
       "  <thead>\n",
       "    <tr style=\"text-align: right;\">\n",
       "      <th></th>\n",
       "      <th>F1 Score</th>\n",
       "      <th>Recall</th>\n",
       "      <th>ROC AUC</th>\n",
       "      <th>True Positives</th>\n",
       "      <th>False Positives</th>\n",
       "      <th>True Negatives</th>\n",
       "      <th>False Negatives</th>\n",
       "    </tr>\n",
       "  </thead>\n",
       "  <tbody>\n",
       "    <tr>\n",
       "      <th>Baseline</th>\n",
       "      <td>0.66667</td>\n",
       "      <td>1.0000</td>\n",
       "      <td>0.50000</td>\n",
       "      <td>625</td>\n",
       "      <td>625</td>\n",
       "      <td>0</td>\n",
       "      <td>0</td>\n",
       "    </tr>\n",
       "    <tr>\n",
       "      <th>Random Forest (default)</th>\n",
       "      <td>0.88192</td>\n",
       "      <td>0.8544</td>\n",
       "      <td>0.96862</td>\n",
       "      <td>534</td>\n",
       "      <td>52</td>\n",
       "      <td>573</td>\n",
       "      <td>91</td>\n",
       "    </tr>\n",
       "  </tbody>\n",
       "</table>\n",
       "</div>"
      ],
      "text/plain": [
       "                         F1 Score  Recall  ROC AUC  True Positives  \\\n",
       "Baseline                  0.66667  1.0000  0.50000             625   \n",
       "Random Forest (default)   0.88192  0.8544  0.96862             534   \n",
       "\n",
       "                         False Positives  True Negatives  False Negatives  \n",
       "Baseline                             625               0                0  \n",
       "Random Forest (default)               52             573               91  "
      ]
     },
     "execution_count": 39,
     "metadata": {},
     "output_type": "execute_result"
    }
   ],
   "source": [
    "add_model('Random Forest (default)', rf_default_pipe, X_test, y_test)"
   ]
  },
  {
   "cell_type": "markdown",
   "metadata": {},
   "source": [
    "- Model performs better than the baseline for F1 score, however both the F1 score and recall are below 90%\n",
    "- I will try tuning my random forest hyperparameters"
   ]
  },
  {
   "cell_type": "markdown",
   "metadata": {},
   "source": [
    "### 1.3. Random Forest (HyperParameter Tuning)"
   ]
  },
  {
   "cell_type": "markdown",
   "metadata": {},
   "source": [
    "- I will perform a gridsearch for the best hyperparameters for my random forest model tuning for the following hyperparameters:\n",
    " * 100, 250, or 500 trees\n",
    " * CountVectorizer or TfidVectorizer\n",
    " * Unigrams or bigrams included\n",
    "- My gridsearch will choose the hyperparameters that give the best recall score"
   ]
  },
  {
   "cell_type": "code",
   "execution_count": 20,
   "metadata": {},
   "outputs": [],
   "source": [
    "rf_pipe = Pipeline([('vec', None), \n",
    "                    ('rf', RandomForestClassifier())])\n",
    "\n",
    "rf_param_grid = {'vec': [CountVectorizer(), TfidfVectorizer()], \n",
    "                 'rf__n_estimators':[100, 250, 500], \n",
    "                 'vec__stop_words': [\"english\"], \n",
    "                 'vec__ngram_range': [(1, 1), (1, 2)]}\n",
    "\n",
    "rf_gs = GridSearchCV(rf_pipe, rf_param_grid, scoring = 'recall')"
   ]
  },
  {
   "cell_type": "code",
   "execution_count": 21,
   "metadata": {},
   "outputs": [
    {
     "data": {
      "text/plain": [
       "GridSearchCV(estimator=Pipeline(steps=[('vec', None),\n",
       "                                       ('rf', RandomForestClassifier())]),\n",
       "             param_grid={'rf__n_estimators': [100, 250, 500],\n",
       "                         'vec': [CountVectorizer(stop_words='english'),\n",
       "                                 TfidfVectorizer()],\n",
       "                         'vec__ngram_range': [(1, 1), (1, 2)],\n",
       "                         'vec__stop_words': ['english']},\n",
       "             scoring='recall')"
      ]
     },
     "execution_count": 21,
     "metadata": {},
     "output_type": "execute_result"
    }
   ],
   "source": [
    "rf_gs.fit(X_train, y_train)"
   ]
  },
  {
   "cell_type": "code",
   "execution_count": 40,
   "metadata": {},
   "outputs": [
    {
     "name": "stdout",
     "output_type": "stream",
     "text": [
      "Train F1 Score:  1.0\n",
      "Test F1 Score:  0.92038\n",
      "Cross Val F1 Score: 0.86593\n"
     ]
    }
   ],
   "source": [
    "display_f1(rf_gs,X_train, y_train, X_test, y_test)"
   ]
  },
  {
   "cell_type": "markdown",
   "metadata": {},
   "source": [
    "- Random Forest with hyperparameter tuning does perform better on both the test set and the cross validation set than the default random forest, however the model is still overfitted"
   ]
  },
  {
   "cell_type": "code",
   "execution_count": 41,
   "metadata": {},
   "outputs": [
    {
     "data": {
      "image/png": "[encoded data removed]",
      "text/plain": [
       "<Figure size 1152x504 with 3 Axes>"
      ]
     },
     "metadata": {
      "needs_background": "light"
     },
     "output_type": "display_data"
    }
   ],
   "source": [
    "plot_model(rf_gs, X_test, y_test)"
   ]
  },
  {
   "cell_type": "code",
   "execution_count": 42,
   "metadata": {},
   "outputs": [
    {
     "data": {
      "text/plain": [
       "{'rf__n_estimators': 500,\n",
       " 'vec': CountVectorizer(stop_words='english'),\n",
       " 'vec__ngram_range': (1, 1),\n",
       " 'vec__stop_words': 'english'}"
      ]
     },
     "execution_count": 42,
     "metadata": {},
     "output_type": "execute_result"
    }
   ],
   "source": [
    "# display best params\n",
    "rf_gs.best_params_"
   ]
  },
  {
   "cell_type": "markdown",
   "metadata": {},
   "source": [
    "- Even with hyperparamter tuning, the gridsearch has chosen hyperparameters that are actually very similar to the default \n",
    "- The two differences are that stop words have been removed in this model, and the number of trees is 500 instead of the default 100"
   ]
  },
  {
   "cell_type": "code",
   "execution_count": 43,
   "metadata": {},
   "outputs": [
    {
     "data": {
      "text/html": [
       "<div>\n",
       "<style scoped>\n",
       "    .dataframe tbody tr th:only-of-type {\n",
       "        vertical-align: middle;\n",
       "    }\n",
       "\n",
       "    .dataframe tbody tr th {\n",
       "        vertical-align: top;\n",
       "    }\n",
       "\n",
       "    .dataframe thead th {\n",
       "        text-align: right;\n",
       "    }\n",
       "</style>\n",
       "<table border=\"1\" class=\"dataframe\">\n",
       "  <thead>\n",
       "    <tr style=\"text-align: right;\">\n",
       "      <th></th>\n",
       "      <th>F1 Score</th>\n",
       "      <th>Recall</th>\n",
       "      <th>ROC AUC</th>\n",
       "      <th>True Positives</th>\n",
       "      <th>False Positives</th>\n",
       "      <th>True Negatives</th>\n",
       "      <th>False Negatives</th>\n",
       "    </tr>\n",
       "  </thead>\n",
       "  <tbody>\n",
       "    <tr>\n",
       "      <th>Baseline</th>\n",
       "      <td>0.66667</td>\n",
       "      <td>1.0000</td>\n",
       "      <td>0.50000</td>\n",
       "      <td>625</td>\n",
       "      <td>625</td>\n",
       "      <td>0</td>\n",
       "      <td>0</td>\n",
       "    </tr>\n",
       "    <tr>\n",
       "      <th>Random Forest (default)</th>\n",
       "      <td>0.88192</td>\n",
       "      <td>0.8544</td>\n",
       "      <td>0.96862</td>\n",
       "      <td>534</td>\n",
       "      <td>52</td>\n",
       "      <td>573</td>\n",
       "      <td>91</td>\n",
       "    </tr>\n",
       "    <tr>\n",
       "      <th>Random Forest (tuned)</th>\n",
       "      <td>0.92038</td>\n",
       "      <td>0.9248</td>\n",
       "      <td>0.97673</td>\n",
       "      <td>578</td>\n",
       "      <td>53</td>\n",
       "      <td>572</td>\n",
       "      <td>47</td>\n",
       "    </tr>\n",
       "  </tbody>\n",
       "</table>\n",
       "</div>"
      ],
      "text/plain": [
       "                         F1 Score  Recall  ROC AUC  True Positives  \\\n",
       "Baseline                  0.66667  1.0000  0.50000             625   \n",
       "Random Forest (default)   0.88192  0.8544  0.96862             534   \n",
       "Random Forest (tuned)     0.92038  0.9248  0.97673             578   \n",
       "\n",
       "                         False Positives  True Negatives  False Negatives  \n",
       "Baseline                             625               0                0  \n",
       "Random Forest (default)               52             573               91  \n",
       "Random Forest (tuned)                 53             572               47  "
      ]
     },
     "execution_count": 43,
     "metadata": {},
     "output_type": "execute_result"
    }
   ],
   "source": [
    "add_model('Random Forest (tuned)', rf_gs, X_test, y_test)"
   ]
  },
  {
   "cell_type": "markdown",
   "metadata": {},
   "source": [
    "- Both the F1 score and recall are above 90%\n",
    "- This model has performed better than the baseline and default random forest\n",
    "- There is a significant improvement in the recall score by increasing the number of trees in the random forest from 100 to 500"
   ]
  },
  {
   "cell_type": "code",
   "execution_count": 47,
   "metadata": {},
   "outputs": [
    {
     "data": {
      "image/png": "[encoded data removed]",
      "text/plain": [
       "<Figure size 864x576 with 1 Axes>"
      ]
     },
     "metadata": {
      "needs_background": "light"
     },
     "output_type": "display_data"
    }
   ],
   "source": [
    "# plot tokens with the most importance\n",
    "feat_weights = rf_gs.best_estimator_.named_steps['rf'].feature_importances_\n",
    "rf_tokens = rf_gs.best_estimator_.named_steps['vec'].get_feature_names()\n",
    "\n",
    "rf_feat = pd.DataFrame( {'top_words': rf_tokens, 'importance' : feat_weights})\n",
    "rf_feat = rf_feat.set_index('top_words')\n",
    "rf_feat = rf_feat.sort_values('importance',ascending = False)[:15]\n",
    "\n",
    "plt.figure(figsize=(12,8))\n",
    "plt.barh(rf_feat.index, rf_feat['importance'])\n",
    "plt.xlabel('importance')\n",
    "plt.ylabel('token')\n",
    "plt.show();"
   ]
  },
  {
   "cell_type": "markdown",
   "metadata": {},
   "source": [
    "- from the top 20 tokens, there are words I would expect would be good predictors of r/stocks and r/CryptoCurrency such as \"stocks\", \"crypto\", \"bitcoin\"\n",
    "- it is interesting to see tokens such as \"like\", \"thoughts\", and \"good\" have a high importance in the random forest model"
   ]
  },
  {
   "cell_type": "markdown",
   "metadata": {},
   "source": [
    "###  1.4. Multinomial Naive Bayes (Default)"
   ]
  },
  {
   "cell_type": "code",
   "execution_count": 48,
   "metadata": {},
   "outputs": [],
   "source": [
    "# create pipe for cvec and multinomialNB\n",
    "\n",
    "nb_default_pipe = Pipeline([\n",
    "                ('cvec', CountVectorizer()),\n",
    "                ('nb', MultinomialNB())\n",
    "])"
   ]
  },
  {
   "cell_type": "code",
   "execution_count": 49,
   "metadata": {},
   "outputs": [
    {
     "data": {
      "text/plain": [
       "Pipeline(steps=[('cvec', CountVectorizer()), ('nb', MultinomialNB())])"
      ]
     },
     "execution_count": 49,
     "metadata": {},
     "output_type": "execute_result"
    }
   ],
   "source": [
    "nb_default_pipe.fit(X_train, y_train)"
   ]
  },
  {
   "cell_type": "code",
   "execution_count": 50,
   "metadata": {},
   "outputs": [
    {
     "name": "stdout",
     "output_type": "stream",
     "text": [
      "Train F1 Score:  0.96912\n",
      "Test F1 Score:  0.93556\n",
      "Cross Val F1 Score: 0.89402\n"
     ]
    }
   ],
   "source": [
    "display_f1(nb_default_pipe,X_train, y_train, X_test, y_test)"
   ]
  },
  {
   "cell_type": "markdown",
   "metadata": {},
   "source": [
    "- The model shows less overfitting even using the default parameters than both random forest models"
   ]
  },
  {
   "cell_type": "code",
   "execution_count": 51,
   "metadata": {},
   "outputs": [
    {
     "data": {
      "image/png": "[encoded data removed]",
      "text/plain": [
       "<Figure size 1152x504 with 3 Axes>"
      ]
     },
     "metadata": {
      "needs_background": "light"
     },
     "output_type": "display_data"
    }
   ],
   "source": [
    "plot_model(nb_default_pipe, X_test, y_test)"
   ]
  },
  {
   "cell_type": "code",
   "execution_count": 52,
   "metadata": {},
   "outputs": [
    {
     "data": {
      "text/html": [
       "<div>\n",
       "<style scoped>\n",
       "    .dataframe tbody tr th:only-of-type {\n",
       "        vertical-align: middle;\n",
       "    }\n",
       "\n",
       "    .dataframe tbody tr th {\n",
       "        vertical-align: top;\n",
       "    }\n",
       "\n",
       "    .dataframe thead th {\n",
       "        text-align: right;\n",
       "    }\n",
       "</style>\n",
       "<table border=\"1\" class=\"dataframe\">\n",
       "  <thead>\n",
       "    <tr style=\"text-align: right;\">\n",
       "      <th></th>\n",
       "      <th>F1 Score</th>\n",
       "      <th>Recall</th>\n",
       "      <th>ROC AUC</th>\n",
       "      <th>True Positives</th>\n",
       "      <th>False Positives</th>\n",
       "      <th>True Negatives</th>\n",
       "      <th>False Negatives</th>\n",
       "    </tr>\n",
       "  </thead>\n",
       "  <tbody>\n",
       "    <tr>\n",
       "      <th>Baseline</th>\n",
       "      <td>0.66667</td>\n",
       "      <td>1.0000</td>\n",
       "      <td>0.50000</td>\n",
       "      <td>625</td>\n",
       "      <td>625</td>\n",
       "      <td>0</td>\n",
       "      <td>0</td>\n",
       "    </tr>\n",
       "    <tr>\n",
       "      <th>Random Forest (default)</th>\n",
       "      <td>0.88192</td>\n",
       "      <td>0.8544</td>\n",
       "      <td>0.96862</td>\n",
       "      <td>534</td>\n",
       "      <td>52</td>\n",
       "      <td>573</td>\n",
       "      <td>91</td>\n",
       "    </tr>\n",
       "    <tr>\n",
       "      <th>Random Forest (tuned)</th>\n",
       "      <td>0.92038</td>\n",
       "      <td>0.9248</td>\n",
       "      <td>0.97673</td>\n",
       "      <td>578</td>\n",
       "      <td>53</td>\n",
       "      <td>572</td>\n",
       "      <td>47</td>\n",
       "    </tr>\n",
       "    <tr>\n",
       "      <th>MultinomialNB (default)</th>\n",
       "      <td>0.93556</td>\n",
       "      <td>0.8944</td>\n",
       "      <td>0.99205</td>\n",
       "      <td>559</td>\n",
       "      <td>11</td>\n",
       "      <td>614</td>\n",
       "      <td>66</td>\n",
       "    </tr>\n",
       "  </tbody>\n",
       "</table>\n",
       "</div>"
      ],
      "text/plain": [
       "                         F1 Score  Recall  ROC AUC  True Positives  \\\n",
       "Baseline                  0.66667  1.0000  0.50000             625   \n",
       "Random Forest (default)   0.88192  0.8544  0.96862             534   \n",
       "Random Forest (tuned)     0.92038  0.9248  0.97673             578   \n",
       "MultinomialNB (default)   0.93556  0.8944  0.99205             559   \n",
       "\n",
       "                         False Positives  True Negatives  False Negatives  \n",
       "Baseline                             625               0                0  \n",
       "Random Forest (default)               52             573               91  \n",
       "Random Forest (tuned)                 53             572               47  \n",
       "MultinomialNB (default)               11             614               66  "
      ]
     },
     "execution_count": 52,
     "metadata": {},
     "output_type": "execute_result"
    }
   ],
   "source": [
    "add_model('MultinomialNB (default)', nb_default_pipe, X_test, y_test)"
   ]
  },
  {
   "cell_type": "markdown",
   "metadata": {},
   "source": [
    "- The F1 score for the multinomial naive bayes model is higher than the random forest model, however, the recall is lower. \n",
    "- While the number of false positive is greatly reduced, the number of false negatives is slightly higher for this model\n",
    "- The ROC AUC is 0.99, which means the model is able to distinguish between r/CryptoCurrency and r/stocks extremely well\n",
    "- I will see if the recall can be improved with hyperparameter tuning"
   ]
  },
  {
   "cell_type": "markdown",
   "metadata": {},
   "source": [
    "###  1.5. Multinomial Naive Bayes (HyperParameter Tuning)"
   ]
  },
  {
   "cell_type": "code",
   "execution_count": 53,
   "metadata": {},
   "outputs": [],
   "source": [
    "nb_pipe = Pipeline([('vec', None), \n",
    "                    ('nb', MultinomialNB())])\n",
    "\n",
    "nb_param_grid = {'vec': [CountVectorizer(), TfidfVectorizer()], \n",
    "                 'vec__stop_words': [None, 'english'], \n",
    "                 'vec__ngram_range': [(1, 1), (1, 2)],\n",
    "                 'vec__max_features': [None, 1500, 3000, 5000]}\n",
    "\n",
    "nb_gs = GridSearchCV(nb_pipe, nb_param_grid, scoring = 'recall')"
   ]
  },
  {
   "cell_type": "code",
   "execution_count": 54,
   "metadata": {},
   "outputs": [
    {
     "data": {
      "text/plain": [
       "GridSearchCV(estimator=Pipeline(steps=[('vec', None), ('nb', MultinomialNB())]),\n",
       "             param_grid={'vec': [CountVectorizer(max_features=5000),\n",
       "                                 TfidfVectorizer()],\n",
       "                         'vec__max_features': [None, 1500, 3000, 5000],\n",
       "                         'vec__ngram_range': [(1, 1), (1, 2)],\n",
       "                         'vec__stop_words': [None, 'english']},\n",
       "             scoring='recall')"
      ]
     },
     "execution_count": 54,
     "metadata": {},
     "output_type": "execute_result"
    }
   ],
   "source": [
    "nb_gs.fit(X_train, y_train)"
   ]
  },
  {
   "cell_type": "code",
   "execution_count": 55,
   "metadata": {},
   "outputs": [
    {
     "name": "stdout",
     "output_type": "stream",
     "text": [
      "Train F1 Score:  0.94899\n",
      "Test F1 Score:  0.93322\n",
      "Cross Val F1 Score: 0.88779\n"
     ]
    }
   ],
   "source": [
    "display_f1(nb_gs,X_train, y_train, X_test, y_test)"
   ]
  },
  {
   "cell_type": "markdown",
   "metadata": {},
   "source": [
    "- The train, test, and cross validation F1 scores are more similar than previous models\n",
    "- This model is the least overfit from the models I have constructed so far"
   ]
  },
  {
   "cell_type": "code",
   "execution_count": 56,
   "metadata": {},
   "outputs": [
    {
     "data": {
      "image/png": "[encoded data removed]",
      "text/plain": [
       "<Figure size 1152x504 with 3 Axes>"
      ]
     },
     "metadata": {
      "needs_background": "light"
     },
     "output_type": "display_data"
    }
   ],
   "source": [
    "plot_model(nb_gs, X_test, y_test)"
   ]
  },
  {
   "cell_type": "code",
   "execution_count": 57,
   "metadata": {},
   "outputs": [
    {
     "data": {
      "text/plain": [
       "{'vec': CountVectorizer(max_features=5000),\n",
       " 'vec__max_features': 5000,\n",
       " 'vec__ngram_range': (1, 1),\n",
       " 'vec__stop_words': None}"
      ]
     },
     "execution_count": 57,
     "metadata": {},
     "output_type": "execute_result"
    }
   ],
   "source": [
    "# display best params\n",
    "nb_gs.best_params_"
   ]
  },
  {
   "cell_type": "markdown",
   "metadata": {},
   "source": [
    "- Like the default model, the tuned multinomialNB model also used countvectorizer\n",
    "- The only difference between the tuned multinomialNB model and the default is that the tuned model only took the top 5000 most frequent words in the corpus"
   ]
  },
  {
   "cell_type": "code",
   "execution_count": 59,
   "metadata": {},
   "outputs": [
    {
     "data": {
      "text/html": [
       "<div>\n",
       "<style scoped>\n",
       "    .dataframe tbody tr th:only-of-type {\n",
       "        vertical-align: middle;\n",
       "    }\n",
       "\n",
       "    .dataframe tbody tr th {\n",
       "        vertical-align: top;\n",
       "    }\n",
       "\n",
       "    .dataframe thead th {\n",
       "        text-align: right;\n",
       "    }\n",
       "</style>\n",
       "<table border=\"1\" class=\"dataframe\">\n",
       "  <thead>\n",
       "    <tr style=\"text-align: right;\">\n",
       "      <th></th>\n",
       "      <th>F1 Score</th>\n",
       "      <th>Recall</th>\n",
       "      <th>ROC AUC</th>\n",
       "      <th>True Positives</th>\n",
       "      <th>False Positives</th>\n",
       "      <th>True Negatives</th>\n",
       "      <th>False Negatives</th>\n",
       "    </tr>\n",
       "  </thead>\n",
       "  <tbody>\n",
       "    <tr>\n",
       "      <th>Baseline</th>\n",
       "      <td>0.66667</td>\n",
       "      <td>1.0000</td>\n",
       "      <td>0.50000</td>\n",
       "      <td>625</td>\n",
       "      <td>625</td>\n",
       "      <td>0</td>\n",
       "      <td>0</td>\n",
       "    </tr>\n",
       "    <tr>\n",
       "      <th>Random Forest (default)</th>\n",
       "      <td>0.88192</td>\n",
       "      <td>0.8544</td>\n",
       "      <td>0.96862</td>\n",
       "      <td>534</td>\n",
       "      <td>52</td>\n",
       "      <td>573</td>\n",
       "      <td>91</td>\n",
       "    </tr>\n",
       "    <tr>\n",
       "      <th>Random Forest (tuned)</th>\n",
       "      <td>0.92038</td>\n",
       "      <td>0.9248</td>\n",
       "      <td>0.97673</td>\n",
       "      <td>578</td>\n",
       "      <td>53</td>\n",
       "      <td>572</td>\n",
       "      <td>47</td>\n",
       "    </tr>\n",
       "    <tr>\n",
       "      <th>MultinomialNB (default)</th>\n",
       "      <td>0.93556</td>\n",
       "      <td>0.8944</td>\n",
       "      <td>0.99205</td>\n",
       "      <td>559</td>\n",
       "      <td>11</td>\n",
       "      <td>614</td>\n",
       "      <td>66</td>\n",
       "    </tr>\n",
       "    <tr>\n",
       "      <th>MultinomialNB (tuned)</th>\n",
       "      <td>0.93322</td>\n",
       "      <td>0.9056</td>\n",
       "      <td>0.98747</td>\n",
       "      <td>566</td>\n",
       "      <td>22</td>\n",
       "      <td>603</td>\n",
       "      <td>59</td>\n",
       "    </tr>\n",
       "  </tbody>\n",
       "</table>\n",
       "</div>"
      ],
      "text/plain": [
       "                         F1 Score  Recall  ROC AUC  True Positives  \\\n",
       "Baseline                  0.66667  1.0000  0.50000             625   \n",
       "Random Forest (default)   0.88192  0.8544  0.96862             534   \n",
       "Random Forest (tuned)     0.92038  0.9248  0.97673             578   \n",
       "MultinomialNB (default)   0.93556  0.8944  0.99205             559   \n",
       "MultinomialNB (tuned)     0.93322  0.9056  0.98747             566   \n",
       "\n",
       "                         False Positives  True Negatives  False Negatives  \n",
       "Baseline                             625               0                0  \n",
       "Random Forest (default)               52             573               91  \n",
       "Random Forest (tuned)                 53             572               47  \n",
       "MultinomialNB (default)               11             614               66  \n",
       "MultinomialNB (tuned)                 22             603               59  "
      ]
     },
     "execution_count": 59,
     "metadata": {},
     "output_type": "execute_result"
    }
   ],
   "source": [
    "add_model('MultinomialNB (tuned)', nb_gs, X_test, y_test)"
   ]
  },
  {
   "cell_type": "markdown",
   "metadata": {},
   "source": [
    "- The tuned multinomialNB has an F1 score and recall score above 90%, performing slightly better than the default multinomialNB for recall, and slightly worse for F1 score\n",
    "- Both the tuned multinomialNB and tuned random forest have F1 scores and recall scores above 90%, however, the random forest has a slightly lower F1 score and the multinomialNB has a slightly lower recall"
   ]
  },
  {
   "cell_type": "code",
   "execution_count": 60,
   "metadata": {},
   "outputs": [
    {
     "data": {
      "image/png": "[encoded data removed]",
      "text/plain": [
       "<Figure size 864x576 with 1 Axes>"
      ]
     },
     "metadata": {
      "needs_background": "light"
     },
     "output_type": "display_data"
    }
   ],
   "source": [
    "# plot tokens with highest coefficients\n",
    "nb_coef = nb_gs.best_estimator_.named_steps['nb'].coef_[0]\n",
    "nb_tokens = nb_gs.best_estimator_.named_steps['vec'].get_feature_names()\n",
    "\n",
    "nb_feat = pd.DataFrame( {'top_words': nb_tokens, 'importance' : nb_coef})\n",
    "\n",
    "nb_feat = nb_feat.set_index('top_words')\n",
    "nb_feat = nb_feat.sort_values('importance',ascending = False)[:15]\n",
    "\n",
    "plt.figure(figsize=(12,8))\n",
    "plt.barh(nb_feat.index, nb_feat['importance'])\n",
    "plt.xlabel('importance')\n",
    "plt.ylabel('token')\n",
    "plt.show();"
   ]
  },
  {
   "cell_type": "markdown",
   "metadata": {},
   "source": [
    "- Since this model did not use stop words, it is interesting that many stop words seem to have high importance in predicting which subreddit a post belongs to\n",
    "- The only token from thisl list which would seem to obviously predict r/CryptoCurrency is \"crypto\""
   ]
  },
  {
   "cell_type": "markdown",
   "metadata": {},
   "source": [
    "### 1.6. Support Vector Classifier"
   ]
  },
  {
   "cell_type": "code",
   "execution_count": 61,
   "metadata": {},
   "outputs": [],
   "source": [
    "svc_pipe = Pipeline([('vec', None), \n",
    "                    ('svc', SVC(probability = True))])\n",
    "svc_param_grid = {'vec': [CountVectorizer(), TfidfVectorizer()], \n",
    "                 'vec__stop_words': ['english'], \n",
    "                 'vec__ngram_range': [(1, 1), (1, 2)],\n",
    "                 'svc__kernel': ['linear','rbf', 'sigmoid']}\n",
    "\n",
    "svc_gs = GridSearchCV(svc_pipe, svc_param_grid, scoring = 'recall')"
   ]
  },
  {
   "cell_type": "code",
   "execution_count": 62,
   "metadata": {},
   "outputs": [
    {
     "data": {
      "text/plain": [
       "GridSearchCV(estimator=Pipeline(steps=[('vec', None),\n",
       "                                       ('svc', SVC(probability=True))]),\n",
       "             param_grid={'svc__kernel': ['linear', 'rbf', 'sigmoid'],\n",
       "                         'vec': [CountVectorizer(ngram_range=(1, 2),\n",
       "                                                 stop_words='english'),\n",
       "                                 TfidfVectorizer()],\n",
       "                         'vec__ngram_range': [(1, 1), (1, 2)],\n",
       "                         'vec__stop_words': ['english']},\n",
       "             scoring='recall')"
      ]
     },
     "execution_count": 62,
     "metadata": {},
     "output_type": "execute_result"
    }
   ],
   "source": [
    "svc_gs.fit(X_train, y_train)"
   ]
  },
  {
   "cell_type": "code",
   "execution_count": 63,
   "metadata": {},
   "outputs": [
    {
     "name": "stdout",
     "output_type": "stream",
     "text": [
      "Train F1 Score:  0.93387\n",
      "Test F1 Score:  0.90501\n",
      "Cross Val F1 Score: 0.86122\n"
     ]
    }
   ],
   "source": [
    "display_f1(svc_gs,X_train, y_train, X_test, y_test)"
   ]
  },
  {
   "cell_type": "markdown",
   "metadata": {},
   "source": [
    "- Overfitting is less of an issue with the support vector classifer than the random forest models\n",
    "- The F1 scores are lower for train, test, and cross validation compared to the multinomialNB model"
   ]
  },
  {
   "cell_type": "code",
   "execution_count": 64,
   "metadata": {},
   "outputs": [
    {
     "data": {
      "image/png": "[encoded data removed]",
      "text/plain": [
       "<Figure size 1152x504 with 3 Axes>"
      ]
     },
     "metadata": {
      "needs_background": "light"
     },
     "output_type": "display_data"
    }
   ],
   "source": [
    "plot_model(svc_gs, X_test, y_test)"
   ]
  },
  {
   "cell_type": "code",
   "execution_count": 65,
   "metadata": {},
   "outputs": [
    {
     "data": {
      "text/plain": [
       "{'svc__kernel': 'sigmoid',\n",
       " 'vec': CountVectorizer(ngram_range=(1, 2), stop_words='english'),\n",
       " 'vec__ngram_range': (1, 2),\n",
       " 'vec__stop_words': 'english'}"
      ]
     },
     "execution_count": 65,
     "metadata": {},
     "output_type": "execute_result"
    }
   ],
   "source": [
    "# display best parameters\n",
    "svc_gs.best_params_"
   ]
  },
  {
   "cell_type": "markdown",
   "metadata": {},
   "source": [
    "- Unlike the tuned multinomialNB model, the tuned SVC does use bigrams\n",
    "- The SVC also used countvectorizer instead of TFidvectorizer, but unlike the multinomialNB this mode does not include stop words"
   ]
  },
  {
   "cell_type": "code",
   "execution_count": 66,
   "metadata": {},
   "outputs": [
    {
     "data": {
      "text/html": [
       "<div>\n",
       "<style scoped>\n",
       "    .dataframe tbody tr th:only-of-type {\n",
       "        vertical-align: middle;\n",
       "    }\n",
       "\n",
       "    .dataframe tbody tr th {\n",
       "        vertical-align: top;\n",
       "    }\n",
       "\n",
       "    .dataframe thead th {\n",
       "        text-align: right;\n",
       "    }\n",
       "</style>\n",
       "<table border=\"1\" class=\"dataframe\">\n",
       "  <thead>\n",
       "    <tr style=\"text-align: right;\">\n",
       "      <th></th>\n",
       "      <th>F1 Score</th>\n",
       "      <th>Recall</th>\n",
       "      <th>ROC AUC</th>\n",
       "      <th>True Positives</th>\n",
       "      <th>False Positives</th>\n",
       "      <th>True Negatives</th>\n",
       "      <th>False Negatives</th>\n",
       "    </tr>\n",
       "  </thead>\n",
       "  <tbody>\n",
       "    <tr>\n",
       "      <th>Baseline</th>\n",
       "      <td>0.66667</td>\n",
       "      <td>1.0000</td>\n",
       "      <td>0.50000</td>\n",
       "      <td>625</td>\n",
       "      <td>625</td>\n",
       "      <td>0</td>\n",
       "      <td>0</td>\n",
       "    </tr>\n",
       "    <tr>\n",
       "      <th>Random Forest (default)</th>\n",
       "      <td>0.88192</td>\n",
       "      <td>0.8544</td>\n",
       "      <td>0.96862</td>\n",
       "      <td>534</td>\n",
       "      <td>52</td>\n",
       "      <td>573</td>\n",
       "      <td>91</td>\n",
       "    </tr>\n",
       "    <tr>\n",
       "      <th>Random Forest (tuned)</th>\n",
       "      <td>0.92038</td>\n",
       "      <td>0.9248</td>\n",
       "      <td>0.97673</td>\n",
       "      <td>578</td>\n",
       "      <td>53</td>\n",
       "      <td>572</td>\n",
       "      <td>47</td>\n",
       "    </tr>\n",
       "    <tr>\n",
       "      <th>MultinomialNB (default)</th>\n",
       "      <td>0.93556</td>\n",
       "      <td>0.8944</td>\n",
       "      <td>0.99205</td>\n",
       "      <td>559</td>\n",
       "      <td>11</td>\n",
       "      <td>614</td>\n",
       "      <td>66</td>\n",
       "    </tr>\n",
       "    <tr>\n",
       "      <th>MultinomialNB (tuned)</th>\n",
       "      <td>0.93322</td>\n",
       "      <td>0.9056</td>\n",
       "      <td>0.98747</td>\n",
       "      <td>566</td>\n",
       "      <td>22</td>\n",
       "      <td>603</td>\n",
       "      <td>59</td>\n",
       "    </tr>\n",
       "    <tr>\n",
       "      <th>SVC</th>\n",
       "      <td>0.90501</td>\n",
       "      <td>0.9680</td>\n",
       "      <td>0.97925</td>\n",
       "      <td>605</td>\n",
       "      <td>107</td>\n",
       "      <td>518</td>\n",
       "      <td>20</td>\n",
       "    </tr>\n",
       "  </tbody>\n",
       "</table>\n",
       "</div>"
      ],
      "text/plain": [
       "                         F1 Score  Recall  ROC AUC  True Positives  \\\n",
       "Baseline                  0.66667  1.0000  0.50000             625   \n",
       "Random Forest (default)   0.88192  0.8544  0.96862             534   \n",
       "Random Forest (tuned)     0.92038  0.9248  0.97673             578   \n",
       "MultinomialNB (default)   0.93556  0.8944  0.99205             559   \n",
       "MultinomialNB (tuned)     0.93322  0.9056  0.98747             566   \n",
       "SVC                       0.90501  0.9680  0.97925             605   \n",
       "\n",
       "                         False Positives  True Negatives  False Negatives  \n",
       "Baseline                             625               0                0  \n",
       "Random Forest (default)               52             573               91  \n",
       "Random Forest (tuned)                 53             572               47  \n",
       "MultinomialNB (default)               11             614               66  \n",
       "MultinomialNB (tuned)                 22             603               59  \n",
       "SVC                                  107             518               20  "
      ]
     },
     "execution_count": 66,
     "metadata": {},
     "output_type": "execute_result"
    }
   ],
   "source": [
    "add_model('SVC', svc_gs, X_test, y_test)"
   ]
  },
  {
   "cell_type": "markdown",
   "metadata": {},
   "source": [
    "- The SVC model has an F1 score and recall above 90%\n",
    "- The SVC actually has the highest recall score from all the models, while still mainting an F1 score above 90%\n",
    "- I will see if I can boost the three best performing models (in terms of recall and F1 scores) using a voting classifier"
   ]
  },
  {
   "cell_type": "markdown",
   "metadata": {},
   "source": [
    "### 1.7 Voting Classifier"
   ]
  },
  {
   "cell_type": "code",
   "execution_count": 67,
   "metadata": {},
   "outputs": [],
   "source": [
    "vc = VotingClassifier(estimators=[('svc', svc_gs), \n",
    "                                    ('rf', rf_gs), \n",
    "                                    ('mnb', nb_gs)], \n",
    "                        voting='soft')\n",
    "vc = vc.fit(X_train, y_train)"
   ]
  },
  {
   "cell_type": "code",
   "execution_count": 68,
   "metadata": {},
   "outputs": [
    {
     "name": "stdout",
     "output_type": "stream",
     "text": [
      "Train F1 Score:  0.98837\n",
      "Test F1 Score:  0.96672\n",
      "Cross Val F1 Score: 0.93955\n"
     ]
    }
   ],
   "source": [
    "display_f1(vc,X_train, y_train, X_test, y_test)"
   ]
  },
  {
   "cell_type": "markdown",
   "metadata": {},
   "source": [
    "- This model has the highest cross validation score from all the models\n",
    "- Compared to the previous models, the voting classifier has reduced the variance as the train, test, and cross validation F1 scores are similar"
   ]
  },
  {
   "cell_type": "code",
   "execution_count": 69,
   "metadata": {},
   "outputs": [
    {
     "data": {
      "image/png": "[encoded data removed]",
      "text/plain": [
       "<Figure size 1152x504 with 3 Axes>"
      ]
     },
     "metadata": {
      "needs_background": "light"
     },
     "output_type": "display_data"
    }
   ],
   "source": [
    "plot_model(vc, X_test, y_test)"
   ]
  },
  {
   "cell_type": "code",
   "execution_count": 70,
   "metadata": {},
   "outputs": [
    {
     "data": {
      "text/html": [
       "<div>\n",
       "<style scoped>\n",
       "    .dataframe tbody tr th:only-of-type {\n",
       "        vertical-align: middle;\n",
       "    }\n",
       "\n",
       "    .dataframe tbody tr th {\n",
       "        vertical-align: top;\n",
       "    }\n",
       "\n",
       "    .dataframe thead th {\n",
       "        text-align: right;\n",
       "    }\n",
       "</style>\n",
       "<table border=\"1\" class=\"dataframe\">\n",
       "  <thead>\n",
       "    <tr style=\"text-align: right;\">\n",
       "      <th></th>\n",
       "      <th>F1 Score</th>\n",
       "      <th>Recall</th>\n",
       "      <th>ROC AUC</th>\n",
       "      <th>True Positives</th>\n",
       "      <th>False Positives</th>\n",
       "      <th>True Negatives</th>\n",
       "      <th>False Negatives</th>\n",
       "    </tr>\n",
       "  </thead>\n",
       "  <tbody>\n",
       "    <tr>\n",
       "      <th>Baseline</th>\n",
       "      <td>0.66667</td>\n",
       "      <td>1.0000</td>\n",
       "      <td>0.50000</td>\n",
       "      <td>625</td>\n",
       "      <td>625</td>\n",
       "      <td>0</td>\n",
       "      <td>0</td>\n",
       "    </tr>\n",
       "    <tr>\n",
       "      <th>Random Forest (default)</th>\n",
       "      <td>0.88192</td>\n",
       "      <td>0.8544</td>\n",
       "      <td>0.96862</td>\n",
       "      <td>534</td>\n",
       "      <td>52</td>\n",
       "      <td>573</td>\n",
       "      <td>91</td>\n",
       "    </tr>\n",
       "    <tr>\n",
       "      <th>Random Forest (tuned)</th>\n",
       "      <td>0.92038</td>\n",
       "      <td>0.9248</td>\n",
       "      <td>0.97673</td>\n",
       "      <td>578</td>\n",
       "      <td>53</td>\n",
       "      <td>572</td>\n",
       "      <td>47</td>\n",
       "    </tr>\n",
       "    <tr>\n",
       "      <th>MultinomialNB (default)</th>\n",
       "      <td>0.93556</td>\n",
       "      <td>0.8944</td>\n",
       "      <td>0.99205</td>\n",
       "      <td>559</td>\n",
       "      <td>11</td>\n",
       "      <td>614</td>\n",
       "      <td>66</td>\n",
       "    </tr>\n",
       "    <tr>\n",
       "      <th>MultinomialNB (tuned)</th>\n",
       "      <td>0.93322</td>\n",
       "      <td>0.9056</td>\n",
       "      <td>0.98747</td>\n",
       "      <td>566</td>\n",
       "      <td>22</td>\n",
       "      <td>603</td>\n",
       "      <td>59</td>\n",
       "    </tr>\n",
       "    <tr>\n",
       "      <th>SVC</th>\n",
       "      <td>0.90501</td>\n",
       "      <td>0.9680</td>\n",
       "      <td>0.97925</td>\n",
       "      <td>605</td>\n",
       "      <td>107</td>\n",
       "      <td>518</td>\n",
       "      <td>20</td>\n",
       "    </tr>\n",
       "    <tr>\n",
       "      <th>Voting Classifier</th>\n",
       "      <td>0.96672</td>\n",
       "      <td>0.9760</td>\n",
       "      <td>0.99302</td>\n",
       "      <td>610</td>\n",
       "      <td>27</td>\n",
       "      <td>598</td>\n",
       "      <td>15</td>\n",
       "    </tr>\n",
       "  </tbody>\n",
       "</table>\n",
       "</div>"
      ],
      "text/plain": [
       "                         F1 Score  Recall  ROC AUC  True Positives  \\\n",
       "Baseline                  0.66667  1.0000  0.50000             625   \n",
       "Random Forest (default)   0.88192  0.8544  0.96862             534   \n",
       "Random Forest (tuned)     0.92038  0.9248  0.97673             578   \n",
       "MultinomialNB (default)   0.93556  0.8944  0.99205             559   \n",
       "MultinomialNB (tuned)     0.93322  0.9056  0.98747             566   \n",
       "SVC                       0.90501  0.9680  0.97925             605   \n",
       "Voting Classifier         0.96672  0.9760  0.99302             610   \n",
       "\n",
       "                         False Positives  True Negatives  False Negatives  \n",
       "Baseline                             625               0                0  \n",
       "Random Forest (default)               52             573               91  \n",
       "Random Forest (tuned)                 53             572               47  \n",
       "MultinomialNB (default)               11             614               66  \n",
       "MultinomialNB (tuned)                 22             603               59  \n",
       "SVC                                  107             518               20  \n",
       "Voting Classifier                     27             598               15  "
      ]
     },
     "execution_count": 70,
     "metadata": {},
     "output_type": "execute_result"
    }
   ],
   "source": [
    "add_model('Voting Classifier', vc, X_test, y_test)"
   ]
  },
  {
   "cell_type": "markdown",
   "metadata": {},
   "source": [
    "- The voting classifier has the highest F1 score, recall, and ROC AUC from all the models\n",
    "- The false negatives in this model is 15 from a test set of 1250\n",
    "- The F1 score is 97% and the recall is 98%, which are both above 90% => therefore I am comfortable using this model to predict whether or not a post belongs to the r/CryptoCurrency subreddit"
   ]
  },
  {
   "cell_type": "markdown",
   "metadata": {},
   "source": [
    "## 2. Conclusion and Recommendations"
   ]
  },
  {
   "cell_type": "markdown",
   "metadata": {},
   "source": [
    "### 2.1. Final Model\n",
    "\n"
   ]
  },
  {
   "cell_type": "markdown",
   "metadata": {},
   "source": [
    "The goal of this project was to build a binary classification model that could be used to predict if a post on reddit belongs to r/CryptoCurrency or r/stocks. \n",
    "\n",
    "The final model is a voting classifier that uses a random forest classifier, multinomial naive Bayes, and support vector classifier to predict the subreddit based on the text in a given post. This model has an F1 score of 97% and a recall score of 98%, and would therefore be considered successful.  One of the strengths of this model is that it has been trained with over a year’s worth of data, therefore it is less skewed towards hot topics/latest news fluctuations. For example, if the dataset only contained data from the week when El Salvador announced they would adopt bitcoin as legal tender, the model may place too much importance on “El Salvador”, and may incorrectly predict only posts related to El Salvador as posts about cryptocurrency. By training the model with over a year’s worth of data, the model should be able to classify a broader range of posts with a higher accuracy. \n",
    "\n",
    "CryptoGo will be able to use this model to show their advertisement on posts that are most relevant to cryptocurrency. If CryptoGo wants to spend 2000 dollars on its reddit advertising campaign and every advertisement placement on reddit costs 1 dollar, ideally they would want to spend 2000 dollars on posts that users interested in cryptocurrency would see. If they were to target random posts in the r/Stocks and r/CryptoCurrency, they would spend approximately 1000 dollars on the correct audience, and approximately 1000 dollars on the wrong audience. Instead, if CryptoGo used this model to only target posts they predicted are interested in cryptocurrency, they would spend 1,915 dollars on the correct audience, and only 85 dollars on the wrong audience (the false positive rate is 4.2%). This would save 915 dollars that was being allocated incorrectly to target the wrong audience."
   ]
  },
  {
   "cell_type": "markdown",
   "metadata": {},
   "source": [
    "### 2.2. Businness Recommendations"
   ]
  },
  {
   "cell_type": "markdown",
   "metadata": {},
   "source": [
    "In addition to classifying posts for targeted marketing, the sentiment analysis can also be used to identify posts that have a higher positive polarity score and may therefore be more receptive to advertisements related to cryptocurrency products. For example, many of the posts with a high positive polarity score in r/CryptoCurrency are related to free money, or happiness, or see high potential in investing in cryptocurrency. Showing advertisements alongside such posts would bring in more customers than showing advertisements with posts that have high negative polarity scores, where many posts are concerned about being scammed or losing money through investing in cryptocurrency.  This may also be useful to note when planning the marketing strategy for CryptoGo - while the target audience is interested in earning “free” money or getting high returns, there is a concern that cryptocurrency products are high risk and maybe scams, so it would be important to assure potential customers through marketing that CryptoGo is a trustworthy company. \n",
    "\n",
    "CryptoGo also wanted to know key words and phrases that are unique among people interested in cryptocurrency when compared to other financial products such as stocks. Some of these key phrases are ‘hardware wallet’, ‘bitcoin mining’, and ‘smart contracts’.  It is also worth noting that two of the most frequent phrases in r/CryptoCurrency are “Saylor Academy” and “National Paralegal College”. Both institutions provide free online courses for people who are interested in learning more about cryptocurrency. As people who either post about or read posts about these courses are looking for resources to begin their cryptocurrency journey, it could be a good strategy to target marketing towards posts mentioning these institutions."
   ]
  },
  {
   "cell_type": "markdown",
   "metadata": {},
   "source": [
    "### 2.3. Further Steps"
   ]
  },
  {
   "cell_type": "markdown",
   "metadata": {},
   "source": [
    "The purpose of this model in production is to be able to identify posts that are similar to posts in r/CryptoCurrency across other subreddits. This will help CryptoGo to target their marketing to other active subreddits that have a similar interest in cryptocurrency, and would therefore be more likely to invest with CryptoGo.  In order to make the model more robust, it would be good to train the model on other (both financial and non-financial) subreddits as well, so that the model is better at predicting cryptocurrency related posts against a variety of other posts. \n",
    "Depending on how the marketing campaign on Reddit is received, the model could also be trained on other social media platforms to expand CryptoGo’s marketing to platforms such as YoutTube or Instagram. Additionally, training the model on cryptocurrency related news articles may help the model to identify posts linked to current events that are also relevant to cryptocurrency."
   ]
  }
 ],
 "metadata": {
  "kernelspec": {
   "display_name": "Python 3",
   "language": "python",
   "name": "python3"
  },
  "language_info": {
   "codemirror_mode": {
    "name": "ipython",
    "version": 3
   },
   "file_extension": ".py",
   "mimetype": "text/x-python",
   "name": "python",
   "nbconvert_exporter": "python",
   "pygments_lexer": "ipython3",
   "version": "3.8.5"
  }
 },
 "nbformat": 4,
 "nbformat_minor": 4
}
